{
 "cells": [
  {
   "cell_type": "markdown",
   "metadata": {},
   "source": [
    "# Creating a Sentiment Analysis Web App\n",
    "## Using PyTorch and SageMaker\n",
    "\n",
    "_Deep Learning Nanodegree Program | Deployment_\n",
    "\n",
    "---\n",
    "\n",
    "Now that we have a basic understanding of how SageMaker works we will try to use it to construct a complete project from end to end. Our goal will be to have a simple web page which a user can use to enter a movie review. The web page will then send the review off to our deployed model which will predict the sentiment of the entered review.\n",
    "\n",
    "## Instructions\n",
    "\n",
    "Some template code has already been provided for you, and you will need to implement additional functionality to successfully complete this notebook. You will not need to modify the included code beyond what is requested. Sections that begin with '**TODO**' in the header indicate that you need to complete or implement some portion within them. Instructions will be provided for each section and the specifics of the implementation are marked in the code block with a `# TODO: ...` comment. Please be sure to read the instructions carefully!\n",
    "\n",
    "In addition to implementing code, there will be questions for you to answer which relate to the task and your implementation. Each section where you will answer a question is preceded by a '**Question:**' header. Carefully read each question and provide your answer below the '**Answer:**' header by editing the Markdown cell.\n",
    "\n",
    "> **Note**: Code and Markdown cells can be executed using the **Shift+Enter** keyboard shortcut. In addition, a cell can be edited by typically clicking it (double-click for Markdown cells) or by pressing **Enter** while it is highlighted.\n",
    "\n",
    "## General Outline\n",
    "\n",
    "Recall the general outline for SageMaker projects using a notebook instance.\n",
    "\n",
    "1. Download or otherwise retrieve the data.\n",
    "2. Process / Prepare the data.\n",
    "3. Upload the processed data to S3.\n",
    "4. Train a chosen model.\n",
    "5. Test the trained model (typically using a batch transform job).\n",
    "6. Deploy the trained model.\n",
    "7. Use the deployed model.\n",
    "\n",
    "For this project, you will be following the steps in the general outline with some modifications. \n",
    "\n",
    "First, you will not be testing the model in its own step. You will still be testing the model, however, you will do it by deploying your model and then using the deployed model by sending the test data to it. One of the reasons for doing this is so that you can make sure that your deployed model is working correctly before moving forward.\n",
    "\n",
    "In addition, you will deploy and use your trained model a second time. In the second iteration you will customize the way that your trained model is deployed by including some of your own code. In addition, your newly deployed model will be used in the sentiment analysis web app."
   ]
  },
  {
   "cell_type": "markdown",
   "metadata": {},
   "source": [
    "## Step 1: Downloading the data\n",
    "\n",
    "As in the XGBoost in SageMaker notebook, we will be using the [IMDb dataset](http://ai.stanford.edu/~amaas/data/sentiment/)\n",
    "\n",
    "> Maas, Andrew L., et al. [Learning Word Vectors for Sentiment Analysis](http://ai.stanford.edu/~amaas/data/sentiment/). In _Proceedings of the 49th Annual Meeting of the Association for Computational Linguistics: Human Language Technologies_. Association for Computational Linguistics, 2011."
   ]
  },
  {
   "cell_type": "code",
   "execution_count": 2,
   "metadata": {},
   "outputs": [
    {
     "name": "stdout",
     "output_type": "stream",
     "text": [
      "mkdir: cannot create directory ‘../data’: File exists\n",
      "--2020-04-09 07:14:37--  http://ai.stanford.edu/~amaas/data/sentiment/aclImdb_v1.tar.gz\n",
      "Resolving ai.stanford.edu (ai.stanford.edu)... 171.64.68.10\n",
      "Connecting to ai.stanford.edu (ai.stanford.edu)|171.64.68.10|:80... connected.\n",
      "HTTP request sent, awaiting response... 200 OK\n",
      "Length: 84125825 (80M) [application/x-gzip]\n",
      "Saving to: ‘../data/aclImdb_v1.tar.gz’\n",
      "\n",
      "../data/aclImdb_v1. 100%[===================>]  80.23M  13.7MB/s    in 8.0s    \n",
      "\n",
      "2020-04-09 07:14:46 (10.1 MB/s) - ‘../data/aclImdb_v1.tar.gz’ saved [84125825/84125825]\n",
      "\n"
     ]
    }
   ],
   "source": [
    "%mkdir ../data\n",
    "!wget -O ../data/aclImdb_v1.tar.gz http://ai.stanford.edu/~amaas/data/sentiment/aclImdb_v1.tar.gz\n",
    "!tar -zxf ../data/aclImdb_v1.tar.gz -C ../data"
   ]
  },
  {
   "cell_type": "markdown",
   "metadata": {},
   "source": [
    "## Step 2: Preparing and Processing the data\n",
    "\n",
    "Also, as in the XGBoost notebook, we will be doing some initial data processing. The first few steps are the same as in the XGBoost example. To begin with, we will read in each of the reviews and combine them into a single input structure. Then, we will split the dataset into a training set and a testing set."
   ]
  },
  {
   "cell_type": "code",
   "execution_count": 3,
   "metadata": {},
   "outputs": [],
   "source": [
    "import os\n",
    "import glob\n",
    "\n",
    "def read_imdb_data(data_dir='../data/aclImdb'):\n",
    "    data = {}\n",
    "    labels = {}\n",
    "    \n",
    "    for data_type in ['train', 'test']:\n",
    "        data[data_type] = {}\n",
    "        labels[data_type] = {}\n",
    "        \n",
    "        for sentiment in ['pos', 'neg']:\n",
    "            data[data_type][sentiment] = []\n",
    "            labels[data_type][sentiment] = []\n",
    "            \n",
    "            path = os.path.join(data_dir, data_type, sentiment, '*.txt')\n",
    "            files = glob.glob(path)\n",
    "            \n",
    "            for f in files:\n",
    "                with open(f) as review:\n",
    "                    data[data_type][sentiment].append(review.read())\n",
    "                    # Here we represent a positive review by '1' and a negative review by '0'\n",
    "                    labels[data_type][sentiment].append(1 if sentiment == 'pos' else 0)\n",
    "                    \n",
    "            assert len(data[data_type][sentiment]) == len(labels[data_type][sentiment]), \\\n",
    "                    \"{}/{} data size does not match labels size\".format(data_type, sentiment)\n",
    "                \n",
    "    return data, labels"
   ]
  },
  {
   "cell_type": "code",
   "execution_count": 4,
   "metadata": {},
   "outputs": [
    {
     "name": "stdout",
     "output_type": "stream",
     "text": [
      "IMDB reviews: train = 12500 pos / 12500 neg, test = 12500 pos / 12500 neg\n"
     ]
    }
   ],
   "source": [
    "data, labels = read_imdb_data()\n",
    "print(\"IMDB reviews: train = {} pos / {} neg, test = {} pos / {} neg\".format(\n",
    "            len(data['train']['pos']), len(data['train']['neg']),\n",
    "            len(data['test']['pos']), len(data['test']['neg'])))"
   ]
  },
  {
   "cell_type": "markdown",
   "metadata": {},
   "source": [
    "Now that we've read the raw training and testing data from the downloaded dataset, we will combine the positive and negative reviews and shuffle the resulting records."
   ]
  },
  {
   "cell_type": "code",
   "execution_count": 5,
   "metadata": {},
   "outputs": [],
   "source": [
    "from sklearn.utils import shuffle\n",
    "\n",
    "def prepare_imdb_data(data, labels):\n",
    "    \"\"\"Prepare training and test sets from IMDb movie reviews.\"\"\"\n",
    "    \n",
    "    #Combine positive and negative reviews and labels\n",
    "    data_train = data['train']['pos'] + data['train']['neg']\n",
    "    data_test = data['test']['pos'] + data['test']['neg']\n",
    "    labels_train = labels['train']['pos'] + labels['train']['neg']\n",
    "    labels_test = labels['test']['pos'] + labels['test']['neg']\n",
    "    \n",
    "    #Shuffle reviews and corresponding labels within training and test sets\n",
    "    data_train, labels_train = shuffle(data_train, labels_train)\n",
    "    data_test, labels_test = shuffle(data_test, labels_test)\n",
    "    \n",
    "    # Return a unified training data, test data, training labels, test labets\n",
    "    return data_train, data_test, labels_train, labels_test"
   ]
  },
  {
   "cell_type": "code",
   "execution_count": 6,
   "metadata": {},
   "outputs": [
    {
     "name": "stdout",
     "output_type": "stream",
     "text": [
      "IMDb reviews (combined): train = 25000, test = 25000\n"
     ]
    }
   ],
   "source": [
    "train_X, test_X, train_y, test_y = prepare_imdb_data(data, labels)\n",
    "print(\"IMDb reviews (combined): train = {}, test = {}\".format(len(train_X), len(test_X)))"
   ]
  },
  {
   "cell_type": "markdown",
   "metadata": {},
   "source": [
    "Now that we have our training and testing sets unified and prepared, we should do a quick check and see an example of the data our model will be trained on. This is generally a good idea as it allows you to see how each of the further processing steps affects the reviews and it also ensures that the data has been loaded correctly."
   ]
  },
  {
   "cell_type": "code",
   "execution_count": 7,
   "metadata": {},
   "outputs": [
    {
     "name": "stdout",
     "output_type": "stream",
     "text": [
      "This movie barely followed the story line of the movie. All of the fascinating points in the book didn't even exist in the movie. They ended up turning it into a cheesy \"tween\" Disney movie \"crush\" story between Meg and Calvin. It was so bad it should have been Hillary Duff playing the part, or one of the likes. This movie was nothing more than an insult to the intelligence and mysticism of the book. I can't believe Disney could even get away with making such a cheap, basic rendition. If you've ever read the book, I think you would agree it could easily be made into a movie of \"Lord of the Rings\" equivalence. This movie should have never been able to use the title of A Wrinkle in Time. Poorly done.\n",
      "0\n"
     ]
    }
   ],
   "source": [
    "print(train_X[100])\n",
    "print(train_y[100])"
   ]
  },
  {
   "cell_type": "markdown",
   "metadata": {},
   "source": [
    "The first step in processing the reviews is to make sure that any html tags that appear should be removed. In addition we wish to tokenize our input, that way words such as *entertained* and *entertaining* are considered the same with regard to sentiment analysis."
   ]
  },
  {
   "cell_type": "code",
   "execution_count": 8,
   "metadata": {},
   "outputs": [],
   "source": [
    "import nltk\n",
    "from nltk.corpus import stopwords\n",
    "from nltk.stem.porter import *\n",
    "\n",
    "import re\n",
    "from bs4 import BeautifulSoup\n",
    "\n",
    "def review_to_words(review):\n",
    "    nltk.download(\"stopwords\", quiet=True)\n",
    "    stemmer = PorterStemmer()\n",
    "    \n",
    "    text = BeautifulSoup(review, \"html.parser\").get_text() # Remove HTML tags\n",
    "    text = re.sub(r\"[^a-zA-Z0-9]\", \" \", text.lower()) # Convert to lower case\n",
    "    words = text.split() # Split string into words\n",
    "    words = [w for w in words if w not in stopwords.words(\"english\")] # Remove stopwords\n",
    "    words = [PorterStemmer().stem(w) for w in words] # stem\n",
    "    \n",
    "    return words"
   ]
  },
  {
   "cell_type": "markdown",
   "metadata": {},
   "source": [
    "The `review_to_words` method defined above uses `BeautifulSoup` to remove any html tags that appear and uses the `nltk` package to tokenize the reviews. As a check to ensure we know how everything is working, try applying `review_to_words` to one of the reviews in the training set."
   ]
  },
  {
   "cell_type": "code",
   "execution_count": 11,
   "metadata": {},
   "outputs": [
    {
     "data": {
      "text/plain": [
       "['movi',\n",
       " 'bare',\n",
       " 'follow',\n",
       " 'stori',\n",
       " 'line',\n",
       " 'movi',\n",
       " 'fascin',\n",
       " 'point',\n",
       " 'book',\n",
       " 'even',\n",
       " 'exist',\n",
       " 'movi',\n",
       " 'end',\n",
       " 'turn',\n",
       " 'cheesi',\n",
       " 'tween',\n",
       " 'disney',\n",
       " 'movi',\n",
       " 'crush',\n",
       " 'stori',\n",
       " 'meg',\n",
       " 'calvin',\n",
       " 'bad',\n",
       " 'hillari',\n",
       " 'duff',\n",
       " 'play',\n",
       " 'part',\n",
       " 'one',\n",
       " 'like',\n",
       " 'movi',\n",
       " 'noth',\n",
       " 'insult',\n",
       " 'intellig',\n",
       " 'mystic',\n",
       " 'book',\n",
       " 'believ',\n",
       " 'disney',\n",
       " 'could',\n",
       " 'even',\n",
       " 'get',\n",
       " 'away',\n",
       " 'make',\n",
       " 'cheap',\n",
       " 'basic',\n",
       " 'rendit',\n",
       " 'ever',\n",
       " 'read',\n",
       " 'book',\n",
       " 'think',\n",
       " 'would',\n",
       " 'agre',\n",
       " 'could',\n",
       " 'easili',\n",
       " 'made',\n",
       " 'movi',\n",
       " 'lord',\n",
       " 'ring',\n",
       " 'equival',\n",
       " 'movi',\n",
       " 'never',\n",
       " 'abl',\n",
       " 'use',\n",
       " 'titl',\n",
       " 'wrinkl',\n",
       " 'time',\n",
       " 'poorli',\n",
       " 'done']"
      ]
     },
     "execution_count": 11,
     "metadata": {},
     "output_type": "execute_result"
    }
   ],
   "source": [
    "# TODO: Apply review_to_words to a review (train_X[100] or any other review)\n",
    "review_to_words(train_X[100])"
   ]
  },
  {
   "cell_type": "markdown",
   "metadata": {},
   "source": [
    "**Question:** Above we mentioned that `review_to_words` method removes html formatting and allows us to tokenize the words found in a review, for example, converting *entertained* and *entertaining* into *entertain* so that they are treated as though they are the same word. What else, if anything, does this method do to the input?"
   ]
  },
  {
   "cell_type": "markdown",
   "metadata": {},
   "source": [
    "**Answer:**"
   ]
  },
  {
   "cell_type": "markdown",
   "metadata": {},
   "source": [
    "The method below applies the `review_to_words` method to each of the reviews in the training and testing datasets. In addition it caches the results. This is because performing this processing step can take a long time. This way if you are unable to complete the notebook in the current session, you can come back without needing to process the data a second time."
   ]
  },
  {
   "cell_type": "code",
   "execution_count": 12,
   "metadata": {},
   "outputs": [],
   "source": [
    "import pickle\n",
    "\n",
    "cache_dir = os.path.join(\"../cache\", \"sentiment_analysis\")  # where to store cache files\n",
    "os.makedirs(cache_dir, exist_ok=True)  # ensure cache directory exists\n",
    "\n",
    "def preprocess_data(data_train, data_test, labels_train, labels_test,\n",
    "                    cache_dir=cache_dir, cache_file=\"preprocessed_data.pkl\"):\n",
    "    \"\"\"Convert each review to words; read from cache if available.\"\"\"\n",
    "\n",
    "    # If cache_file is not None, try to read from it first\n",
    "    cache_data = None\n",
    "    if cache_file is not None:\n",
    "        try:\n",
    "            with open(os.path.join(cache_dir, cache_file), \"rb\") as f:\n",
    "                cache_data = pickle.load(f)\n",
    "            print(\"Read preprocessed data from cache file:\", cache_file)\n",
    "        except:\n",
    "            pass  # unable to read from cache, but that's okay\n",
    "    \n",
    "    # If cache is missing, then do the heavy lifting\n",
    "    if cache_data is None:\n",
    "        # Preprocess training and test data to obtain words for each review\n",
    "        #words_train = list(map(review_to_words, data_train))\n",
    "        #words_test = list(map(review_to_words, data_test))\n",
    "        words_train = [review_to_words(review) for review in data_train]\n",
    "        words_test = [review_to_words(review) for review in data_test]\n",
    "        \n",
    "        # Write to cache file for future runs\n",
    "        if cache_file is not None:\n",
    "            cache_data = dict(words_train=words_train, words_test=words_test,\n",
    "                              labels_train=labels_train, labels_test=labels_test)\n",
    "            with open(os.path.join(cache_dir, cache_file), \"wb\") as f:\n",
    "                pickle.dump(cache_data, f)\n",
    "            print(\"Wrote preprocessed data to cache file:\", cache_file)\n",
    "    else:\n",
    "        # Unpack data loaded from cache file\n",
    "        words_train, words_test, labels_train, labels_test = (cache_data['words_train'],\n",
    "                cache_data['words_test'], cache_data['labels_train'], cache_data['labels_test'])\n",
    "    \n",
    "    return words_train, words_test, labels_train, labels_test"
   ]
  },
  {
   "cell_type": "code",
   "execution_count": 13,
   "metadata": {},
   "outputs": [
    {
     "name": "stdout",
     "output_type": "stream",
     "text": [
      "Read preprocessed data from cache file: preprocessed_data.pkl\n"
     ]
    }
   ],
   "source": [
    "# Preprocess data\n",
    "train_X, test_X, train_y, test_y = preprocess_data(train_X, test_X, train_y, test_y)"
   ]
  },
  {
   "cell_type": "markdown",
   "metadata": {},
   "source": [
    "## Transform the data\n",
    "\n",
    "In the XGBoost notebook we transformed the data from its word representation to a bag-of-words feature representation. For the model we are going to construct in this notebook we will construct a feature representation which is very similar. To start, we will represent each word as an integer. Of course, some of the words that appear in the reviews occur very infrequently and so likely don't contain much information for the purposes of sentiment analysis. The way we will deal with this problem is that we will fix the size of our working vocabulary and we will only include the words that appear most frequently. We will then combine all of the infrequent words into a single category and, in our case, we will label it as `1`.\n",
    "\n",
    "Since we will be using a recurrent neural network, it will be convenient if the length of each review is the same. To do this, we will fix a size for our reviews and then pad short reviews with the category 'no word' (which we will label `0`) and truncate long reviews."
   ]
  },
  {
   "cell_type": "markdown",
   "metadata": {},
   "source": [
    "### (TODO) Create a word dictionary\n",
    "\n",
    "To begin with, we need to construct a way to map words that appear in the reviews to integers. Here we fix the size of our vocabulary (including the 'no word' and 'infrequent' categories) to be `5000` but you may wish to change this to see how it affects the model.\n",
    "\n",
    "> **TODO:** Complete the implementation for the `build_dict()` method below. Note that even though the vocab_size is set to `5000`, we only want to construct a mapping for the most frequently appearing `4998` words. This is because we want to reserve the special labels `0` for 'no word' and `1` for 'infrequent word'."
   ]
  },
  {
   "cell_type": "code",
   "execution_count": 14,
   "metadata": {},
   "outputs": [],
   "source": [
    "import numpy as np\n",
    "\n",
    "def build_dict(data, vocab_size = 5000):\n",
    "    \"\"\"Construct and return a dictionary mapping each of the most frequently appearing words to a unique integer.\"\"\"\n",
    "    \n",
    "    # TODO: Determine how often each word appears in `data`. Note that `data` is a list of sentences and that a\n",
    "    #       sentence is a list of words.\n",
    "    \n",
    "    word_count = {} # A dict storing the words that appear in the reviews along with how often they occur\n",
    "    for sentence in data:\n",
    "        for word in sentence:\n",
    "            if word in word_count:\n",
    "                word_count[word] +=1\n",
    "            else:\n",
    "                word_count[word] = 1\n",
    "    \n",
    "    # TODO: Sort the words found in `data` so that sorted_words[0] is the most frequently appearing word and\n",
    "    #       sorted_words[-1] is the least frequently appearing word.\n",
    "    \n",
    "    sorted_words = None\n",
    "    sorted_words = sorted(word_count, key = word_count.get, reverse=True)\n",
    "    \n",
    "    word_dict = {} # This is what we are building, a dictionary that translates words into integers\n",
    "    for idx, word in enumerate(sorted_words[:vocab_size - 2]): # The -2 is so that we save room for the 'no word'\n",
    "        word_dict[word] = idx + 2                              # 'infrequent' labels\n",
    "        \n",
    "    return word_dict"
   ]
  },
  {
   "cell_type": "code",
   "execution_count": 15,
   "metadata": {},
   "outputs": [],
   "source": [
    "word_dict = build_dict(train_X)"
   ]
  },
  {
   "cell_type": "code",
   "execution_count": 16,
   "metadata": {},
   "outputs": [
    {
     "name": "stdout",
     "output_type": "stream",
     "text": [
      "{'movi': 2, 'film': 3, 'one': 4, 'like': 5, 'time': 6, 'good': 7, 'make': 8, 'charact': 9, 'get': 10, 'see': 11, 'watch': 12, 'stori': 13, 'even': 14, 'would': 15, 'realli': 16, 'well': 17, 'scene': 18, 'look': 19, 'show': 20, 'much': 21, 'end': 22, 'peopl': 23, 'bad': 24, 'go': 25, 'great': 26, 'also': 27, 'first': 28, 'love': 29, 'think': 30, 'way': 31, 'act': 32, 'play': 33, 'made': 34, 'thing': 35, 'could': 36, 'know': 37, 'say': 38, 'seem': 39, 'work': 40, 'plot': 41, 'two': 42, 'actor': 43, 'year': 44, 'come': 45, 'mani': 46, 'seen': 47, 'take': 48, 'life': 49, 'want': 50, 'never': 51, 'littl': 52, 'best': 53, 'tri': 54, 'man': 55, 'ever': 56, 'give': 57, 'better': 58, 'still': 59, 'perform': 60, 'find': 61, 'feel': 62, 'part': 63, 'back': 64, 'use': 65, 'someth': 66, 'director': 67, 'actual': 68, 'interest': 69, 'lot': 70, 'real': 71, 'old': 72, 'cast': 73, 'though': 74, 'live': 75, 'star': 76, 'enjoy': 77, 'guy': 78, 'anoth': 79, 'new': 80, 'role': 81, 'noth': 82, '10': 83, 'funni': 84, 'music': 85, 'point': 86, 'start': 87, 'set': 88, 'girl': 89, 'origin': 90, 'day': 91, 'world': 92, 'everi': 93, 'believ': 94, 'turn': 95, 'quit': 96, 'direct': 97, 'us': 98, 'thought': 99, 'fact': 100, 'minut': 101, 'horror': 102, 'kill': 103, 'action': 104, 'comedi': 105, 'pretti': 106, 'young': 107, 'wonder': 108, 'happen': 109, 'around': 110, 'got': 111, 'effect': 112, 'right': 113, 'long': 114, 'howev': 115, 'big': 116, 'line': 117, 'famili': 118, 'enough': 119, 'seri': 120, 'may': 121, 'need': 122, 'fan': 123, 'bit': 124, 'script': 125, 'beauti': 126, 'person': 127, 'becom': 128, 'without': 129, 'must': 130, 'alway': 131, 'friend': 132, 'tell': 133, 'reason': 134, 'saw': 135, 'last': 136, 'final': 137, 'kid': 138, 'almost': 139, 'put': 140, 'least': 141, 'sure': 142, 'done': 143, 'whole': 144, 'place': 145, 'complet': 146, 'kind': 147, 'expect': 148, 'differ': 149, 'shot': 150, 'far': 151, 'mean': 152, 'anyth': 153, 'book': 154, 'laugh': 155, 'might': 156, 'name': 157, 'sinc': 158, 'begin': 159, '2': 160, 'probabl': 161, 'woman': 162, 'help': 163, 'entertain': 164, 'let': 165, 'screen': 166, 'call': 167, 'tv': 168, 'moment': 169, 'away': 170, 'read': 171, 'yet': 172, 'rather': 173, 'worst': 174, 'run': 175, 'fun': 176, 'lead': 177, 'hard': 178, 'audienc': 179, 'idea': 180, 'anyon': 181, 'episod': 182, 'american': 183, 'found': 184, 'appear': 185, 'bore': 186, 'especi': 187, 'although': 188, 'hope': 189, 'cours': 190, 'keep': 191, 'anim': 192, 'job': 193, 'goe': 194, 'move': 195, 'sens': 196, 'dvd': 197, 'version': 198, 'war': 199, 'money': 200, 'someon': 201, 'mind': 202, 'mayb': 203, 'problem': 204, 'true': 205, 'hous': 206, 'everyth': 207, 'nice': 208, 'second': 209, 'rate': 210, 'three': 211, 'night': 212, 'follow': 213, 'face': 214, 'recommend': 215, 'product': 216, 'main': 217, 'worth': 218, 'leav': 219, 'human': 220, 'special': 221, 'excel': 222, 'togeth': 223, 'wast': 224, 'everyon': 225, 'sound': 226, 'john': 227, 'hand': 228, '1': 229, 'father': 230, 'later': 231, 'eye': 232, 'said': 233, 'view': 234, 'instead': 235, 'review': 236, 'boy': 237, 'high': 238, 'hour': 239, 'miss': 240, 'classic': 241, 'talk': 242, 'wife': 243, 'understand': 244, 'left': 245, 'care': 246, 'black': 247, 'death': 248, 'open': 249, 'murder': 250, 'write': 251, 'half': 252, 'head': 253, 'rememb': 254, 'chang': 255, 'viewer': 256, 'fight': 257, 'gener': 258, 'surpris': 259, 'short': 260, 'includ': 261, 'die': 262, 'fall': 263, 'less': 264, 'els': 265, 'entir': 266, 'piec': 267, 'involv': 268, 'pictur': 269, 'simpli': 270, 'power': 271, 'home': 272, 'top': 273, 'total': 274, 'usual': 275, 'budget': 276, 'attempt': 277, 'suppos': 278, 'releas': 279, 'hollywood': 280, 'terribl': 281, 'song': 282, 'men': 283, 'possibl': 284, 'featur': 285, 'portray': 286, 'disappoint': 287, 'poor': 288, '3': 289, 'coupl': 290, 'camera': 291, 'stupid': 292, 'dead': 293, 'wrong': 294, 'low': 295, 'produc': 296, 'video': 297, 'either': 298, 'aw': 299, 'definit': 300, 'except': 301, 'rest': 302, 'given': 303, 'absolut': 304, 'women': 305, 'lack': 306, 'word': 307, 'writer': 308, 'titl': 309, 'talent': 310, 'decid': 311, 'full': 312, 'perfect': 313, 'along': 314, 'style': 315, 'close': 316, 'truli': 317, 'school': 318, 'emot': 319, 'save': 320, 'sex': 321, 'age': 322, 'next': 323, 'bring': 324, 'mr': 325, 'case': 326, 'killer': 327, 'heart': 328, 'comment': 329, 'sort': 330, 'creat': 331, 'perhap': 332, 'came': 333, 'brother': 334, 'sever': 335, 'joke': 336, 'art': 337, 'dialogu': 338, 'game': 339, 'small': 340, 'base': 341, 'flick': 342, 'written': 343, 'sequenc': 344, 'meet': 345, 'earli': 346, 'often': 347, 'other': 348, 'mother': 349, 'develop': 350, 'humor': 351, 'actress': 352, 'consid': 353, 'dark': 354, 'guess': 355, 'amaz': 356, 'unfortun': 357, 'lost': 358, 'light': 359, 'exampl': 360, 'cinema': 361, 'drama': 362, 'ye': 363, 'white': 364, 'experi': 365, 'imagin': 366, 'mention': 367, 'stop': 368, 'natur': 369, 'forc': 370, 'manag': 371, 'felt': 372, 'present': 373, 'cut': 374, 'children': 375, 'fail': 376, 'son': 377, 'qualiti': 378, 'support': 379, 'car': 380, 'ask': 381, 'hit': 382, 'side': 383, 'voic': 384, 'extrem': 385, 'impress': 386, 'wors': 387, 'evil': 388, 'stand': 389, 'went': 390, 'certainli': 391, 'basic': 392, 'oh': 393, 'overal': 394, 'favorit': 395, 'horribl': 396, 'mysteri': 397, 'number': 398, 'type': 399, 'danc': 400, 'wait': 401, 'hero': 402, 'alreadi': 403, '5': 404, 'learn': 405, 'matter': 406, '4': 407, 'michael': 408, 'genr': 409, 'fine': 410, 'despit': 411, 'throughout': 412, 'walk': 413, 'success': 414, 'histori': 415, 'question': 416, 'zombi': 417, 'town': 418, 'realiz': 419, 'relationship': 420, 'child': 421, 'past': 422, 'daughter': 423, 'late': 424, 'b': 425, 'wish': 426, 'hate': 427, 'credit': 428, 'event': 429, 'theme': 430, 'touch': 431, 'citi': 432, 'today': 433, 'sometim': 434, 'behind': 435, 'god': 436, 'twist': 437, 'sit': 438, 'stay': 439, 'deal': 440, 'annoy': 441, 'abl': 442, 'rent': 443, 'pleas': 444, 'edit': 445, 'blood': 446, 'deserv': 447, 'comic': 448, 'anyway': 449, 'appar': 450, 'soon': 451, 'gave': 452, 'etc': 453, 'level': 454, 'slow': 455, 'chanc': 456, 'score': 457, 'bodi': 458, 'brilliant': 459, 'incred': 460, 'figur': 461, 'situat': 462, 'self': 463, 'major': 464, 'stuff': 465, 'decent': 466, 'element': 467, 'dream': 468, 'return': 469, 'obvious': 470, 'continu': 471, 'order': 472, 'pace': 473, 'ridicul': 474, 'happi': 475, 'group': 476, 'add': 477, 'highli': 478, 'thank': 479, 'ladi': 480, 'novel': 481, 'speak': 482, 'pain': 483, 'career': 484, 'shoot': 485, 'strang': 486, 'heard': 487, 'sad': 488, 'husband': 489, 'polic': 490, 'import': 491, 'break': 492, 'took': 493, 'cannot': 494, 'strong': 495, 'robert': 496, 'predict': 497, 'violenc': 498, 'hilari': 499, 'recent': 500, 'countri': 501, 'known': 502, 'particularli': 503, 'pick': 504, 'documentari': 505, 'season': 506, 'critic': 507, 'jame': 508, 'compar': 509, 'obviou': 510, 'alon': 511, 'told': 512, 'state': 513, 'rock': 514, 'visual': 515, 'offer': 516, 'exist': 517, 'theater': 518, 'opinion': 519, 'gore': 520, 'crap': 521, 'hold': 522, 'result': 523, 'hear': 524, 'room': 525, 'realiti': 526, 'effort': 527, 'clich': 528, 'thriller': 529, 'caus': 530, 'sequel': 531, 'explain': 532, 'serious': 533, 'king': 534, 'local': 535, 'ago': 536, 'none': 537, 'hell': 538, 'note': 539, 'allow': 540, 'sister': 541, 'david': 542, 'simpl': 543, 'femal': 544, 'deliv': 545, 'ok': 546, 'class': 547, 'convinc': 548, 'check': 549, 'suspens': 550, 'win': 551, 'buy': 552, 'oscar': 553, 'huge': 554, 'valu': 555, 'sexual': 556, 'cool': 557, 'scari': 558, 'excit': 559, 'similar': 560, 'exactli': 561, 'provid': 562, 'apart': 563, 'shown': 564, 'avoid': 565, 'seriou': 566, 'english': 567, 'whose': 568, 'taken': 569, 'cinematographi': 570, 'shock': 571, 'polit': 572, 'spoiler': 573, 'offic': 574, 'across': 575, 'middl': 576, 'pass': 577, 'street': 578, 'messag': 579, 'silli': 580, 'charm': 581, 'somewhat': 582, 'modern': 583, 'filmmak': 584, 'confus': 585, 'form': 586, 'tale': 587, 'singl': 588, 'jack': 589, 'mostli': 590, 'attent': 591, 'william': 592, 'carri': 593, 'sing': 594, 'five': 595, 'subject': 596, 'prove': 597, 'richard': 598, 'team': 599, 'stage': 600, 'cop': 601, 'unlik': 602, 'georg': 603, 'televis': 604, 'monster': 605, 'earth': 606, 'cover': 607, 'villain': 608, 'pay': 609, 'marri': 610, 'toward': 611, 'build': 612, 'parent': 613, 'pull': 614, 'due': 615, 'fill': 616, 'respect': 617, 'four': 618, 'dialog': 619, 'remind': 620, 'futur': 621, 'typic': 622, 'weak': 623, '7': 624, 'cheap': 625, 'intellig': 626, 'atmospher': 627, 'british': 628, 'clearli': 629, '80': 630, 'non': 631, 'paul': 632, 'dog': 633, 'fast': 634, '8': 635, 'artist': 636, 'knew': 637, 'crime': 638, 'easili': 639, 'escap': 640, 'doubt': 641, 'adult': 642, 'detail': 643, 'date': 644, 'fire': 645, 'member': 646, 'romant': 647, 'gun': 648, 'drive': 649, 'straight': 650, 'fit': 651, 'beyond': 652, 'attack': 653, 'imag': 654, 'upon': 655, 'posit': 656, 'whether': 657, 'fantast': 658, 'peter': 659, 'captur': 660, 'aspect': 661, 'appreci': 662, 'ten': 663, 'plan': 664, 'discov': 665, 'remain': 666, 'period': 667, 'near': 668, 'air': 669, 'realist': 670, 'mark': 671, 'red': 672, 'dull': 673, 'adapt': 674, 'within': 675, 'spend': 676, 'lose': 677, 'color': 678, 'materi': 679, 'chase': 680, 'mari': 681, 'storylin': 682, 'forget': 683, 'bunch': 684, 'clear': 685, 'lee': 686, 'victim': 687, 'nearli': 688, 'box': 689, 'york': 690, 'inspir': 691, 'match': 692, 'finish': 693, 'mess': 694, 'standard': 695, 'easi': 696, 'truth': 697, 'suffer': 698, 'busi': 699, 'space': 700, 'bill': 701, 'dramat': 702, 'western': 703, 'e': 704, 'list': 705, 'battl': 706, 'notic': 707, 'de': 708, 'french': 709, 'ad': 710, '9': 711, 'tom': 712, 'larg': 713, 'among': 714, 'eventu': 715, 'train': 716, 'accept': 717, 'agre': 718, 'soundtrack': 719, 'spirit': 720, 'third': 721, 'teenag': 722, 'soldier': 723, 'adventur': 724, 'famou': 725, 'sorri': 726, 'drug': 727, 'suggest': 728, 'cri': 729, 'normal': 730, 'babi': 731, 'troubl': 732, 'ultim': 733, 'contain': 734, 'certain': 735, 'cultur': 736, 'romanc': 737, 'rare': 738, 'lame': 739, 'somehow': 740, 'mix': 741, 'disney': 742, 'gone': 743, 'cartoon': 744, 'student': 745, 'reveal': 746, 'fear': 747, 'kept': 748, 'suck': 749, 'attract': 750, 'appeal': 751, 'premis': 752, 'design': 753, 'secret': 754, 'greatest': 755, 'shame': 756, 'throw': 757, 'copi': 758, 'scare': 759, 'wit': 760, 'admit': 761, 'america': 762, 'relat': 763, 'particular': 764, 'brought': 765, 'screenplay': 766, 'whatev': 767, 'pure': 768, '70': 769, 'averag': 770, 'harri': 771, 'master': 772, 'describ': 773, 'male': 774, 'treat': 775, '20': 776, 'issu': 777, 'fantasi': 778, 'warn': 779, 'inde': 780, 'forward': 781, 'background': 782, 'free': 783, 'project': 784, 'japanes': 785, 'memor': 786, 'poorli': 787, 'award': 788, 'locat': 789, 'potenti': 790, 'amus': 791, 'struggl': 792, 'weird': 793, 'magic': 794, 'societi': 795, 'okay': 796, 'accent': 797, 'doctor': 798, 'imdb': 799, 'hot': 800, 'water': 801, '30': 802, 'dr': 803, 'express': 804, 'alien': 805, 'odd': 806, 'choic': 807, 'crazi': 808, 'studio': 809, 'fiction': 810, 'becam': 811, 'control': 812, 'masterpiec': 813, 'fli': 814, 'difficult': 815, 'joe': 816, 'scream': 817, 'costum': 818, 'lover': 819, 'refer': 820, 'uniqu': 821, 'remak': 822, 'vampir': 823, 'girlfriend': 824, 'prison': 825, 'execut': 826, 'wear': 827, 'jump': 828, 'unless': 829, 'wood': 830, 'creepi': 831, 'cheesi': 832, 'superb': 833, 'otherwis': 834, 'parti': 835, 'ghost': 836, 'roll': 837, 'mad': 838, 'public': 839, 'depict': 840, 'badli': 841, 'jane': 842, 'week': 843, 'moral': 844, 'earlier': 845, 'dumb': 846, 'fi': 847, 'flaw': 848, 'grow': 849, 'deep': 850, 'sci': 851, 'maker': 852, 'cat': 853, 'older': 854, 'footag': 855, 'connect': 856, 'bother': 857, 'plenti': 858, 'outsid': 859, 'stick': 860, 'gay': 861, 'catch': 862, 'co': 863, 'plu': 864, 'popular': 865, 'equal': 866, 'social': 867, 'quickli': 868, 'disturb': 869, 'perfectli': 870, 'dress': 871, '90': 872, 'era': 873, 'mistak': 874, 'lie': 875, 'previou': 876, 'ride': 877, 'combin': 878, 'band': 879, 'concept': 880, 'rich': 881, 'surviv': 882, 'answer': 883, 'front': 884, 'christma': 885, 'sweet': 886, 'insid': 887, 'concern': 888, 'eat': 889, 'bare': 890, 'beat': 891, 'ben': 892, 'listen': 893, 'c': 894, 'term': 895, 'serv': 896, 'la': 897, 'german': 898, 'meant': 899, 'hardli': 900, 'stereotyp': 901, 'law': 902, 'innoc': 903, 'desper': 904, 'promis': 905, 'memori': 906, 'intent': 907, 'cute': 908, 'variou': 909, 'steal': 910, 'inform': 911, 'brain': 912, 'post': 913, 'tone': 914, 'island': 915, 'amount': 916, 'nuditi': 917, 'track': 918, 'compani': 919, 'store': 920, 'claim': 921, 'hair': 922, '50': 923, 'flat': 924, 'univers': 925, 'land': 926, 'kick': 927, 'scott': 928, 'fairli': 929, 'danger': 930, 'player': 931, 'plain': 932, 'crew': 933, 'step': 934, 'toni': 935, 'share': 936, 'tast': 937, 'centuri': 938, 'engag': 939, 'achiev': 940, 'cold': 941, 'travel': 942, 'record': 943, 'suit': 944, 'rip': 945, 'manner': 946, 'sadli': 947, 'spot': 948, 'wrote': 949, 'tension': 950, 'intens': 951, 'fascin': 952, 'familiar': 953, 'burn': 954, 'remark': 955, 'depth': 956, 'destroy': 957, 'histor': 958, 'sleep': 959, 'purpos': 960, 'languag': 961, 'ignor': 962, 'ruin': 963, 'delight': 964, 'italian': 965, 'unbeliev': 966, 'abil': 967, 'collect': 968, 'soul': 969, 'clever': 970, 'detect': 971, 'violent': 972, 'rape': 973, 'reach': 974, 'door': 975, 'trash': 976, 'liter': 977, 'scienc': 978, 'reveng': 979, 'commun': 980, 'caught': 981, 'creatur': 982, 'approach': 983, 'trip': 984, 'fashion': 985, 'intrigu': 986, 'introduc': 987, 'skill': 988, 'paint': 989, 'complex': 990, 'channel': 991, 'camp': 992, 'christian': 993, 'extra': 994, 'hole': 995, 'limit': 996, 'mental': 997, 'immedi': 998, 'ann': 999, '6': 1000, 'million': 1001, 'mere': 1002, 'slightli': 1003, 'comput': 1004, 'slasher': 1005, 'conclus': 1006, 'suddenli': 1007, 'imposs': 1008, 'neither': 1009, 'crimin': 1010, 'teen': 1011, 'physic': 1012, 'spent': 1013, 'nation': 1014, 'respons': 1015, 'planet': 1016, 'fake': 1017, 'receiv': 1018, 'blue': 1019, 'sick': 1020, 'bizarr': 1021, 'embarrass': 1022, 'indian': 1023, '15': 1024, 'ring': 1025, 'pop': 1026, 'drop': 1027, 'drag': 1028, 'haunt': 1029, 'pointless': 1030, 'suspect': 1031, 'edg': 1032, 'search': 1033, 'handl': 1034, 'common': 1035, 'biggest': 1036, 'hurt': 1037, 'faith': 1038, 'arriv': 1039, 'technic': 1040, 'angel': 1041, 'genuin': 1042, 'dad': 1043, 'solid': 1044, 'f': 1045, 'awesom': 1046, 'focu': 1047, 'former': 1048, 'van': 1049, 'colleg': 1050, 'count': 1051, 'tear': 1052, 'heavi': 1053, 'rais': 1054, 'wall': 1055, 'laughabl': 1056, 'visit': 1057, 'younger': 1058, 'fair': 1059, 'sign': 1060, 'excus': 1061, 'cult': 1062, 'tough': 1063, 'motion': 1064, 'key': 1065, 'super': 1066, 'desir': 1067, 'stun': 1068, 'addit': 1069, 'cloth': 1070, 'exploit': 1071, 'tortur': 1072, 'smith': 1073, 'race': 1074, 'davi': 1075, 'author': 1076, 'cross': 1077, 'jim': 1078, 'compel': 1079, 'consist': 1080, 'minor': 1081, 'focus': 1082, 'commit': 1083, 'chemistri': 1084, 'pathet': 1085, 'park': 1086, 'frank': 1087, 'tradit': 1088, 'obsess': 1089, 'grade': 1090, 'asid': 1091, '60': 1092, 'brutal': 1093, 'steve': 1094, 'somewher': 1095, 'depress': 1096, 'u': 1097, 'grant': 1098, 'opportun': 1099, 'rule': 1100, 'explor': 1101, 'honest': 1102, 'besid': 1103, 'anti': 1104, 'dub': 1105, 'trailer': 1106, 'intend': 1107, 'bar': 1108, 'longer': 1109, 'scientist': 1110, 'regard': 1111, 'west': 1112, 'judg': 1113, 'decad': 1114, 'silent': 1115, 'creativ': 1116, 'armi': 1117, 'wild': 1118, 'south': 1119, 'stewart': 1120, 'g': 1121, 'draw': 1122, 'road': 1123, 'govern': 1124, 'ex': 1125, 'boss': 1126, 'practic': 1127, 'gang': 1128, 'club': 1129, 'motiv': 1130, 'surprisingli': 1131, 'festiv': 1132, 'page': 1133, 'redeem': 1134, 'green': 1135, 'london': 1136, 'militari': 1137, 'display': 1138, 'idiot': 1139, 'machin': 1140, 'aliv': 1141, 'thrill': 1142, 'repeat': 1143, 'nobodi': 1144, 'folk': 1145, '100': 1146, 'yeah': 1147, '40': 1148, 'garbag': 1149, 'journey': 1150, 'tire': 1151, 'ground': 1152, 'smile': 1153, 'bought': 1154, 'mood': 1155, 'stone': 1156, 'sam': 1157, 'cost': 1158, 'noir': 1159, 'mouth': 1160, 'terrif': 1161, 'agent': 1162, 'utterli': 1163, 'requir': 1164, 'sexi': 1165, 'area': 1166, 'honestli': 1167, 'report': 1168, 'geniu': 1169, 'enter': 1170, 'glad': 1171, 'investig': 1172, 'humour': 1173, 'serial': 1174, 'passion': 1175, 'occasion': 1176, 'narr': 1177, 'climax': 1178, 'marriag': 1179, 'industri': 1180, 'studi': 1181, 'demon': 1182, 'center': 1183, 'nowher': 1184, 'ship': 1185, 'charli': 1186, 'hors': 1187, 'bear': 1188, 'loos': 1189, 'hang': 1190, 'wow': 1191, 'graphic': 1192, 'admir': 1193, 'giant': 1194, 'send': 1195, 'damn': 1196, 'loud': 1197, 'profession': 1198, 'rel': 1199, 'nake': 1200, 'subtl': 1201, 'blow': 1202, 'bottom': 1203, 'insult': 1204, 'batman': 1205, 'kelli': 1206, 'boyfriend': 1207, 'r': 1208, 'doubl': 1209, 'initi': 1210, 'frame': 1211, 'gem': 1212, 'opera': 1213, 'challeng': 1214, 'drawn': 1215, 'cinemat': 1216, 'affect': 1217, 'church': 1218, 'fulli': 1219, 'seek': 1220, 'nightmar': 1221, 'j': 1222, 'l': 1223, 'evid': 1224, 'arm': 1225, 'conflict': 1226, 'essenti': 1227, 'grace': 1228, 'christoph': 1229, 'henri': 1230, 'wind': 1231, 'witch': 1232, 'narrat': 1233, 'assum': 1234, 'push': 1235, 'hunt': 1236, 'wise': 1237, 'chri': 1238, 'nomin': 1239, 'repres': 1240, 'month': 1241, 'affair': 1242, 'hide': 1243, 'avail': 1244, 'sceneri': 1245, 'bond': 1246, 'justic': 1247, 'thu': 1248, 'smart': 1249, 'flashback': 1250, 'outstand': 1251, 'interview': 1252, 'presenc': 1253, 'satisfi': 1254, 'constantli': 1255, 'bed': 1256, 'central': 1257, 'content': 1258, 'sell': 1259, 'iron': 1260, 'gag': 1261, 'everybodi': 1262, 'slowli': 1263, 'hotel': 1264, 'hire': 1265, 'system': 1266, 'hey': 1267, 'thrown': 1268, 'individu': 1269, 'charl': 1270, 'adam': 1271, 'mediocr': 1272, 'jone': 1273, 'allen': 1274, 'billi': 1275, 'ray': 1276, 'lesson': 1277, 'cameo': 1278, 'photographi': 1279, 'pari': 1280, 'fellow': 1281, 'strike': 1282, 'absurd': 1283, 'rise': 1284, 'brief': 1285, 'independ': 1286, 'neg': 1287, 'impact': 1288, 'phone': 1289, 'born': 1290, 'ill': 1291, 'model': 1292, 'spoil': 1293, 'fresh': 1294, 'angl': 1295, 'abus': 1296, 'likabl': 1297, 'discuss': 1298, 'hill': 1299, 'sight': 1300, 'ahead': 1301, 'photograph': 1302, 'sent': 1303, 'logic': 1304, 'shine': 1305, 'blame': 1306, 'occur': 1307, 'mainli': 1308, 'bruce': 1309, 'skip': 1310, 'commerci': 1311, 'forev': 1312, 'teacher': 1313, 'held': 1314, 'surround': 1315, 'segment': 1316, 'blond': 1317, 'zero': 1318, 'trap': 1319, 'satir': 1320, 'summer': 1321, 'resembl': 1322, 'fool': 1323, 'queen': 1324, 'six': 1325, 'ball': 1326, 'sub': 1327, 'tragedi': 1328, 'twice': 1329, 'reaction': 1330, 'pack': 1331, 'bomb': 1332, 'hospit': 1333, 'will': 1334, 'protagonist': 1335, 'sport': 1336, 'mile': 1337, 'jerri': 1338, 'trust': 1339, 'drink': 1340, 'vote': 1341, 'mom': 1342, 'encount': 1343, 'plane': 1344, 'station': 1345, 'program': 1346, 'current': 1347, 'al': 1348, 'celebr': 1349, 'choos': 1350, 'martin': 1351, 'join': 1352, 'favourit': 1353, 'round': 1354, 'tragic': 1355, 'field': 1356, 'lord': 1357, 'jean': 1358, 'vision': 1359, 'robot': 1360, 'tie': 1361, 'arthur': 1362, 'roger': 1363, 'random': 1364, 'fortun': 1365, 'intern': 1366, 'psycholog': 1367, 'dread': 1368, 'prefer': 1369, 'epic': 1370, 'nonsens': 1371, 'improv': 1372, 'legend': 1373, 'pleasur': 1374, 'formula': 1375, 'highlight': 1376, 'tape': 1377, '11': 1378, 'dollar': 1379, 'wide': 1380, 'object': 1381, 'thin': 1382, 'fox': 1383, 'porn': 1384, 'gorgeou': 1385, 'ugli': 1386, 'buddi': 1387, 'influenc': 1388, 'nasti': 1389, 'prepar': 1390, 'ii': 1391, 'warm': 1392, 'supposedli': 1393, 'reflect': 1394, 'progress': 1395, 'youth': 1396, 'worthi': 1397, 'length': 1398, 'latter': 1399, 'unusu': 1400, 'crash': 1401, 'shop': 1402, 'superior': 1403, 'childhood': 1404, 'seven': 1405, 'theatr': 1406, 'remot': 1407, 'pilot': 1408, 'paid': 1409, 'funniest': 1410, 'disgust': 1411, 'fell': 1412, 'castl': 1413, 'trick': 1414, 'convers': 1415, 'disast': 1416, 'gangster': 1417, 'establish': 1418, 'rob': 1419, 'disappear': 1420, 'ident': 1421, 'mine': 1422, 'heaven': 1423, 'suicid': 1424, 'mask': 1425, 'heroin': 1426, 'forgotten': 1427, 'tend': 1428, 'decis': 1429, 'singer': 1430, 'brian': 1431, 'partner': 1432, 'desert': 1433, 'recogn': 1434, 'alan': 1435, 'ms': 1436, 'thoroughli': 1437, 'p': 1438, 'sky': 1439, 'stuck': 1440, 'accur': 1441, 'replac': 1442, 'market': 1443, 'seemingli': 1444, 'uncl': 1445, 'andi': 1446, 'commentari': 1447, 'clue': 1448, 'danni': 1449, 'eddi': 1450, 'jackson': 1451, 'devil': 1452, 'that': 1453, 'therefor': 1454, 'refus': 1455, 'pair': 1456, 'unit': 1457, 'ed': 1458, 'fault': 1459, 'river': 1460, 'accid': 1461, 'fate': 1462, 'afraid': 1463, 'tune': 1464, 'clean': 1465, 'stephen': 1466, 'hidden': 1467, 'russian': 1468, 'test': 1469, 'readi': 1470, 'convey': 1471, 'captain': 1472, 'instanc': 1473, 'irrit': 1474, 'quick': 1475, 'european': 1476, 'frustrat': 1477, 'daniel': 1478, 'insan': 1479, 'rescu': 1480, '1950': 1481, 'chines': 1482, 'food': 1483, 'wed': 1484, 'lock': 1485, 'angri': 1486, 'dirti': 1487, 'joy': 1488, 'price': 1489, 'steven': 1490, 'bland': 1491, 'cage': 1492, 'anymor': 1493, 'rang': 1494, 'wooden': 1495, 'n': 1496, 'jason': 1497, 'rush': 1498, 'news': 1499, 'twenti': 1500, 'worri': 1501, '12': 1502, 'led': 1503, 'board': 1504, 'martial': 1505, 'cgi': 1506, 'symbol': 1507, 'transform': 1508, 'hunter': 1509, 'sentiment': 1510, 'invent': 1511, 'johnni': 1512, 'piti': 1513, 'onto': 1514, 'x': 1515, 'attitud': 1516, 'process': 1517, 'explan': 1518, 'awar': 1519, 'owner': 1520, 'aim': 1521, 'necessari': 1522, 'floor': 1523, 'energi': 1524, 'favor': 1525, 'target': 1526, 'opposit': 1527, 'religi': 1528, 'chick': 1529, 'insight': 1530, 'blind': 1531, 'window': 1532, 'movement': 1533, 'research': 1534, 'possess': 1535, 'deepli': 1536, 'comparison': 1537, 'mountain': 1538, 'rain': 1539, 'grand': 1540, 'comed': 1541, 'whatsoev': 1542, 'mid': 1543, 'shadow': 1544, 'began': 1545, 'bank': 1546, 'princ': 1547, 'parodi': 1548, 'pre': 1549, 'credibl': 1550, 'taylor': 1551, 'friendship': 1552, 'weapon': 1553, 'dougla': 1554, 'flesh': 1555, 'teach': 1556, 'terror': 1557, 'bloodi': 1558, 'protect': 1559, 'hint': 1560, 'marvel': 1561, 'load': 1562, 'leader': 1563, 'drunk': 1564, 'accord': 1565, 'watchabl': 1566, 'anybodi': 1567, 'superman': 1568, 'brown': 1569, 'freddi': 1570, 'tim': 1571, 'jeff': 1572, 'appropri': 1573, 'seat': 1574, 'hitler': 1575, 'unknown': 1576, 'knock': 1577, 'villag': 1578, 'keaton': 1579, 'charg': 1580, 'media': 1581, 'enemi': 1582, 'england': 1583, 'empti': 1584, 'unnecessari': 1585, 'dare': 1586, 'perspect': 1587, 'utter': 1588, 'strength': 1589, 'buck': 1590, 'craft': 1591, 'wave': 1592, 'correct': 1593, 'nativ': 1594, 'ford': 1595, 'kiss': 1596, 'contrast': 1597, 'chill': 1598, 'knowledg': 1599, 'distract': 1600, 'anywher': 1601, 'magnific': 1602, 'soap': 1603, 'speed': 1604, 'nazi': 1605, '1980': 1606, 'mission': 1607, 'fred': 1608, 'breath': 1609, 'ice': 1610, 'jr': 1611, 'joan': 1612, 'crowd': 1613, 'moon': 1614, '000': 1615, 'frighten': 1616, 'soft': 1617, 'kate': 1618, 'dick': 1619, 'nick': 1620, 'hundr': 1621, 'dan': 1622, 'somebodi': 1623, 'radio': 1624, 'dozen': 1625, 'simon': 1626, 'loss': 1627, 'academi': 1628, 'thousand': 1629, 'andrew': 1630, 'shakespear': 1631, 'sum': 1632, 'quot': 1633, 'vehicl': 1634, 'root': 1635, 'account': 1636, '1970': 1637, 'behavior': 1638, 'convent': 1639, 'leg': 1640, 'regular': 1641, 'gold': 1642, 'worker': 1643, 'demand': 1644, 'pretenti': 1645, 'compet': 1646, 'japan': 1647, 'interpret': 1648, 'lynch': 1649, 'stretch': 1650, 'privat': 1651, 'notabl': 1652, 'explos': 1653, 'candi': 1654, 'constant': 1655, 'debut': 1656, 'tarzan': 1657, 'spi': 1658, 'prais': 1659, 'translat': 1660, 'sea': 1661, 'revolv': 1662, 'ass': 1663, 'failur': 1664, 'threaten': 1665, 'jesu': 1666, 'franc': 1667, 'technolog': 1668, 'quiet': 1669, 'sat': 1670, 'toy': 1671, 'higher': 1672, 'met': 1673, 'kevin': 1674, 'punch': 1675, 'aid': 1676, 'abandon': 1677, 'interact': 1678, 'vh': 1679, 'mike': 1680, 'command': 1681, 'separ': 1682, 'confront': 1683, 'bet': 1684, 'belong': 1685, 'techniqu': 1686, 'gotten': 1687, 'recal': 1688, 'servic': 1689, 'site': 1690, 'stunt': 1691, 'cabl': 1692, 'freak': 1693, 'foot': 1694, 'bug': 1695, 'capabl': 1696, 'bright': 1697, 'jimmi': 1698, 'african': 1699, 'fu': 1700, 'presid': 1701, 'fat': 1702, 'stock': 1703, 'clark': 1704, 'succeed': 1705, 'boat': 1706, 'structur': 1707, 'gene': 1708, 'spanish': 1709, 'paper': 1710, 'kidnap': 1711, 'factor': 1712, 'belief': 1713, 'whilst': 1714, 'educ': 1715, 'complic': 1716, 'witti': 1717, 'bob': 1718, 'realis': 1719, 'attend': 1720, 'realism': 1721, 'tree': 1722, 'assist': 1723, 'broken': 1724, 'santa': 1725, 'finest': 1726, 'observ': 1727, 'depart': 1728, 'v': 1729, 'smoke': 1730, 'determin': 1731, 'up': 1732, 'fame': 1733, 'oper': 1734, 'hat': 1735, 'lewi': 1736, 'domin': 1737, 'rubbish': 1738, 'routin': 1739, 'safe': 1740, 'hook': 1741, 'advanc': 1742, 'morgan': 1743, 'kinda': 1744, 'lone': 1745, 'foreign': 1746, 'rank': 1747, 'numer': 1748, 'vs': 1749, 'rose': 1750, 'shallow': 1751, 'civil': 1752, 'werewolf': 1753, 'washington': 1754, 'shape': 1755, 'morn': 1756, 'gari': 1757, 'ordinari': 1758, 'winner': 1759, 'kong': 1760, 'accomplish': 1761, 'peac': 1762, 'virtual': 1763, 'whenev': 1764, 'grab': 1765, 'offens': 1766, 'luck': 1767, 'h': 1768, 'bigger': 1769, 'patient': 1770, 'activ': 1771, 'complain': 1772, 'unfunni': 1773, 'welcom': 1774, 'contriv': 1775, 'con': 1776, 'trek': 1777, 'dimension': 1778, 'pretend': 1779, 'wake': 1780, 'flash': 1781, 'cain': 1782, 'eric': 1783, 'lesbian': 1784, 'code': 1785, 'dri': 1786, 'albert': 1787, 'corrupt': 1788, 'manipul': 1789, 'dancer': 1790, 'guard': 1791, 'statu': 1792, 'context': 1793, 'sourc': 1794, 'gain': 1795, 'signific': 1796, 'awkward': 1797, 'speech': 1798, '13': 1799, 'corni': 1800, 'anthoni': 1801, 'clip': 1802, 'sean': 1803, 'psycho': 1804, 'curiou': 1805, 'advic': 1806, 'theatric': 1807, 'w': 1808, 'religion': 1809, 'priest': 1810, 'reli': 1811, 'flow': 1812, 'addict': 1813, 'howard': 1814, 'asian': 1815, 'skin': 1816, 'secur': 1817, 'specif': 1818, 'jennif': 1819, 'organ': 1820, 'promot': 1821, 'comfort': 1822, 'luke': 1823, 'core': 1824, 'golden': 1825, 'cheat': 1826, 'lucki': 1827, 'cash': 1828, 'associ': 1829, 'dislik': 1830, 'lower': 1831, 'balanc': 1832, 'wing': 1833, 'frequent': 1834, 'spell': 1835, 'regret': 1836, 'frankli': 1837, 'contribut': 1838, 'degre': 1839, 'devic': 1840, 'sake': 1841, 'print': 1842, 'lake': 1843, 'forgiv': 1844, 'mass': 1845, 'betti': 1846, 'thoma': 1847, 'crack': 1848, 'gordon': 1849, 'unexpect': 1850, 'depend': 1851, 'unfold': 1852, 'amateur': 1853, 'invit': 1854, 'grown': 1855, 'categori': 1856, 'construct': 1857, 'condit': 1858, 'walter': 1859, 'honor': 1860, 'matur': 1861, 'grew': 1862, 'intellectu': 1863, 'anna': 1864, 'sudden': 1865, 'veteran': 1866, 'spectacular': 1867, 'mirror': 1868, 'sole': 1869, 'freedom': 1870, 'card': 1871, 'overli': 1872, 'gift': 1873, 'demonstr': 1874, 'experienc': 1875, 'grip': 1876, 'meanwhil': 1877, 'liner': 1878, 'robin': 1879, 'unabl': 1880, 'oliv': 1881, 'theori': 1882, 'circumst': 1883, 'drew': 1884, 'section': 1885, 'colour': 1886, 'subtitl': 1887, 'crappi': 1888, 'brilliantli': 1889, 'sheriff': 1890, 'sheer': 1891, 'pile': 1892, 'path': 1893, 'matt': 1894, 'laughter': 1895, 'cook': 1896, 'altern': 1897, 'parker': 1898, 'relief': 1899, 'lawyer': 1900, 'wander': 1901, 'defin': 1902, 'hall': 1903, 'accident': 1904, 'treatment': 1905, 'sinatra': 1906, 'dragon': 1907, 'hank': 1908, 'captiv': 1909, 'gratuit': 1910, 'halloween': 1911, 'moor': 1912, 'unintent': 1913, 'broadway': 1914, 'cowboy': 1915, 'k': 1916, 'jacki': 1917, 'wayn': 1918, 'kung': 1919, 'wound': 1920, 'barbara': 1921, 'winter': 1922, 'spoof': 1923, 'surreal': 1924, 'statement': 1925, 'canadian': 1926, 'gonna': 1927, 'fare': 1928, 'treasur': 1929, 'fish': 1930, 'cheer': 1931, 'compos': 1932, 'victor': 1933, 'sensit': 1934, 'emerg': 1935, 'unrealist': 1936, 'woodi': 1937, 'driven': 1938, 'ran': 1939, 'neighbor': 1940, 'sympathet': 1941, 'expos': 1942, 'menac': 1943, 'authent': 1944, 'overlook': 1945, 'glass': 1946, 'topic': 1947, 'handsom': 1948, 'chief': 1949, 'gross': 1950, 'michel': 1951, 'ancient': 1952, 'comedian': 1953, 'pleasant': 1954, 'network': 1955, 'feet': 1956, 'built': 1957, 'cinderella': 1958, 'contemporari': 1959, 'stranger': 1960, 'russel': 1961, 'nevertheless': 1962, 'consider': 1963, 'letter': 1964, 'miser': 1965, 'gori': 1966, 'blockbust': 1967, 'earn': 1968, 'endless': 1969, 'underr': 1970, 'solv': 1971, 'brook': 1972, 'switch': 1973, 'victoria': 1974, 'joseph': 1975, 'bullet': 1976, 'edward': 1977, 'convict': 1978, 'virgin': 1979, '0': 1980, 'scenario': 1981, 'cynic': 1982, 'alex': 1983, 'chosen': 1984, 'scale': 1985, 'outrag': 1986, 'com': 1987, 'curs': 1988, 'gut': 1989, 'sword': 1990, 'wrap': 1991, 'screenwrit': 1992, 'uk': 1993, 'monkey': 1994, 'substanc': 1995, 'juli': 1996, 'driver': 1997, 'proper': 1998, 'par': 1999, 'remov': 2000, 'indic': 2001, 'court': 2002, 'bird': 2003, 'consequ': 2004, 'grave': 2005, 'roy': 2006, 'loser': 2007, 'nanci': 2008, 'advertis': 2009, 'rental': 2010, 'naiv': 2011, 'inevit': 2012, 'brave': 2013, 'bridg': 2014, 'le': 2015, 'fatal': 2016, 'germani': 2017, 'invis': 2018, 'slap': 2019, 'ador': 2020, 'loui': 2021, 'anger': 2022, 'footbal': 2023, 'provok': 2024, 'alcohol': 2025, 'chan': 2026, 'anderson': 2027, 'ryan': 2028, 'stumbl': 2029, 'willi': 2030, 'professor': 2031, 'patrick': 2032, 'sharp': 2033, '1930': 2034, 'assassin': 2035, 'australian': 2036, 'bat': 2037, 'lousi': 2038, 'deni': 2039, 'eight': 2040, 'refresh': 2041, 'trilog': 2042, 'saturday': 2043, 'liber': 2044, 'ape': 2045, 'heck': 2046, 'cell': 2047, 'strongli': 2048, 'amateurish': 2049, 'sin': 2050, 'resid': 2051, 'san': 2052, 'vagu': 2053, 'justifi': 2054, 'indi': 2055, 'reput': 2056, 'terrifi': 2057, 'mini': 2058, 'creator': 2059, 'defeat': 2060, 'sympathi': 2061, 'tabl': 2062, 'prevent': 2063, 'tediou': 2064, 'endur': 2065, 'task': 2066, 'expert': 2067, 'offend': 2068, 'che': 2069, 'rival': 2070, 'basebal': 2071, 'imit': 2072, 'employ': 2073, 'trial': 2074, 'dig': 2075, 'max': 2076, 'weekend': 2077, 'beach': 2078, 'fairi': 2079, 'europ': 2080, 'pitch': 2081, 'complaint': 2082, 'risk': 2083, 'purchas': 2084, 'format': 2085, 'murphi': 2086, 'glimps': 2087, 'tini': 2088, 'reminisc': 2089, 'nois': 2090, 'harsh': 2091, 'titan': 2092, 'bite': 2093, 'hype': 2094, 'powel': 2095, 'asleep': 2096, '14': 2097, 'north': 2098, 'till': 2099, 'prime': 2100, 'strip': 2101, 'fals': 2102, 'texa': 2103, 'destruct': 2104, 'africa': 2105, 'descript': 2106, 'revel': 2107, 'semi': 2108, 'uninterest': 2109, 'inner': 2110, 'sitcom': 2111, 'excess': 2112, 'surfac': 2113, 'spin': 2114, 'arrest': 2115, 'controversi': 2116, 'massiv': 2117, 'maintain': 2118, 'dinosaur': 2119, 'hitchcock': 2120, 'argu': 2121, 'twin': 2122, 'makeup': 2123, 'ludicr': 2124, 'reject': 2125, 'stare': 2126, 'insist': 2127, 'expens': 2128, 'melodrama': 2129, 'ideal': 2130, 'kim': 2131, 'atroci': 2132, 'ala': 2133, 'supernatur': 2134, 'columbo': 2135, 'subplot': 2136, 'erot': 2137, 'press': 2138, 'host': 2139, 'ga': 2140, 'nail': 2141, 'forest': 2142, 'dude': 2143, 'notch': 2144, 'cant': 2145, 'identifi': 2146, 'presum': 2147, 'character': 2148, 'method': 2149, 'guest': 2150, 'crude': 2151, 'forgett': 2152, 'closer': 2153, 'plagu': 2154, 'beast': 2155, 'ear': 2156, 'border': 2157, 'princess': 2158, 'lion': 2159, 'landscap': 2160, 'foster': 2161, 'bound': 2162, 'birth': 2163, 'pacino': 2164, 'damag': 2165, 'storytel': 2166, 'accus': 2167, 'urban': 2168, 'previous': 2169, 'aunt': 2170, 'jungl': 2171, 'doll': 2172, 'nude': 2173, 'propaganda': 2174, 'chose': 2175, 'emma': 2176, 'thirti': 2177, 'guid': 2178, 'jess': 2179, 'warrior': 2180, 'mate': 2181, 'pet': 2182, 'whoever': 2183, 'mainstream': 2184, '25': 2185, 'exact': 2186, 'deadli': 2187, 'gritti': 2188, 'friday': 2189, 'size': 2190, 'poster': 2191, 'merit': 2192, 'latest': 2193, 'upset': 2194, 'cooper': 2195, 'settl': 2196, 'popul': 2197, '1990': 2198, 'citizen': 2199, 'wilson': 2200, 'contact': 2201, 'rough': 2202, 'contest': 2203, 'warner': 2204, 'buff': 2205, 'sun': 2206, 'corps': 2207, 'blend': 2208, 'ton': 2209, 'rat': 2210, 'widow': 2211, 'environ': 2212, 'select': 2213, 'overcom': 2214, 'alic': 2215, 'pitt': 2216, 'bu': 2217, 'metal': 2218, 'mgm': 2219, 'guilti': 2220, 'particip': 2221, 'ted': 2222, 'revolut': 2223, 'lift': 2224, 'link': 2225, 'exagger': 2226, 'afternoon': 2227, 'moron': 2228, 'corner': 2229, 'accompani': 2230, 'corpor': 2231, 'matrix': 2232, 'prostitut': 2233, 'johnson': 2234, '1960': 2235, 'holm': 2236, 'multipl': 2237, 'sincer': 2238, 'doom': 2239, 'instal': 2240, 'friendli': 2241, 'leagu': 2242, 'hood': 2243, 'clair': 2244, 'examin': 2245, 'sunday': 2246, 'grim': 2247, 'irish': 2248, 'junk': 2249, 'hip': 2250, 'defend': 2251, 'aka': 2252, 'campi': 2253, 'string': 2254, 'blah': 2255, 'advis': 2256, 'lugosi': 2257, 'confid': 2258, 'tight': 2259, 'varieti': 2260, 'pro': 2261, 'shake': 2262, 'rachel': 2263, 'icon': 2264, 'shut': 2265, 'goal': 2266, 'medic': 2267, 'mexican': 2268, 'attach': 2269, 'directli': 2270, 'jaw': 2271, 'denni': 2272, 'sullivan': 2273, 'truck': 2274, 'sentenc': 2275, 'prior': 2276, 'vietnam': 2277, 'duke': 2278, 'terrorist': 2279, 'sarah': 2280, 'legendari': 2281, 'dean': 2282, 'breast': 2283, 'bourn': 2284, 'courag': 2285, 'proceed': 2286, 'un': 2287, 'behav': 2288, 'donald': 2289, 'split': 2290, 'nose': 2291, 'yell': 2292, 'hong': 2293, 'entri': 2294, 'gather': 2295, 'concentr': 2296, 'buri': 2297, 'borrow': 2298, 'lifetim': 2299, 'unconvinc': 2300, 'forth': 2301, 'crush': 2302, 'everywher': 2303, 'swim': 2304, 'confess': 2305, 'jerk': 2306, 'stolen': 2307, 'julia': 2308, 'pan': 2309, 'spite': 2310, 'deliveri': 2311, 'lip': 2312, 'california': 2313, 'turkey': 2314, 'downright': 2315, 'flight': 2316, 'hoffman': 2317, 'quest': 2318, 'reward': 2319, 'freeman': 2320, 'china': 2321, 'proud': 2322, 'offici': 2323, 'sink': 2324, 'fabul': 2325, 'inept': 2326, 'sir': 2327, 'lazi': 2328, 'betray': 2329, 'worthwhil': 2330, 'encourag': 2331, 'fade': 2332, 'notori': 2333, 'jail': 2334, 'jon': 2335, 'teeth': 2336, 'cousin': 2337, 'lisa': 2338, 'bag': 2339, 'retard': 2340, 'bell': 2341, 'shower': 2342, 'survivor': 2343, 'relev': 2344, 'imageri': 2345, 'storm': 2346, 'susan': 2347, 'branagh': 2348, 'stab': 2349, 'quirki': 2350, 'toler': 2351, 'summari': 2352, 'facial': 2353, 'mexico': 2354, 'tremend': 2355, 'trade': 2356, 'alright': 2357, 'shark': 2358, 'bride': 2359, 'hugh': 2360, 'finger': 2361, 'pose': 2362, 'blown': 2363, 'bitter': 2364, 'ha': 2365, 'von': 2366, 'hyster': 2367, 'cruel': 2368, 'scheme': 2369, 'bone': 2370, 'afterward': 2371, 'christ': 2372, 'address': 2373, 'ned': 2374, 'larri': 2375, 'ron': 2376, 'beg': 2377, 'screw': 2378, 'swear': 2379, 'traci': 2380, 'distinct': 2381, 'feed': 2382, 'snake': 2383, 'tour': 2384, 'thumb': 2385, 'pursu': 2386, 'obscur': 2387, 'stomach': 2388, 'raw': 2389, 'photo': 2390, 'mechan': 2391, 'chair': 2392, 'occas': 2393, 'hardi': 2394, 'southern': 2395, 'resist': 2396, 'heavili': 2397, 'cabin': 2398, 'sidney': 2399, 'chain': 2400, 'holiday': 2401, 'argument': 2402, 'render': 2403, 'necessarili': 2404, 'gruesom': 2405, 'indulg': 2406, 'india': 2407, 'racist': 2408, 'satan': 2409, 'understood': 2410, 'philip': 2411, 'stalk': 2412, 'outfit': 2413, 'fourth': 2414, 'forgot': 2415, 'obnoxi': 2416, 'lay': 2417, 'integr': 2418, 'belov': 2419, 'tongu': 2420, 'pregnant': 2421, 'midnight': 2422, 'ticket': 2423, 'deeper': 2424, 'carol': 2425, '17': 2426, 'garden': 2427, 'slapstick': 2428, 'restor': 2429, 'inhabit': 2430, 'magazin': 2431, 'devot': 2432, 'incid': 2433, 'shoe': 2434, 'brad': 2435, 'lincoln': 2436, 'divorc': 2437, 'guarante': 2438, 'lili': 2439, 'underground': 2440, 'disbelief': 2441, 'benefit': 2442, 'elizabeth': 2443, 'sandler': 2444, 'anticip': 2445, 'maria': 2446, 'explod': 2447, 'mildli': 2448, 'princip': 2449, 'bbc': 2450, 'slave': 2451, 'amazingli': 2452, 'capit': 2453, 'greater': 2454, 'creation': 2455, 'cring': 2456, 'funnier': 2457, 'introduct': 2458, 'halfway': 2459, 'extraordinari': 2460, 'lesli': 2461, 'punish': 2462, 'transfer': 2463, 'enhanc': 2464, 'advantag': 2465, 'tap': 2466, 'overwhelm': 2467, 'wreck': 2468, 'extent': 2469, 'text': 2470, 'jessica': 2471, 'deliber': 2472, 'dynam': 2473, 'preview': 2474, 'east': 2475, 'lo': 2476, 'error': 2477, 'horrif': 2478, 'lane': 2479, 'plant': 2480, 'homosexu': 2481, 'vacat': 2482, 'vincent': 2483, 'miscast': 2484, 'basi': 2485, 'ensu': 2486, 'appli': 2487, 'miller': 2488, 'sophist': 2489, '2000': 2490, 'sleazi': 2491, 'measur': 2492, 'bollywood': 2493, 'uncomfort': 2494, 'extend': 2495, 'spoken': 2496, 'elev': 2497, 'reed': 2498, 'via': 2499, 'mansion': 2500, 'steel': 2501, 'daili': 2502, 'stanley': 2503, 'cathol': 2504, 'melt': 2505, 'dentist': 2506, 'goofi': 2507, 'assign': 2508, 'beer': 2509, 'breathtak': 2510, 'fix': 2511, 'blair': 2512, 'hippi': 2513, 'alter': 2514, 'overact': 2515, 'conceiv': 2516, 'savag': 2517, 'mous': 2518, 'succe': 2519, 'oppos': 2520, 'inspector': 2521, 'everyday': 2522, 'subsequ': 2523, 'nowaday': 2524, 'properli': 2525, 'carpent': 2526, 'sacrific': 2527, 'burt': 2528, 'laura': 2529, 'circl': 2530, 'neck': 2531, 'massacr': 2532, 'block': 2533, 'grey': 2534, 'pool': 2535, 'portrait': 2536, 'mob': 2537, 'christi': 2538, 'concert': 2539, 'lesser': 2540, 'access': 2541, 'fallen': 2542, 'seagal': 2543, 'fay': 2544, 'relax': 2545, 'react': 2546, 'competit': 2547, 'sinist': 2548, 'usa': 2549, 'chees': 2550, 'isol': 2551, 'jewish': 2552, 'jake': 2553, 'stink': 2554, 'chop': 2555, 'lyric': 2556, 'nonetheless': 2557, 'nine': 2558, 'immens': 2559, 'suitabl': 2560, 'spiritu': 2561, '2006': 2562, 'ironi': 2563, 'appal': 2564, 'creep': 2565, 'rage': 2566, 'franchis': 2567, 'reduc': 2568, 'nut': 2569, 'luci': 2570, 'user': 2571, 'needless': 2572, 'shirt': 2573, 'navi': 2574, 'sold': 2575, 'showcas': 2576, 'retir': 2577, 'spring': 2578, 'adopt': 2579, 'nurs': 2580, 'digit': 2581, 'uninspir': 2582, 'jay': 2583, 'per': 2584, 'zone': 2585, 'asham': 2586, 'bath': 2587, 'bulli': 2588, 'stanwyck': 2589, 'laid': 2590, 'broadcast': 2591, 'illustr': 2592, '2001': 2593, 'sutherland': 2594, 'oddli': 2595, '1940': 2596, 'upper': 2597, 'amongst': 2598, 'stylish': 2599, 'aspir': 2600, 'fulfil': 2601, 'disguis': 2602, 'baker': 2603, 'throat': 2604, 'brando': 2605, 'wanna': 2606, 'em': 2607, 'wwii': 2608, 'pride': 2609, 'thief': 2610, 'nobl': 2611, 'endear': 2612, 'impli': 2613, 'neighborhood': 2614, '18': 2615, 'pound': 2616, 'rochest': 2617, 'shoulder': 2618, 'cinematograph': 2619, '16': 2620, 'tens': 2621, 'dawn': 2622, 'dinner': 2623, 'albeit': 2624, 'bett': 2625, 'diseas': 2626, 'prop': 2627, 'distribut': 2628, 'coher': 2629, 'shift': 2630, 'bo': 2631, 'knife': 2632, 'wash': 2633, 'silenc': 2634, 'poignant': 2635, 'shout': 2636, 'contract': 2637, 'surf': 2638, 'rebel': 2639, 'forti': 2640, 'function': 2641, 'snow': 2642, 'matthau': 2643, 'reunion': 2644, 'horrend': 2645, 'silver': 2646, 'internet': 2647, 'henc': 2648, 'eeri': 2649, 'instinct': 2650, 'duti': 2651, 'chuck': 2652, 'height': 2653, 'heat': 2654, 'cannib': 2655, 'derek': 2656, 'cancel': 2657, 'elvira': 2658, 'mindless': 2659, 'proof': 2660, 'widmark': 2661, 'pie': 2662, 'glori': 2663, 'torn': 2664, 'mill': 2665, 'etern': 2666, 'absorb': 2667, 'musician': 2668, 'innov': 2669, 'neat': 2670, 'incoher': 2671, 'premier': 2672, 'greatli': 2673, 'repetit': 2674, 'alik': 2675, 'spielberg': 2676, 'elvi': 2677, 'lovabl': 2678, 'redempt': 2679, 'homag': 2680, 'nelson': 2681, 'wealthi': 2682, 'precis': 2683, 'blank': 2684, 'horrifi': 2685, 'fbi': 2686, 'infam': 2687, 'announc': 2688, 'racism': 2689, 'bang': 2690, 'crisi': 2691, 'itali': 2692, 'trite': 2693, 'britain': 2694, 'diamond': 2695, 'burton': 2696, 'happili': 2697, 'resolut': 2698, 'flop': 2699, 'hammer': 2700, 'ensembl': 2701, 'parallel': 2702, 'dedic': 2703, 'pat': 2704, 'chaplin': 2705, 'streisand': 2706, 'helen': 2707, 'wilder': 2708, 'mar': 2709, 'oil': 2710, 'disagre': 2711, 'conclud': 2712, 'triumph': 2713, 'factori': 2714, 'st': 2715, 'broke': 2716, 'plastic': 2717, 'carter': 2718, 'cube': 2719, 'weight': 2720, 'chuckl': 2721, 'own': 2722, 'climb': 2723, 'vega': 2724, 'row': 2725, 'fighter': 2726, 'march': 2727, 'rocket': 2728, 'bush': 2729, 'dump': 2730, 'lust': 2731, 'kurt': 2732, 'sensibl': 2733, 'luca': 2734, 'enorm': 2735, 'mst3k': 2736, 'meaning': 2737, 'unforgett': 2738, 'dane': 2739, 'wherea': 2740, 'boot': 2741, 'spare': 2742, 'thug': 2743, 'engin': 2744, 'butt': 2745, 'difficulti': 2746, 'adequ': 2747, 'bobbi': 2748, 'brand': 2749, 'caricatur': 2750, 'fifti': 2751, 'stress': 2752, 'threat': 2753, 'dear': 2754, 'rap': 2755, 'karloff': 2756, 'arnold': 2757, 'polish': 2758, 'arrog': 2759, 'journalist': 2760, 'homeless': 2761, 'secretari': 2762, 'ralph': 2763, 'ego': 2764, 'fest': 2765, 'swing': 2766, 'elabor': 2767, 'flynn': 2768, 'hamlet': 2769, 'barri': 2770, 'float': 2771, 'conspiraci': 2772, 'fanci': 2773, 'unbear': 2774, 'simpson': 2775, 'puppet': 2776, 'induc': 2777, 'tool': 2778, 'grate': 2779, 'resort': 2780, 'arrang': 2781, 'spike': 2782, 'muppet': 2783, 'basement': 2784, 'phillip': 2785, 'cruis': 2786, 'guilt': 2787, 'choreograph': 2788, 'boll': 2789, 'pig': 2790, 'exercis': 2791, 'tribut': 2792, 'editor': 2793, 'ward': 2794, 'korean': 2795, 'layer': 2796, 'tower': 2797, 'slip': 2798, 'ham': 2799, 'medium': 2800, 'fianc': 2801, 'document': 2802, '24': 2803, 'stan': 2804, 'babe': 2805, 'file': 2806, 'puzzl': 2807, 'item': 2808, 'toilet': 2809, 'scarecrow': 2810, 'inexplic': 2811, 'philosoph': 2812, 'orient': 2813, 'assur': 2814, 'superfici': 2815, 'larger': 2816, 'portion': 2817, 'doc': 2818, 'spark': 2819, 'territori': 2820, 'minim': 2821, 'persona': 2822, 'slaughter': 2823, 'transit': 2824, 'denzel': 2825, 'glover': 2826, 'librari': 2827, 'catherin': 2828, 'shi': 2829, 'curti': 2830, 'boredom': 2831, 'jeremi': 2832, 'financi': 2833, 'owe': 2834, 'pg': 2835, 'sneak': 2836, 'ban': 2837, 'wolf': 2838, 'jet': 2839, 'dorothi': 2840, 'walken': 2841, 'ambigu': 2842, 'metaphor': 2843, 'eleph': 2844, 'cusack': 2845, 'multi': 2846, 'profound': 2847, 'backdrop': 2848, 'whale': 2849, 'hudson': 2850, 'rave': 2851, 'hack': 2852, 'union': 2853, 'elsewher': 2854, 'gadget': 2855, 'birthday': 2856, '2005': 2857, 'notion': 2858, 'stiff': 2859, 'implaus': 2860, 'viru': 2861, 'ultra': 2862, 'eastwood': 2863, 'newspap': 2864, 'deriv': 2865, 'pad': 2866, 'canada': 2867, 'eva': 2868, 'poison': 2869, 'disc': 2870, 'distanc': 2871, 'slight': 2872, 'squar': 2873, 'urg': 2874, 'hawk': 2875, 'superhero': 2876, 'bibl': 2877, 'lloyd': 2878, '1st': 2879, 'afford': 2880, 'reader': 2881, 'drown': 2882, 'charisma': 2883, 'sadist': 2884, 'huh': 2885, 'montag': 2886, 'heston': 2887, 'essenc': 2888, 'button': 2889, 'skit': 2890, 'health': 2891, 'restaur': 2892, 'spread': 2893, 'cure': 2894, 'dealt': 2895, 'lab': 2896, 'maniac': 2897, 'companion': 2898, 'gradual': 2899, 'estat': 2900, 'muslim': 2901, 'peak': 2902, 'invest': 2903, 'scoobi': 2904, 'godfath': 2905, 'fetch': 2906, 'cup': 2907, 'tea': 2908, 'miik': 2909, 'servant': 2910, 'alli': 2911, 'subtleti': 2912, 'countless': 2913, 'kane': 2914, 'ritter': 2915, 'gothic': 2916, 'elect': 2917, 'electr': 2918, 'charismat': 2919, 'briefli': 2920, 'heroic': 2921, 'salli': 2922, 'iii': 2923, 'tender': 2924, 'reel': 2925, 'cole': 2926, 'wannab': 2927, 'nuanc': 2928, 'neil': 2929, 'resourc': 2930, 'toss': 2931, 'ingredi': 2932, 'admittedli': 2933, 'grandmoth': 2934, 'bud': 2935, 'pit': 2936, 'stronger': 2937, 'reev': 2938, 'shall': 2939, 'poverti': 2940, 'punk': 2941, 'mild': 2942, 'dawson': 2943, 'stood': 2944, 'carrey': 2945, 'label': 2946, 'mafia': 2947, 'kubrick': 2948, 'gate': 2949, 'pauli': 2950, 'burst': 2951, 'terri': 2952, 'smash': 2953, 'tag': 2954, 'assault': 2955, 'useless': 2956, 'easier': 2957, 'fond': 2958, 'ian': 2959, 'smooth': 2960, 'updat': 2961, 'outcom': 2962, 'cox': 2963, 'bakshi': 2964, 'cardboard': 2965, 'astair': 2966, 'coincid': 2967, 'increasingli': 2968, '2002': 2969, 'vari': 2970, 'rex': 2971, 'qualifi': 2972, 'fist': 2973, 'resolv': 2974, 'vulner': 2975, 'divers': 2976, 'exchang': 2977, 'samurai': 2978, 'sketch': 2979, 'melodramat': 2980, 'be': 2981, 'brillianc': 2982, 'luckili': 2983, 'scratch': 2984, 'templ': 2985, 'tame': 2986, 'blast': 2987, 'suspend': 2988, 'insert': 2989, 'conveni': 2990, 'reynold': 2991, 'strictli': 2992, 'nuclear': 2993, 'meat': 2994, 'pin': 2995, 'seventi': 2996, 'gotta': 2997, 'walker': 2998, 'fisher': 2999, 'matthew': 3000, 'ambiti': 3001, 'farm': 3002, 'coach': 3003, 'hamilton': 3004, 'soprano': 3005, 'jami': 3006, 'convolut': 3007, 'monk': 3008, 'spooki': 3009, 'grasp': 3010, 'kudo': 3011, 'worthless': 3012, 'eccentr': 3013, 'recreat': 3014, 'joey': 3015, 'brosnan': 3016, 'cave': 3017, 'revers': 3018, 'butcher': 3019, 'empir': 3020, 'timeless': 3021, 'struck': 3022, 'clock': 3023, 'discoveri': 3024, 'ninja': 3025, 'closet': 3026, 'instantli': 3027, 'selfish': 3028, 'wipe': 3029, 'inconsist': 3030, 'clown': 3031, 'pal': 3032, 'importantli': 3033, 'bleak': 3034, 'seller': 3035, 'communist': 3036, 'gray': 3037, 'evok': 3038, 'sloppi': 3039, 'sidekick': 3040, 'norman': 3041, 'mitchel': 3042, 'declar': 3043, 'partli': 3044, 'fifteen': 3045, 'miracl': 3046, 'eighti': 3047, 'cliff': 3048, 'lifestyl': 3049, 'flawless': 3050, 'destin': 3051, 'enthusiast': 3052, 'farc': 3053, 'australia': 3054, '45': 3055, 'superbl': 3056, 'psychiatrist': 3057, 'seed': 3058, 'cheek': 3059, 'aforement': 3060, 'websit': 3061, 'stoog': 3062, 'chew': 3063, 'debat': 3064, 'piano': 3065, 'ho': 3066, 'dire': 3067, 'slice': 3068, 'emili': 3069, 'anni': 3070, 'regardless': 3071, 'abc': 3072, 'directori': 3073, 'pressur': 3074, 'wick': 3075, 'drivel': 3076, 'soviet': 3077, 'dash': 3078, 'kitchen': 3079, 'incompet': 3080, 'splatter': 3081, 'wrestl': 3082, 'akshay': 3083, 'bash': 3084, 'recov': 3085, 'boil': 3086, 'suppli': 3087, 'dave': 3088, 'distant': 3089, 'seduc': 3090, 'cameron': 3091, 'blob': 3092, 'helicopt': 3093, 'beaten': 3094, 'chapter': 3095, 'glow': 3096, 'curios': 3097, 'flower': 3098, 'judi': 3099, 'prize': 3100, 'artifici': 3101, 'increas': 3102, 'pleasantli': 3103, 'cagney': 3104, 'duo': 3105, 'lou': 3106, 'cia': 3107, 'jar': 3108, 'ken': 3109, 'doo': 3110, 'mann': 3111, 'psychot': 3112, 'craven': 3113, 'turner': 3114, 'web': 3115, 'glenn': 3116, 'panic': 3117, 'splendid': 3118, 'drunken': 3119, 'francisco': 3120, 'craig': 3121, 'eleg': 3122, 'goldberg': 3123, 'perri': 3124, 'hop': 3125, 'ellen': 3126, 'favour': 3127, 'ranger': 3128, 'combat': 3129, 'laurel': 3130, 'wizard': 3131, 'philosophi': 3132, 'alexand': 3133, 'gentl': 3134, 'fx': 3135, 'ruth': 3136, 'flip': 3137, 'min': 3138, 'graduat': 3139, 'falk': 3140, '20th': 3141, 'greek': 3142, 'rid': 3143, 'hatr': 3144, 'plausibl': 3145, 'modesti': 3146, 'slightest': 3147, 'gandhi': 3148, 'shortli': 3149, 'we': 3150, 'legal': 3151, 'tall': 3152, 'lend': 3153, 'jealou': 3154, 'unpleas': 3155, 'felix': 3156, 'holi': 3157, 'fund': 3158, 'harm': 3159, 'ocean': 3160, 'knight': 3161, 'futurist': 3162, 'preciou': 3163, 'manhattan': 3164, 'dracula': 3165, 'nod': 3166, 'digniti': 3167, 'overdon': 3168, 'bless': 3169, 'scientif': 3170, 'thread': 3171, 'mock': 3172, 'tank': 3173, 'childish': 3174, 'reviv': 3175, 'forbidden': 3176, 'ami': 3177, 'explicit': 3178, 'giallo': 3179, 'awaken': 3180, 'unwatch': 3181, 'nerv': 3182, 'torment': 3183, 'repeatedli': 3184, '2004': 3185, 'verhoeven': 3186, 'margaret': 3187, 'broad': 3188, '99': 3189, 'eve': 3190, 'yesterday': 3191, 'thick': 3192, 'awe': 3193, 'elderli': 3194, 'fever': 3195, 'mel': 3196, 'pirat': 3197, 'ambit': 3198, 'eas': 3199, 'timothi': 3200, 'launch': 3201, 'rivet': 3202, 'uniform': 3203, 'royal': 3204, 'bin': 3205, 'custom': 3206, 'absenc': 3207, 'lean': 3208, 'roman': 3209, 'acclaim': 3210, 'politician': 3211, 'kay': 3212, 'griffith': 3213, 'publish': 3214, 'automat': 3215, 'romero': 3216, 'ah': 3217, 'stiller': 3218, 'termin': 3219, 'purpl': 3220, 'darker': 3221, 'warren': 3222, 'foul': 3223, 'sunshin': 3224, 'gabriel': 3225, 'pierc': 3226, 'pulp': 3227, 'homicid': 3228, 'transport': 3229, 'bathroom': 3230, 'stinker': 3231, 'crook': 3232, 'antic': 3233, 'phrase': 3234, 'wallac': 3235, 'tomato': 3236, 'awak': 3237, 'album': 3238, 'eyr': 3239, 'horrid': 3240, 'saint': 3241, 'brazil': 3242, 'sixti': 3243, 'karen': 3244, 'juvenil': 3245, 'contrari': 3246, 'ought': 3247, 'q': 3248, 'packag': 3249, 'donna': 3250, 'marin': 3251, 'coloni': 3252, 'hollow': 3253, 'evolv': 3254, 'pray': 3255, '2003': 3256, 'rambo': 3257, 'choreographi': 3258, 'li': 3259, 'kenneth': 3260, 'revolutionari': 3261, 'viciou': 3262, 'prom': 3263, 'nerd': 3264, 'ramon': 3265, 'boast': 3266, 'candid': 3267, 'defi': 3268, 'blade': 3269, 'stole': 3270, 'beatti': 3271, 'ireland': 3272, 'conserv': 3273, 'twelv': 3274, 'kapoor': 3275, 'option': 3276, 'dose': 3277, 'overr': 3278, 'mildr': 3279, 'mummi': 3280, 'funer': 3281, 'natali': 3282, 'jazz': 3283, 'flame': 3284, 'trio': 3285, 'altman': 3286, 'fulci': 3287, 'detract': 3288, 'global': 3289, 'confirm': 3290, 'collabor': 3291, 'astonish': 3292, 'kirk': 3293, 'protest': 3294, 'whip': 3295, 'mystic': 3296, 'yellow': 3297, 'bottl': 3298, 'blake': 3299, 'bull': 3300, 'audio': 3301, 'destini': 3302, 'enterpris': 3303, 'leap': 3304, 'racial': 3305, 'nicholson': 3306, 'spit': 3307, 'tommi': 3308, 'delici': 3309, 'shade': 3310, 'merci': 3311, 'vivid': 3312, 'swedish': 3313, 'adolesc': 3314, 'inherit': 3315, 'neo': 3316, 'altogeth': 3317, 'fonda': 3318, 'todd': 3319, 'bedroom': 3320, 'popcorn': 3321, 'visibl': 3322, 'reunit': 3323, 'threw': 3324, 'meaningless': 3325, 'pseudo': 3326, 'staff': 3327, 'harder': 3328, 'enchant': 3329, 'befriend': 3330, 'roommat': 3331, 'madonna': 3332, 'moodi': 3333, 'uneven': 3334, 'await': 3335, 'reserv': 3336, 'kennedi': 3337, 'fanat': 3338, 'synopsi': 3339, 'atlanti': 3340, 'exhibit': 3341, 'leonard': 3342, 'respond': 3343, 'wire': 3344, 'crocodil': 3345, 'decor': 3346, 'ruthless': 3347, 'lemmon': 3348, 'bust': 3349, 'tip': 3350, 'lawrenc': 3351, 'suspici': 3352, 'jew': 3353, 'voight': 3354, 'edi': 3355, 'clint': 3356, 'centr': 3357, 'rural': 3358, 'bargain': 3359, 'dimens': 3360, 'chao': 3361, 'clumsi': 3362, 'palma': 3363, 'abysm': 3364, 'voyag': 3365, 'bold': 3366, 'unsettl': 3367, 'holli': 3368, 'incident': 3369, 'ventur': 3370, 'bradi': 3371, '2007': 3372, 'carl': 3373, 'audit': 3374, 'garner': 3375, 'lit': 3376, 'neglect': 3377, 'humili': 3378, 'nearbi': 3379, 'cari': 3380, 'imperson': 3381, 'tiger': 3382, 'wealth': 3383, 'cd': 3384, 'immigr': 3385, 'hart': 3386, 'acknowledg': 3387, 'troop': 3388, 'elimin': 3389, 'trail': 3390, 'characterist': 3391, 'echo': 3392, 'daddi': 3393, 'poetic': 3394, 'ant': 3395, 'versu': 3396, '2nd': 3397, 'mall': 3398, 'timon': 3399, 'cuba': 3400, 'paus': 3401, 'repuls': 3402, 'mistaken': 3403, 'mickey': 3404, 'prejudic': 3405, 'pun': 3406, 'celluloid': 3407, 'homer': 3408, 'infect': 3409, 'domest': 3410, 'collaps': 3411, 'jeffrey': 3412, 'saga': 3413, 'solo': 3414, 'marshal': 3415, 'undoubtedli': 3416, 'pant': 3417, 'inappropri': 3418, 'tribe': 3419, 'olivi': 3420, 'milk': 3421, 'equip': 3422, 'assembl': 3423, 'gear': 3424, '1996': 3425, 'chest': 3426, 'cake': 3427, 'sore': 3428, 'promin': 3429, 'apolog': 3430, 'hbo': 3431, 'coffe': 3432, 'coat': 3433, 'interrupt': 3434, 'harvey': 3435, 'ginger': 3436, 'leon': 3437, 'inan': 3438, 'vulgar': 3439, 'maggi': 3440, 'jenni': 3441, 'airplan': 3442, 'polanski': 3443, 'pen': 3444, 'devast': 3445, 'brooklyn': 3446, 'colonel': 3447, 'solut': 3448, 'primari': 3449, 'consum': 3450, 'furthermor': 3451, 'highest': 3452, 'colleagu': 3453, 'exot': 3454, 'aveng': 3455, 'humbl': 3456, 'florida': 3457, 'trace': 3458, 'embrac': 3459, 'pot': 3460, 'instant': 3461, 'institut': 3462, 'retain': 3463, 'outer': 3464, 'linda': 3465, 'descend': 3466, 'dutch': 3467, 'cope': 3468, '1999': 3469, 'gender': 3470, 'principl': 3471, 'seduct': 3472, 'poke': 3473, 'smaller': 3474, 'dian': 3475, 'illog': 3476, '3rd': 3477, 'wive': 3478, 'godzilla': 3479, 'bowl': 3480, 'strain': 3481, 'ya': 3482, 'disabl': 3483, 'sale': 3484, 'rick': 3485, 'mixtur': 3486, 'inferior': 3487, 'secondli': 3488, 'scope': 3489, 'blatant': 3490, 'dive': 3491, 'beneath': 3492, 'predecessor': 3493, 'vast': 3494, 'bubbl': 3495, 'cue': 3496, 'primarili': 3497, 'gloriou': 3498, 'dud': 3499, 'devoid': 3500, 'glamor': 3501, 'lol': 3502, 'rabbit': 3503, 'hal': 3504, 'yard': 3505, 'gundam': 3506, 'z': 3507, 'april': 3508, 'disjoint': 3509, 'pearl': 3510, 'senseless': 3511, 'alfr': 3512, 'aggress': 3513, 'garbo': 3514, 'countrysid': 3515, 'streep': 3516, 'museum': 3517, 'hideou': 3518, 'shirley': 3519, 'shelf': 3520, 'domino': 3521, 'invas': 3522, 'et': 3523, 'alert': 3524, 'casual': 3525, 'talki': 3526, 'trademark': 3527, 'simplist': 3528, 'breed': 3529, 'arab': 3530, 'grinch': 3531, 'myer': 3532, 'acid': 3533, 'stellar': 3534, 'applaud': 3535, 'hardcor': 3536, 'oz': 3537, 'slide': 3538, 'maci': 3539, 'rendit': 3540, 'mail': 3541, 'experiment': 3542, 'robinson': 3543, 'hopeless': 3544, 'unhappi': 3545, 'disgrac': 3546, 'uwe': 3547, 'illeg': 3548, 'stack': 3549, 'boom': 3550, 'khan': 3551, 'defens': 3552, 'robberi': 3553, 'stir': 3554, 'mayor': 3555, 'loyal': 3556, 'sh': 3557, 'obtain': 3558, 'vanish': 3559, 'dicken': 3560, 'scroog': 3561, 'soccer': 3562, 'diana': 3563, 'fri': 3564, 'hartley': 3565, 'span': 3566, 'craze': 3567, 'wont': 3568, 'counter': 3569, 'amanda': 3570, 'tempt': 3571, 'recruit': 3572, 'blew': 3573, 'topless': 3574, 'grandfath': 3575, 'incomprehens': 3576, 'declin': 3577, 'emphasi': 3578, 'rifl': 3579, 'tenant': 3580, 'psychic': 3581, 'spider': 3582, 'dismiss': 3583, 'berlin': 3584, 'trashi': 3585, 'bitch': 3586, 'lumet': 3587, 'riot': 3588, 'ethnic': 3589, 'woo': 3590, 'niro': 3591, 'faster': 3592, 'ration': 3593, 'goer': 3594, 'sibl': 3595, 'shed': 3596, 'sympath': 3597, 'porno': 3598, 'intim': 3599, 'resurrect': 3600, 'wet': 3601, 'shaw': 3602, 'justin': 3603, 'parad': 3604, 'revolt': 3605, 'ensur': 3606, 'enlighten': 3607, 'wendi': 3608, 'steam': 3609, 'patriot': 3610, 'eager': 3611, 'wheel': 3612, 'nephew': 3613, 'honesti': 3614, 'biographi': 3615, 'hopper': 3616, 'jonathan': 3617, 'immort': 3618, 'weakest': 3619, 'commend': 3620, 'region': 3621, 'slick': 3622, 'gap': 3623, 'feminist': 3624, 'hesit': 3625, 'choru': 3626, 'worm': 3627, 'andr': 3628, 'farmer': 3629, 'ballet': 3630, '00': 3631, 'unreal': 3632, 'dealer': 3633, 'partial': 3634, 'lena': 3635, 'rider': 3636, 'mario': 3637, 'macarthur': 3638, 'morri': 3639, 'charlott': 3640, 'psychopath': 3641, 'skull': 3642, 'safeti': 3643, 'snap': 3644, 'composit': 3645, 'prequel': 3646, 'vice': 3647, 'repress': 3648, 'leo': 3649, 'sappi': 3650, 'sandra': 3651, 'similarli': 3652, 'wore': 3653, 'blunt': 3654, 'nostalg': 3655, 'mutant': 3656, 'kingdom': 3657, 'util': 3658, 'victori': 3659, 'franco': 3660, 'owen': 3661, 'confin': 3662, 'hung': 3663, 'properti': 3664, 'bonu': 3665, 'strand': 3666, 'recycl': 3667, 'dalton': 3668, 'deed': 3669, 'bow': 3670, 'latin': 3671, 'compass': 3672, 'thru': 3673, 'hyde': 3674, 'exit': 3675, 'drum': 3676, 'snl': 3677, 'cg': 3678, 'del': 3679, 'drain': 3680, 'acquir': 3681, 'pattern': 3682, 'rope': 3683, 'nervou': 3684, 'bergman': 3685, 'rambl': 3686, 'speci': 3687, 'farrel': 3688, 'emperor': 3689, 'tail': 3690, 'bumbl': 3691, 'dust': 3692, 'repli': 3693, 'valuabl': 3694, 'campbel': 3695, 'tad': 3696, 'despair': 3697, 'rocki': 3698, 'whoopi': 3699, '1972': 3700, 'miseri': 3701, 'heartbreak': 3702, 'compens': 3703, 'kyle': 3704, 'montana': 3705, 'oppress': 3706, 'gimmick': 3707, 'pour': 3708, 'mistress': 3709, 'rapist': 3710, 'da': 3711, 'bleed': 3712, 'airport': 3713, 'radic': 3714, 'carradin': 3715, '35': 3716, 'orson': 3717, 'wacki': 3718, 'tonight': 3719, 'olli': 3720, 'contempl': 3721, 'gal': 3722, 'percept': 3723, 'downhil': 3724, 'martian': 3725, 'chess': 3726, 'rotten': 3727, 'romp': 3728, 'roth': 3729, 'slug': 3730, 'melodi': 3731, 'dazzl': 3732, 'stilt': 3733, 'programm': 3734, 'belt': 3735, 'banal': 3736, 'edgar': 3737, 'slash': 3738, 'pervert': 3739, 'preach': 3740, 'unpredict': 3741, 'mislead': 3742, 'pervers': 3743, 'champion': 3744, 'pursuit': 3745, 'arc': 3746, 'attorney': 3747, 'arguabl': 3748, 'tackl': 3749, 'heal': 3750, 'tooth': 3751, 'paltrow': 3752, 'shelley': 3753, '1983': 3754, 'taught': 3755, 'marti': 3756, 'orang': 3757, 'chicken': 3758, 'sensat': 3759, 'passeng': 3760, 'gambl': 3761, 'poem': 3762, 'maid': 3763, 'mesmer': 3764, 'closest': 3765, 'graham': 3766, 'dixon': 3767, 'uplift': 3768, 'vengeanc': 3769, 'duval': 3770, 'virginia': 3771, 'raymond': 3772, 'conneri': 3773, 'employe': 3774, 'tiresom': 3775, 'plight': 3776, 'cleverli': 3777, 'rubi': 3778, 'bela': 3779, 'vocal': 3780, 'franki': 3781, 'whine': 3782, 'inject': 3783, 'climact': 3784, 'tube': 3785, 'quarter': 3786, 'gerard': 3787, 'amitabh': 3788, 'bay': 3789, 'habit': 3790, 'calm': 3791, 'extens': 3792, 'paranoia': 3793, 'clone': 3794, 'monologu': 3795, 'numb': 3796, '1968': 3797, 'convincingli': 3798, 'volum': 3799, 'engross': 3800, 'outing': 3801, 'suffic': 3802, 'iran': 3803, 'crystal': 3804, 'scottish': 3805, 'profan': 3806, 'secretli': 3807, 'swallow': 3808, 'pokemon': 3809, 'mute': 3810, 'yawn': 3811, 'lundgren': 3812, 'sirk': 3813, 'abraham': 3814, 'giggl': 3815, 'bend': 3816, 'surpass': 3817, 'fed': 3818, 'frankenstein': 3819, 'richardson': 3820, 'trend': 3821, 'abort': 3822, 'grotesqu': 3823, 'dispos': 3824, 'profess': 3825, 'expand': 3826, 'backward': 3827, 'septemb': 3828, 'meander': 3829, 'poetri': 3830, 'ethan': 3831, 'earl': 3832, 'im': 3833, 'linger': 3834, 'plod': 3835, 'underst': 3836, 'nichola': 3837, 'junior': 3838, 'franci': 3839, 'taxi': 3840, 'spock': 3841, 'chicago': 3842, 'lowest': 3843, 'austen': 3844, 'descent': 3845, 'simplic': 3846, 'tourist': 3847, 'literatur': 3848, 'muddl': 3849, 'econom': 3850, 'instrument': 3851, 'rubber': 3852, 'mundan': 3853, 'compliment': 3854, 'cannon': 3855, 'catchi': 3856, 'lure': 3857, 'nostalgia': 3858, 'waitress': 3859, 'hum': 3860, 'greedi': 3861, 'rant': 3862, 'myth': 3863, 'sue': 3864, 'stallon': 3865, 'spoke': 3866, 'dysfunct': 3867, 'eugen': 3868, 'der': 3869, 'household': 3870, 'mortal': 3871, 'coast': 3872, 'omen': 3873, 'randi': 3874, 'recognis': 3875, 'eaten': 3876, 'furi': 3877, 'sissi': 3878, 'lang': 3879, 'alongsid': 3880, 'equival': 3881, 'crucial': 3882, 'map': 3883, 'cent': 3884, 'firstli': 3885, 'phantom': 3886, 'hello': 3887, 'flee': 3888, 'phoni': 3889, 'damon': 3890, 'stale': 3891, 'duck': 3892, 'june': 3893, 'recognit': 3894, 'dictat': 3895, 'bacal': 3896, 'irrelev': 3897, 'deaf': 3898, 'molli': 3899, 'occupi': 3900, 'louis': 3901, 'dement': 3902, 'insur': 3903, 'mankind': 3904, 'carel': 3905, 'bike': 3906, 'cyborg': 3907, 'heel': 3908, 'blackmail': 3909, 'lengthi': 3910, 'freez': 3911, 'daisi': 3912, 'distinguish': 3913, 'reign': 3914, 'labor': 3915, 'bump': 3916, 'newli': 3917, 'likewis': 3918, 'buffalo': 3919, 'rude': 3920, 'antwon': 3921, 'biko': 3922, '1973': 3923, 'dreari': 3924, 'damm': 3925, 'wisdom': 3926, 'loyalti': 3927, 'drake': 3928, 'onlin': 3929, 'twilight': 3930, 'ashley': 3931, 'grayson': 3932, 'rooney': 3933, 'exposur': 3934, 'butler': 3935, 'chronicl': 3936, 'provoc': 3937, 'nineti': 3938, 'tunnel': 3939, 'worn': 3940, 'boxer': 3941, 'incorpor': 3942, 'approv': 3943, 'proce': 3944, 'sailor': 3945, 'prey': 3946, 'analysi': 3947, 'barrymor': 3948, 'ridden': 3949, 'interior': 3950, 'emphas': 3951, 'baddi': 3952, 'keith': 3953, 'startl': 3954, 'vein': 3955, 'attribut': 3956, 'basketbal': 3957, 'pink': 3958, 'inher': 3959, 'unorigin': 3960, 'stalker': 3961, 'millionair': 3962, 'drift': 3963, 'indiffer': 3964, 'nicol': 3965, 'substitut': 3966, 'improvis': 3967, 'walsh': 3968, 'julian': 3969, 'er': 3970, 'condemn': 3971, 'barrel': 3972, 'underli': 3973, 'simmon': 3974, 'elm': 3975, 'bunni': 3976, 'unrel': 3977, 'robbin': 3978, 'mighti': 3979, 'carla': 3980, 'meg': 3981, 'degrad': 3982, 'predat': 3983, 'fleet': 3984, 'meyer': 3985, 'belushi': 3986, 'hypnot': 3987, 'undeni': 3988, 'mormon': 3989, 'othello': 3990, 'mtv': 3991, 'unawar': 3992, 'lampoon': 3993, 'enthusiasm': 3994, 'marion': 3995, 'warmth': 3996, 'firm': 3997, 'roof': 3998, 'palac': 3999, 'vital': 4000, 'watson': 4001, 'agenda': 4002, 'hay': 4003, 'shove': 4004, '3d': 4005, 'nyc': 4006, 'greed': 4007, 'alarm': 4008, 'exquisit': 4009, 'reid': 4010, 'errol': 4011, 'disord': 4012, 'novak': 4013, 'dolph': 4014, 'edgi': 4015, 'priceless': 4016, 'rukh': 4017, 'alison': 4018, 'simultan': 4019, 'peck': 4020, 'beatl': 4021, 'sergeant': 4022, 'session': 4023, '13th': 4024, 'gestur': 4025, 'eastern': 4026, 'cassidi': 4027, 'iraq': 4028, 'zizek': 4029, 'preserv': 4030, 'campaign': 4031, 'randomli': 4032, 'glanc': 4033, 'peril': 4034, 'coup': 4035, 'spain': 4036, 'championship': 4037, '1933': 4038, 'crown': 4039, 'unleash': 4040, 'drip': 4041, 'israel': 4042, 'distort': 4043, 'ponder': 4044, 'testament': 4045, 'showdown': 4046, 'profit': 4047, 'nun': 4048, 'what': 4049, 'pamela': 4050, 'minimum': 4051, 'petti': 4052, 'thompson': 4053, 'angela': 4054, 'valentin': 4055, 'orlean': 4056, 'unimagin': 4057, 'contradict': 4058, 'stake': 4059, '1984': 4060, 'cream': 4061, 'wig': 4062, 'cooki': 4063, 'miyazaki': 4064, 'calib': 4065, 'mon': 4066, 'regist': 4067, 'jan': 4068, 'din': 4069, 'realm': 4070, 'restrain': 4071, 'crawl': 4072, 'crow': 4073, 'represent': 4074, 'perpetu': 4075, 'stroke': 4076, 'shootout': 4077, 'climat': 4078, 'travesti': 4079, 'exposit': 4080, 'rout': 4081, 'scotland': 4082, 'quinn': 4083, 'brenda': 4084, 'han': 4085, 'bro': 4086, 'empathi': 4087, 'gentleman': 4088, 'valley': 4089, 'buster': 4090, 'sabrina': 4091, 'reson': 4092, 'kurosawa': 4093, 'fido': 4094, 'passabl': 4095, 'shoddi': 4096, '1997': 4097, 'distress': 4098, 'pole': 4099, 'abomin': 4100, '1987': 4101, 'meryl': 4102, 'mclaglen': 4103, 'traumat': 4104, 'warrant': 4105, 'businessman': 4106, 'femm': 4107, 'greg': 4108, 'dana': 4109, 'absent': 4110, 'delic': 4111, 'josh': 4112, 'painter': 4113, 'censor': 4114, 'derang': 4115, 'spacey': 4116, 'shaki': 4117, 'perceiv': 4118, 'darren': 4119, 'baldwin': 4120, 'unsatisfi': 4121, 'stargat': 4122, 'geek': 4123, 'monoton': 4124, 'tacki': 4125, 'ustinov': 4126, 'compromis': 4127, 'ross': 4128, 'sucker': 4129, 'wax': 4130, 'pretens': 4131, 'sammi': 4132, 'cloud': 4133, 'fuller': 4134, 'crawford': 4135, 'demis': 4136, 'unseen': 4137, 'soderbergh': 4138, 'deceas': 4139, 'fog': 4140, 'judgment': 4141, 'tech': 4142, 'accuraci': 4143, 'deniro': 4144, 'norm': 4145, 'tarantino': 4146, 'austin': 4147, 'fenc': 4148, 'polici': 4149, 'exclus': 4150, 'furiou': 4151, 'nathan': 4152, 'clash': 4153, 'reluct': 4154, '1993': 4155, 'valid': 4156, 'kumar': 4157, 'wholli': 4158, 'seal': 4159, 'sid': 4160, 'click': 4161, 'primit': 4162, 'correctli': 4163, 'dee': 4164, 'unravel': 4165, 'uncov': 4166, 'anchor': 4167, 'expedit': 4168, 'antonioni': 4169, 'jewel': 4170, 'verbal': 4171, 'seldom': 4172, 'clerk': 4173, 'hallucin': 4174, 'sheet': 4175, 'ritual': 4176, 'mode': 4177, 'dreck': 4178, 'debt': 4179, 'darn': 4180, 'wang': 4181, '1995': 4182, 'sunni': 4183, 'wretch': 4184, '2008': 4185, '3000': 4186, 'trait': 4187, '1971': 4188, 'conduct': 4189, 'enforc': 4190, 'unfair': 4191, 'fought': 4192, 'nicola': 4193, 'patienc': 4194, 'fabric': 4195, 'logan': 4196, 'shanghai': 4197, 'crippl': 4198, 'sand': 4199, 'tax': 4200, 'pocket': 4201, 'behold': 4202, 'joel': 4203, 'roller': 4204, 'bake': 4205, 'fart': 4206, 'temper': 4207, 'slam': 4208, 'malon': 4209, 'alec': 4210, 'sustain': 4211, 'murray': 4212, 'vanc': 4213, 'fundament': 4214, 'outlin': 4215, 'isabel': 4216, 'helpless': 4217, 'scriptwrit': 4218, 'critiqu': 4219, 'schedul': 4220, 'divid': 4221, 'soup': 4222, 'preston': 4223, 'legaci': 4224, 'squad': 4225, 'stark': 4226, 'rita': 4227, 'conscious': 4228, 'shell': 4229, 'pete': 4230, 'phil': 4231, 'sweep': 4232, 'canyon': 4233, 'clau': 4234, 'exhaust': 4235, 'runner': 4236, 'guitar': 4237, 'bias': 4238, 'despis': 4239, 'tactic': 4240, 'technicolor': 4241, 'bridget': 4242, 'robber': 4243, 'preposter': 4244, 'grief': 4245, 'penni': 4246, 'stuart': 4247, 'drove': 4248, 'consciou': 4249, 'inabl': 4250, 'gregori': 4251, 'connor': 4252, 'sugar': 4253, 'cigarett': 4254, 'jacket': 4255, 'rehash': 4256, 'marc': 4257, 'unexpectedli': 4258, 'flair': 4259, 'palanc': 4260, 'jodi': 4261, 'implic': 4262, 'culmin': 4263, 'delv': 4264, 'lacklust': 4265, 'vomit': 4266, 'bloom': 4267, 'propos': 4268, 'russia': 4269, 'boyl': 4270, 'agenc': 4271, 'sniper': 4272, 'restrict': 4273, 'rear': 4274, 'liberti': 4275, 'kansa': 4276, 'invad': 4277, 'sentinel': 4278, 'newman': 4279, 'passag': 4280, 'alley': 4281, 'downey': 4282, 'alicia': 4283, 'aesthet': 4284, 'arrow': 4285, 'asylum': 4286, 'rehears': 4287, 'rod': 4288, '22': 4289, 'ladder': 4290, 'sharon': 4291, 'karl': 4292, 'tendenc': 4293, 'delet': 4294, 'rampag': 4295, 'awhil': 4296, 'yeti': 4297, 'cap': 4298, 'behaviour': 4299, 'kolchak': 4300, 'improb': 4301, 'wrench': 4302, 'lush': 4303, 'feat': 4304, 'pale': 4305, 'tripe': 4306, 'vet': 4307, 'horn': 4308, 'foxx': 4309, 'mccoy': 4310, 'chainsaw': 4311, '1936': 4312, 'bacon': 4313, 'prank': 4314, 'tasteless': 4315, 'elit': 4316, 'sung': 4317, 'fright': 4318, 'newcom': 4319, 'conscienc': 4320, 'lurk': 4321, 'amazon': 4322, 'weav': 4323, '1988': 4324, 'hackney': 4325, 'visitor': 4326, 'hungri': 4327, 'globe': 4328, 'paramount': 4329, 'rhythm': 4330, 'loneli': 4331, '1920': 4332, 'spice': 4333, 'stream': 4334, 'coaster': 4335, 'wildli': 4336, 'suffici': 4337, 'tomorrow': 4338, 'minu': 4339, 'shortcom': 4340, 'hulk': 4341, 'rumor': 4342, 'financ': 4343, '1978': 4344, 'basing': 4345, 'filler': 4346, 'paradis': 4347, '19th': 4348, 'suspicion': 4349, 'underneath': 4350, 'thunderbird': 4351, 'el': 4352, 'aristocrat': 4353, 'scoop': 4354, 'wagner': 4355, 'couch': 4356, 'atroc': 4357, 'penn': 4358, 'dirt': 4359, 'counterpart': 4360, 'lectur': 4361, 'straightforward': 4362, 'standout': 4363, '1939': 4364, 'naughti': 4365, 'tierney': 4366, 'recogniz': 4367, 'minist': 4368, '75': 4369, 'ingeni': 4370, 'impos': 4371, 'heist': 4372, '1989': 4373, 'posey': 4374, 'immers': 4375, 'curli': 4376, 'entranc': 4377, 'beverli': 4378, 'choppi': 4379, 'quietli': 4380, 'hopkin': 4381, 'brit': 4382, 'smell': 4383, 'secondari': 4384, 'rub': 4385, 'chamberlain': 4386, 'cancer': 4387, 'worship': 4388, 'inmat': 4389, 'iv': 4390, 'teas': 4391, 'en': 4392, 'chavez': 4393, 'grudg': 4394, 'literari': 4395, 'bread': 4396, 'wwe': 4397, 'ram': 4398, 'leigh': 4399, 'abrupt': 4400, 'springer': 4401, 'paxton': 4402, 'sassi': 4403, 'yearn': 4404, 'morbid': 4405, 'misguid': 4406, 'lindsay': 4407, 'bernard': 4408, 'cattl': 4409, 'enthral': 4410, 'transcend': 4411, 'variat': 4412, 'clan': 4413, 'quaid': 4414, 'nolan': 4415, 'sublim': 4416, 'attenborough': 4417, 'moreov': 4418, 'heartfelt': 4419, 'entitl': 4420, 'convert': 4421, 'ace': 4422, 'watcher': 4423, 'duel': 4424, 'nemesi': 4425, '1986': 4426, 'laurenc': 4427, 'policeman': 4428, 'missil': 4429, 'ratso': 4430, 'skeptic': 4431, 'esther': 4432, 'injuri': 4433, 'geni': 4434, 'net': 4435, 'spiral': 4436, 'egg': 4437, 'poe': 4438, 'bye': 4439, 'moder': 4440, 'youngest': 4441, 'uncut': 4442, 'enabl': 4443, 'brood': 4444, '1979': 4445, 'bean': 4446, 'vader': 4447, 'out': 4448, 'graini': 4449, 'buzz': 4450, 'kidman': 4451, 'artsi': 4452, 'tyler': 4453, 'steadi': 4454, 'rosemari': 4455, 'cruelti': 4456, 'carlito': 4457, 'hopelessli': 4458, 'puppi': 4459, 'grin': 4460, 'reliabl': 4461, 'unexplain': 4462, 'dont': 4463, 'hk': 4464, 'facil': 4465, 'obstacl': 4466, 'kitti': 4467, 'mytholog': 4468, 'diari': 4469, 'setup': 4470, 'characteris': 4471, 'disastr': 4472, 'christin': 4473, 'narrow': 4474, 'gina': 4475, 'niec': 4476, 'exterior': 4477, 'weather': 4478, 'athlet': 4479, 'sweat': 4480, 'hammi': 4481, 'fuel': 4482, 'heap': 4483, 'patricia': 4484, 'oblig': 4485, 'bounc': 4486, 'decept': 4487, 'spontan': 4488, 'clueless': 4489, 'acquaint': 4490, 'martha': 4491, 'bewar': 4492, 'kline': 4493, 'effici': 4494, 'gillian': 4495, 'underworld': 4496, 'preming': 4497, 'baffl': 4498, '1969': 4499, 'despic': 4500, 'brendan': 4501, 'hain': 4502, 'bronson': 4503, 'scar': 4504, 'insipid': 4505, 'taboo': 4506, 'mayhem': 4507, 'candl': 4508, 'analyz': 4509, 'injur': 4510, 'housewif': 4511, 'angst': 4512, 'goof': 4513, 'headach': 4514, 'fontain': 4515, 'shatter': 4516, 'mermaid': 4517, 'enlist': 4518, 'outlaw': 4519, 'rome': 4520, 'sooner': 4521, 'astound': 4522, 'circu': 4523, 'sleepwalk': 4524, 'preachi': 4525, 'trigger': 4526, 'dandi': 4527, '19': 4528, 'tick': 4529, 'dilemma': 4530, 'uh': 4531, 'harmless': 4532, 'virtu': 4533, 'loath': 4534, 'lester': 4535, '73': 4536, 'biker': 4537, 'suprem': 4538, 'renaiss': 4539, 'loi': 4540, 'viewpoint': 4541, 'hepburn': 4542, 'filth': 4543, 'phenomenon': 4544, 'steer': 4545, 'bent': 4546, 'surgeri': 4547, 'overlong': 4548, 'fluff': 4549, 'idol': 4550, 'ebert': 4551, 'ariel': 4552, 'boston': 4553, 'cassavet': 4554, 'redund': 4555, 'hokey': 4556, 'stimul': 4557, 'camcord': 4558, 'whore': 4559, 'immatur': 4560, 'hooker': 4561, 'salt': 4562, 'amor': 4563, 'claustrophob': 4564, 'hostag': 4565, 'sox': 4566, 'guin': 4567, 'zoom': 4568, 'oldest': 4569, 'slimi': 4570, 'macho': 4571, 'scorses': 4572, 'dish': 4573, 'stair': 4574, 'glorifi': 4575, 'contempt': 4576, 'dismal': 4577, 'foolish': 4578, 'intric': 4579, 'tripl': 4580, 'spade': 4581, 'corbett': 4582, 'gere': 4583, 'messi': 4584, 'harold': 4585, 'transplant': 4586, 'corman': 4587, 'nolt': 4588, 'keen': 4589, 'zane': 4590, 'cush': 4591, 'widescreen': 4592, 'trivia': 4593, 'flirt': 4594, 'cohen': 4595, 'obligatori': 4596, 'gasp': 4597, 'spinal': 4598, 'remad': 4599, 'muscl': 4600, 'dwarf': 4601, 'proport': 4602, 'schlock': 4603, 'joker': 4604, 'margin': 4605, '1976': 4606, 'perman': 4607, 'mutual': 4608, 'naschi': 4609, 'spree': 4610, 'gabl': 4611, 'alvin': 4612, 'flag': 4613, 'rhyme': 4614, 'shred': 4615, 'radiat': 4616, 'astronaut': 4617, 'antagonist': 4618, 'down': 4619, 'beard': 4620, 'shield': 4621, 'strongest': 4622, 'frantic': 4623, 'cow': 4624, 'fascist': 4625, 'preced': 4626, 'assert': 4627, 'mount': 4628, 'flashi': 4629, 'faint': 4630, 'conquer': 4631, '1981': 4632, 'carey': 4633, 'repris': 4634, 'info': 4635, 'instruct': 4636, 'persuad': 4637, '95': 4638, 'divin': 4639, 'raj': 4640, 'strive': 4641, 'someday': 4642, 'mol': 4643, 'inflict': 4644, 'wield': 4645, 'flock': 4646, 'bitten': 4647, 'vaniti': 4648, 'neurot': 4649, 'off': 4650, 'hara': 4651, 'claud': 4652, 'departur': 4653, 'sensual': 4654, 'bachelor': 4655, 'discern': 4656, 'www': 4657, 'boob': 4658, 'scandal': 4659, 'mobil': 4660, 'brush': 4661, 'interestingli': 4662, 'aborigin': 4663, 'ritchi': 4664, 'danish': 4665, 'fishburn': 4666, 'triangl': 4667, '1945': 4668, 'barn': 4669, 'resum': 4670, '28': 4671, 'deer': 4672, 'archiv': 4673, 'clad': 4674, 'pacif': 4675, 'proclaim': 4676, 'banter': 4677, 'artwork': 4678, 'cycl': 4679, 'dame': 4680, 'rot': 4681, 'cb': 4682, 'luka': 4683, 'jade': 4684, 'fragil': 4685, 'senior': 4686, 'prophet': 4687, 'biblic': 4688, 'helm': 4689, 'bate': 4690, 'recit': 4691, 'dim': 4692, 'neill': 4693, 'kathryn': 4694, 'carlo': 4695, 'submit': 4696, 'ish': 4697, 'hapless': 4698, 'mobster': 4699, 'anton': 4700, 'hug': 4701, 'heartwarm': 4702, 'earnest': 4703, 'colin': 4704, 'timberlak': 4705, 'dylan': 4706, 'hilar': 4707, 'undermin': 4708, 'miracul': 4709, 'vibrant': 4710, 'axe': 4711, 'cliffhang': 4712, 'frontier': 4713, 'melissa': 4714, 'pickford': 4715, 'loretta': 4716, 'harrison': 4717, 'europa': 4718, 'wendigo': 4719, 'traffic': 4720, 'pixar': 4721, 'cher': 4722, 'parson': 4723, 'casino': 4724, 'articl': 4725, 'illus': 4726, 'electron': 4727, 'breakfast': 4728, 'akin': 4729, 'bondag': 4730, 'vanessa': 4731, 'http': 4732, 'seedi': 4733, 'lucil': 4734, 'bikini': 4735, 'legitim': 4736, 'mason': 4737, 'redneck': 4738, 'aris': 4739, 'cerebr': 4740, 'wardrob': 4741, 'marlon': 4742, 'holocaust': 4743, 'blatantli': 4744, 'misfortun': 4745, 'estrang': 4746, 'jordan': 4747, 'rooki': 4748, 'foil': 4749, 'orphan': 4750, 'lui': 4751, 'vile': 4752, 'isra': 4753, 'jo': 4754, 'milo': 4755, 'flavor': 4756, 'pc': 4757, 'sicken': 4758, 'shepherd': 4759, 'nope': 4760, 'toronto': 4761, 'feast': 4762, 'antholog': 4763, 'eli': 4764, 'winchest': 4765, 'choke': 4766, 'token': 4767, 'trier': 4768, 'northern': 4769, 'venom': 4770, 'razor': 4771, 'static': 4772, 'mathieu': 4773, 'uma': 4774, 'alexandr': 4775, 'tack': 4776, 'psych': 4777, 'smack': 4778, 'huston': 4779, 'cartoonish': 4780, 'swept': 4781, 'feminin': 4782, 'charlton': 4783, 'gunga': 4784, 'outdat': 4785, 'ideolog': 4786, 'leather': 4787, 'peer': 4788, 'fifth': 4789, 'clinic': 4790, 'nightclub': 4791, 'deem': 4792, 'comprehend': 4793, 'shorter': 4794, 'abund': 4795, 'turd': 4796, 'magician': 4797, 'dudley': 4798, 'retriev': 4799, 'wrestler': 4800, 'linear': 4801, 'gilbert': 4802, 'glare': 4803, 'knightley': 4804, 'howl': 4805, 'oppon': 4806, 'highway': 4807, 'frog': 4808, 'audrey': 4809, 'boyer': 4810, 'ceremoni': 4811, 'disregard': 4812, 'affleck': 4813, 'styliz': 4814, 'snatch': 4815, 'uniformli': 4816, 'summar': 4817, '4th': 4818, 'sleaz': 4819, 'conrad': 4820, 'durat': 4821, 'bogu': 4822, '1991': 4823, 'lighter': 4824, 'senat': 4825, 'phenomen': 4826, 'client': 4827, 'corn': 4828, 'whack': 4829, 'greet': 4830, 'cemeteri': 4831, 'einstein': 4832, 'breakdown': 4833, 'salman': 4834, 'lifeless': 4835, 'mitch': 4836, 'chip': 4837, 'btw': 4838, 'newer': 4839, 'spine': 4840, 'energet': 4841, '1994': 4842, 'bastard': 4843, 'plate': 4844, 'potter': 4845, 'spawn': 4846, 'tara': 4847, 'cuban': 4848, 'evolut': 4849, 'boo': 4850, 'deliver': 4851, 'collector': 4852, 'monument': 4853, 'braveheart': 4854, 'moe': 4855, 'goldsworthi': 4856, 'lavish': 4857, 'compris': 4858, 'toe': 4859, 'outright': 4860, 'alleg': 4861, 'replay': 4862, 'embark': 4863, 'sorrow': 4864, 'clara': 4865, 'belli': 4866, 'mcqueen': 4867, 'kazan': 4868, 'trauma': 4869, 'neatli': 4870, 'signal': 4871, 'bulk': 4872, 'historian': 4873, 'liu': 4874, 'spectacl': 4875, 'ie': 4876, 'jam': 4877, 'kent': 4878, 'capot': 4879, 'lex': 4880, 'wtf': 4881, 'jare': 4882, 'jule': 4883, 'judd': 4884, 'constitut': 4885, 'inaccuraci': 4886, 'armstrong': 4887, 'pronounc': 4888, 'appl': 4889, 'firmli': 4890, 'nina': 4891, 'eleven': 4892, 'jedi': 4893, 'healthi': 4894, 'luxuri': 4895, 'undead': 4896, 'ol': 4897, 'occup': 4898, 'bori': 4899, 'randolph': 4900, '1974': 4901, 'fluid': 4902, '1977': 4903, 'evelyn': 4904, 'cecil': 4905, 'undertak': 4906, 'gilliam': 4907, 'creek': 4908, 'comb': 4909, 'truman': 4910, 'vignett': 4911, 'pepper': 4912, 'forgiven': 4913, 'porter': 4914, 'walt': 4915, 'antonio': 4916, 'blur': 4917, 'abound': 4918, 'decapit': 4919, 'inclus': 4920, 'relentless': 4921, 'sidewalk': 4922, 'knee': 4923, 'tokyo': 4924, 'galaxi': 4925, 'spray': 4926, 'inaccur': 4927, 'genet': 4928, 'propheci': 4929, 'lauren': 4930, 'curtain': 4931, 'comprehens': 4932, 'rosario': 4933, 'id': 4934, 'congratul': 4935, 'roar': 4936, 'subtli': 4937, 'fruit': 4938, 'bait': 4939, 'paula': 4940, 'meal': 4941, 'vain': 4942, 'miniseri': 4943, 'palm': 4944, 'basket': 4945, 'aussi': 4946, '1985': 4947, 'sacrif': 4948, 'cape': 4949, 'miami': 4950, 'groan': 4951, 'conan': 4952, 'unsuspect': 4953, 'mum': 4954, 'unattract': 4955, 'goldblum': 4956, 'pioneer': 4957, 'bsg': 4958, 'kiddi': 4959, 'ash': 4960, 'lanc': 4961, 'poker': 4962, 'carmen': 4963, 'macabr': 4964, 'weari': 4965, 'assort': 4966, 'dubiou': 4967, 'bravo': 4968, '21st': 4969, 'orchestr': 4970, 'verg': 4971, 'turtl': 4972, 'frontal': 4973, 'drone': 4974, 'scarfac': 4975, 'hackman': 4976, 'growth': 4977, 'vastli': 4978, 'masterson': 4979, 'hostil': 4980, 'monti': 4981, 'asset': 4982, 'motorcycl': 4983, 'substanti': 4984, 'playboy': 4985, 'rapidli': 4986, 'reincarn': 4987, 'cypher': 4988, 'profil': 4989, 'scariest': 4990, 'incorrect': 4991, 'weaker': 4992, 'bach': 4993, 'detach': 4994, 'omin': 4995, 'victorian': 4996, 'spill': 4997, 'modest': 4998, 'ingrid': 4999}\n"
     ]
    }
   ],
   "source": [
    "print(word_dict)"
   ]
  },
  {
   "cell_type": "code",
   "execution_count": 29,
   "metadata": {},
   "outputs": [
    {
     "data": {
      "text/plain": [
       "4998"
      ]
     },
     "execution_count": 29,
     "metadata": {},
     "output_type": "execute_result"
    }
   ],
   "source": [
    "len(word_dict)"
   ]
  },
  {
   "cell_type": "markdown",
   "metadata": {},
   "source": [
    "**Question:** What are the five most frequently appearing (tokenized) words in the training set? Does it makes sense that these words appear frequently in the training set?"
   ]
  },
  {
   "cell_type": "markdown",
   "metadata": {},
   "source": [
    "**Answer:**"
   ]
  },
  {
   "cell_type": "code",
   "execution_count": 17,
   "metadata": {},
   "outputs": [
    {
     "name": "stdout",
     "output_type": "stream",
     "text": [
      "movi\n",
      "film\n",
      "one\n",
      "like\n",
      "time\n",
      "good\n"
     ]
    }
   ],
   "source": [
    "count = 0\n",
    "for word in word_dict:\n",
    "    print(word)\n",
    "    if count>4:\n",
    "        break\n",
    "    count+=1\n"
   ]
  },
  {
   "cell_type": "markdown",
   "metadata": {},
   "source": [
    "### Save `word_dict`\n",
    "\n",
    "Later on when we construct an endpoint which processes a submitted review we will need to make use of the `word_dict` which we have created. As such, we will save it to a file now for future use."
   ]
  },
  {
   "cell_type": "code",
   "execution_count": 18,
   "metadata": {},
   "outputs": [],
   "source": [
    "data_dir = '../data/pytorch' # The folder we will use for storing data\n",
    "if not os.path.exists(data_dir): # Make sure that the folder exists\n",
    "    os.makedirs(data_dir)"
   ]
  },
  {
   "cell_type": "code",
   "execution_count": 19,
   "metadata": {},
   "outputs": [],
   "source": [
    "with open(os.path.join(data_dir, 'word_dict.pkl'), \"wb\") as f:\n",
    "    pickle.dump(word_dict, f)"
   ]
  },
  {
   "cell_type": "markdown",
   "metadata": {},
   "source": [
    "### Transform the reviews\n",
    "\n",
    "Now that we have our word dictionary which allows us to transform the words appearing in the reviews into integers, it is time to make use of it and convert our reviews to their integer sequence representation, making sure to pad or truncate to a fixed length, which in our case is `500`."
   ]
  },
  {
   "cell_type": "code",
   "execution_count": 22,
   "metadata": {},
   "outputs": [],
   "source": [
    "def convert_and_pad(word_dict, sentence, pad=500):\n",
    "    NOWORD = 0 # We will use 0 to represent the 'no word' category\n",
    "    INFREQ = 1 # and we use 1 to represent the infrequent words, i.e., words not appearing in word_dict\n",
    "    \n",
    "    working_sentence = [NOWORD] * pad\n",
    "    \n",
    "    for word_index, word in enumerate(sentence[:pad]):\n",
    "        if word in word_dict:\n",
    "            working_sentence[word_index] = word_dict[word]\n",
    "        else:\n",
    "            working_sentence[word_index] = INFREQ\n",
    "            \n",
    "    return working_sentence, min(len(sentence), pad)\n",
    "\n",
    "def convert_and_pad_data(word_dict, data, pad=500):\n",
    "    result = []\n",
    "    lengths = []\n",
    "    \n",
    "    for sentence in data:\n",
    "        converted, leng = convert_and_pad(word_dict, sentence, pad)\n",
    "        result.append(converted)\n",
    "        lengths.append(leng)\n",
    "        \n",
    "    return np.array(result), np.array(lengths)"
   ]
  },
  {
   "cell_type": "code",
   "execution_count": 23,
   "metadata": {},
   "outputs": [],
   "source": [
    "train_X, train_X_len = convert_and_pad_data(word_dict, train_X)\n",
    "test_X, test_X_len = convert_and_pad_data(word_dict, test_X)"
   ]
  },
  {
   "cell_type": "markdown",
   "metadata": {},
   "source": [
    "As a quick check to make sure that things are working as intended, check to see what one of the reviews in the training set looks like after having been processeed. Does this look reasonable? What is the length of a review in the training set?"
   ]
  },
  {
   "cell_type": "code",
   "execution_count": 30,
   "metadata": {},
   "outputs": [
    {
     "data": {
      "text/plain": [
       "array([   1, 3845,  741,  616,  505,   28, 2068, 1436,    1,  509,    1,\n",
       "          1, 2069,    1,   27,   86,  100,  325,  227,    1,    1, 3845,\n",
       "        613,  333,    1,    1, 1534, 1441,   62,  621, 1074,  302, 1715,\n",
       "        579,    1,  412,    3, 1715, 1123, 1870,  271,   30,  621,    1,\n",
       "        216,  599,    8, 1047,  519,    3,    1,  611, 1104,  183, 1510,\n",
       "          0,    0,    0,    0,    0,    0,    0,    0,    0,    0,    0,\n",
       "          0,    0,    0,    0,    0,    0,    0,    0,    0,    0,    0,\n",
       "          0,    0,    0,    0,    0,    0,    0,    0,    0,    0,    0,\n",
       "          0,    0,    0,    0,    0,    0,    0,    0,    0,    0,    0,\n",
       "          0,    0,    0,    0,    0,    0,    0,    0,    0,    0,    0,\n",
       "          0,    0,    0,    0,    0,    0,    0,    0,    0,    0,    0,\n",
       "          0,    0,    0,    0,    0,    0,    0,    0,    0,    0,    0,\n",
       "          0,    0,    0,    0,    0,    0,    0,    0,    0,    0,    0,\n",
       "          0,    0,    0,    0,    0,    0,    0,    0,    0,    0,    0,\n",
       "          0,    0,    0,    0,    0,    0,    0,    0,    0,    0,    0,\n",
       "          0,    0,    0,    0,    0,    0,    0,    0,    0,    0,    0,\n",
       "          0,    0,    0,    0,    0,    0,    0,    0,    0,    0,    0,\n",
       "          0,    0,    0,    0,    0,    0,    0,    0,    0,    0,    0,\n",
       "          0,    0,    0,    0,    0,    0,    0,    0,    0,    0,    0,\n",
       "          0,    0,    0,    0,    0,    0,    0,    0,    0,    0,    0,\n",
       "          0,    0,    0,    0,    0,    0,    0,    0,    0,    0,    0,\n",
       "          0,    0,    0,    0,    0,    0,    0,    0,    0,    0,    0,\n",
       "          0,    0,    0,    0,    0,    0,    0,    0,    0,    0,    0,\n",
       "          0,    0,    0,    0,    0,    0,    0,    0,    0,    0,    0,\n",
       "          0,    0,    0,    0,    0,    0,    0,    0,    0,    0,    0,\n",
       "          0,    0,    0,    0,    0,    0,    0,    0,    0,    0,    0,\n",
       "          0,    0,    0,    0,    0,    0,    0,    0,    0,    0,    0,\n",
       "          0,    0,    0,    0,    0,    0,    0,    0,    0,    0,    0,\n",
       "          0,    0,    0,    0,    0,    0,    0,    0,    0,    0,    0,\n",
       "          0,    0,    0,    0,    0,    0,    0,    0,    0,    0,    0,\n",
       "          0,    0,    0,    0,    0,    0,    0,    0,    0,    0,    0,\n",
       "          0,    0,    0,    0,    0,    0,    0,    0,    0,    0,    0,\n",
       "          0,    0,    0,    0,    0,    0,    0,    0,    0,    0,    0,\n",
       "          0,    0,    0,    0,    0,    0,    0,    0,    0,    0,    0,\n",
       "          0,    0,    0,    0,    0,    0,    0,    0,    0,    0,    0,\n",
       "          0,    0,    0,    0,    0,    0,    0,    0,    0,    0,    0,\n",
       "          0,    0,    0,    0,    0,    0,    0,    0,    0,    0,    0,\n",
       "          0,    0,    0,    0,    0,    0,    0,    0,    0,    0,    0,\n",
       "          0,    0,    0,    0,    0,    0,    0,    0,    0,    0,    0,\n",
       "          0,    0,    0,    0,    0,    0,    0,    0,    0,    0,    0,\n",
       "          0,    0,    0,    0,    0,    0,    0,    0,    0,    0,    0,\n",
       "          0,    0,    0,    0,    0,    0,    0,    0,    0,    0,    0,\n",
       "          0,    0,    0,    0,    0,    0,    0,    0,    0,    0,    0,\n",
       "          0,    0,    0,    0,    0,    0,    0,    0,    0,    0,    0,\n",
       "          0,    0,    0,    0,    0,    0,    0,    0,    0,    0,    0,\n",
       "          0,    0,    0,    0,    0])"
      ]
     },
     "execution_count": 30,
     "metadata": {},
     "output_type": "execute_result"
    }
   ],
   "source": [
    "# Use this cell to examine one of the processed reviews to make sure everything is working as intended.\n",
    "train_X[0]"
   ]
  },
  {
   "cell_type": "code",
   "execution_count": 31,
   "metadata": {},
   "outputs": [
    {
     "data": {
      "text/plain": [
       "500"
      ]
     },
     "execution_count": 31,
     "metadata": {},
     "output_type": "execute_result"
    }
   ],
   "source": [
    "len(train_X[0])"
   ]
  },
  {
   "cell_type": "markdown",
   "metadata": {},
   "source": [
    "**Question:** In the cells above we use the `preprocess_data` and `convert_and_pad_data` methods to process both the training and testing set. Why or why not might this be a problem?"
   ]
  },
  {
   "cell_type": "markdown",
   "metadata": {},
   "source": [
    "**Answer:** Original review sentences can vary the length size of reviews that's why preprocess_data and convert_and_pad_data methods were used to make sure that all the reviews in the training set were of same lenght. This helps in memory intensive."
   ]
  },
  {
   "cell_type": "markdown",
   "metadata": {},
   "source": [
    "## Step 3: Upload the data to S3\n",
    "\n",
    "As in the XGBoost notebook, we will need to upload the training dataset to S3 in order for our training code to access it. For now we will save it locally and we will upload to S3 later on.\n",
    "\n",
    "### Save the processed training dataset locally\n",
    "\n",
    "It is important to note the format of the data that we are saving as we will need to know it when we write the training code. In our case, each row of the dataset has the form `label`, `length`, `review[500]` where `review[500]` is a sequence of `500` integers representing the words in the review."
   ]
  },
  {
   "cell_type": "code",
   "execution_count": 32,
   "metadata": {},
   "outputs": [],
   "source": [
    "import pandas as pd\n",
    "    \n",
    "pd.concat([pd.DataFrame(train_y), pd.DataFrame(train_X_len), pd.DataFrame(train_X)], axis=1) \\\n",
    "        .to_csv(os.path.join(data_dir, 'train.csv'), header=False, index=False)"
   ]
  },
  {
   "cell_type": "markdown",
   "metadata": {},
   "source": [
    "### Uploading the training data\n",
    "\n",
    "\n",
    "Next, we need to upload the training data to the SageMaker default S3 bucket so that we can provide access to it while training our model."
   ]
  },
  {
   "cell_type": "code",
   "execution_count": 33,
   "metadata": {},
   "outputs": [],
   "source": [
    "import sagemaker\n",
    "\n",
    "sagemaker_session = sagemaker.Session()\n",
    "\n",
    "bucket = sagemaker_session.default_bucket()\n",
    "prefix = 'sagemaker/sentiment_rnn'\n",
    "\n",
    "role = sagemaker.get_execution_role()"
   ]
  },
  {
   "cell_type": "code",
   "execution_count": 34,
   "metadata": {},
   "outputs": [],
   "source": [
    "input_data = sagemaker_session.upload_data(path=data_dir, bucket=bucket, key_prefix=prefix)"
   ]
  },
  {
   "cell_type": "markdown",
   "metadata": {},
   "source": [
    "**NOTE:** The cell above uploads the entire contents of our data directory. This includes the `word_dict.pkl` file. This is fortunate as we will need this later on when we create an endpoint that accepts an arbitrary review. For now, we will just take note of the fact that it resides in the data directory (and so also in the S3 training bucket) and that we will need to make sure it gets saved in the model directory."
   ]
  },
  {
   "cell_type": "markdown",
   "metadata": {},
   "source": [
    "## Step 4: Build and Train the PyTorch Model\n",
    "\n",
    "In the XGBoost notebook we discussed what a model is in the SageMaker framework. In particular, a model comprises three objects\n",
    "\n",
    " - Model Artifacts,\n",
    " - Training Code, and\n",
    " - Inference Code,\n",
    " \n",
    "each of which interact with one another. In the XGBoost example we used training and inference code that was provided by Amazon. Here we will still be using containers provided by Amazon with the added benefit of being able to include our own custom code.\n",
    "\n",
    "We will start by implementing our own neural network in PyTorch along with a training script. For the purposes of this project we have provided the necessary model object in the `model.py` file, inside of the `train` folder. You can see the provided implementation by running the cell below."
   ]
  },
  {
   "cell_type": "code",
   "execution_count": 35,
   "metadata": {},
   "outputs": [
    {
     "name": "stdout",
     "output_type": "stream",
     "text": [
      "\u001b[34mimport\u001b[39;49;00m \u001b[04m\u001b[36mtorch.nn\u001b[39;49;00m \u001b[34mas\u001b[39;49;00m \u001b[04m\u001b[36mnn\u001b[39;49;00m\r\n",
      "\r\n",
      "\u001b[34mclass\u001b[39;49;00m \u001b[04m\u001b[32mLSTMClassifier\u001b[39;49;00m(nn.Module):\r\n",
      "    \u001b[33m\"\"\"\u001b[39;49;00m\r\n",
      "\u001b[33m    This is the simple RNN model we will be using to perform Sentiment Analysis.\u001b[39;49;00m\r\n",
      "\u001b[33m    \"\"\"\u001b[39;49;00m\r\n",
      "\r\n",
      "    \u001b[34mdef\u001b[39;49;00m \u001b[32m__init__\u001b[39;49;00m(\u001b[36mself\u001b[39;49;00m, embedding_dim, hidden_dim, vocab_size):\r\n",
      "        \u001b[33m\"\"\"\u001b[39;49;00m\r\n",
      "\u001b[33m        Initialize the model by settingg up the various layers.\u001b[39;49;00m\r\n",
      "\u001b[33m        \"\"\"\u001b[39;49;00m\r\n",
      "        \u001b[36msuper\u001b[39;49;00m(LSTMClassifier, \u001b[36mself\u001b[39;49;00m).\u001b[32m__init__\u001b[39;49;00m()\r\n",
      "\r\n",
      "        \u001b[36mself\u001b[39;49;00m.embedding = nn.Embedding(vocab_size, embedding_dim, padding_idx=\u001b[34m0\u001b[39;49;00m)\r\n",
      "        \u001b[36mself\u001b[39;49;00m.lstm = nn.LSTM(embedding_dim, hidden_dim)\r\n",
      "        \u001b[36mself\u001b[39;49;00m.dense = nn.Linear(in_features=hidden_dim, out_features=\u001b[34m1\u001b[39;49;00m)\r\n",
      "        \u001b[36mself\u001b[39;49;00m.sig = nn.Sigmoid()\r\n",
      "        \r\n",
      "        \u001b[36mself\u001b[39;49;00m.word_dict = \u001b[36mNone\u001b[39;49;00m\r\n",
      "\r\n",
      "    \u001b[34mdef\u001b[39;49;00m \u001b[32mforward\u001b[39;49;00m(\u001b[36mself\u001b[39;49;00m, x):\r\n",
      "        \u001b[33m\"\"\"\u001b[39;49;00m\r\n",
      "\u001b[33m        Perform a forward pass of our model on some input.\u001b[39;49;00m\r\n",
      "\u001b[33m        \"\"\"\u001b[39;49;00m\r\n",
      "        x = x.t()\r\n",
      "        lengths = x[\u001b[34m0\u001b[39;49;00m,:]\r\n",
      "        reviews = x[\u001b[34m1\u001b[39;49;00m:,:]\r\n",
      "        embeds = \u001b[36mself\u001b[39;49;00m.embedding(reviews)\r\n",
      "        lstm_out, _ = \u001b[36mself\u001b[39;49;00m.lstm(embeds)\r\n",
      "        out = \u001b[36mself\u001b[39;49;00m.dense(lstm_out)\r\n",
      "        out = out[lengths - \u001b[34m1\u001b[39;49;00m, \u001b[36mrange\u001b[39;49;00m(\u001b[36mlen\u001b[39;49;00m(lengths))]\r\n",
      "        \u001b[34mreturn\u001b[39;49;00m \u001b[36mself\u001b[39;49;00m.sig(out.squeeze())\r\n"
     ]
    }
   ],
   "source": [
    "!pygmentize train/model.py"
   ]
  },
  {
   "cell_type": "markdown",
   "metadata": {},
   "source": [
    "The important takeaway from the implementation provided is that there are three parameters that we may wish to tweak to improve the performance of our model. These are the embedding dimension, the hidden dimension and the size of the vocabulary. We will likely want to make these parameters configurable in the training script so that if we wish to modify them we do not need to modify the script itself. We will see how to do this later on. To start we will write some of the training code in the notebook so that we can more easily diagnose any issues that arise.\n",
    "\n",
    "First we will load a small portion of the training data set to use as a sample. It would be very time consuming to try and train the model completely in the notebook as we do not have access to a gpu and the compute instance that we are using is not particularly powerful. However, we can work on a small bit of the data to get a feel for how our training script is behaving."
   ]
  },
  {
   "cell_type": "code",
   "execution_count": 36,
   "metadata": {},
   "outputs": [],
   "source": [
    "import torch\n",
    "import torch.utils.data\n",
    "\n",
    "# Read in only the first 250 rows\n",
    "train_sample = pd.read_csv(os.path.join(data_dir, 'train.csv'), header=None, names=None, nrows=250)\n",
    "\n",
    "# Turn the input pandas dataframe into tensors\n",
    "train_sample_y = torch.from_numpy(train_sample[[0]].values).float().squeeze()\n",
    "train_sample_X = torch.from_numpy(train_sample.drop([0], axis=1).values).long()\n",
    "\n",
    "# Build the dataset\n",
    "train_sample_ds = torch.utils.data.TensorDataset(train_sample_X, train_sample_y)\n",
    "# Build the dataloader\n",
    "train_sample_dl = torch.utils.data.DataLoader(train_sample_ds, batch_size=50)"
   ]
  },
  {
   "cell_type": "markdown",
   "metadata": {},
   "source": [
    "### (TODO) Writing the training method\n",
    "\n",
    "Next we need to write the training code itself. This should be very similar to training methods that you have written before to train PyTorch models. We will leave any difficult aspects such as model saving / loading and parameter loading until a little later."
   ]
  },
  {
   "cell_type": "code",
   "execution_count": 39,
   "metadata": {},
   "outputs": [],
   "source": [
    "def train(model, train_loader, epochs, optimizer, loss_fn, device):\n",
    "    for epoch in range(1, epochs + 1):\n",
    "        model.train()\n",
    "        total_loss = 0\n",
    "        for batch in train_loader:         \n",
    "            batch_X, batch_y = batch\n",
    "            \n",
    "            batch_X = batch_X.to(device)\n",
    "            batch_y = batch_y.to(device)\n",
    "            \n",
    "            # TODO: Complete this train method to train the model provided.\n",
    "            optimizer.zero_grad()\n",
    "            out = model.forward(batch_X)\n",
    "            loss = loss_fn(out,batch_y)\n",
    "            loss.backward()\n",
    "            optimizer.step()\n",
    "            \n",
    "            total_loss += loss.data.item()\n",
    "        print(\"Epoch: {}, BCELoss: {}\".format(epoch, total_loss / len(train_loader)))"
   ]
  },
  {
   "cell_type": "markdown",
   "metadata": {},
   "source": [
    "Supposing we have the training method above, we will test that it is working by writing a bit of code in the notebook that executes our training method on the small sample training set that we loaded earlier. The reason for doing this in the notebook is so that we have an opportunity to fix any errors that arise early when they are easier to diagnose."
   ]
  },
  {
   "cell_type": "code",
   "execution_count": 40,
   "metadata": {},
   "outputs": [
    {
     "name": "stdout",
     "output_type": "stream",
     "text": [
      "Epoch: 1, BCELoss: 0.6951949596405029\n",
      "Epoch: 2, BCELoss: 0.6822884798049926\n",
      "Epoch: 3, BCELoss: 0.6724116802215576\n",
      "Epoch: 4, BCELoss: 0.6632101535797119\n",
      "Epoch: 5, BCELoss: 0.6537258625030518\n"
     ]
    }
   ],
   "source": [
    "import torch.optim as optim\n",
    "from train.model import LSTMClassifier\n",
    "\n",
    "device = torch.device(\"cuda\" if torch.cuda.is_available() else \"cpu\")\n",
    "model = LSTMClassifier(32, 100, 5000).to(device)\n",
    "optimizer = optim.Adam(model.parameters())\n",
    "loss_fn = torch.nn.BCELoss()\n",
    "\n",
    "train(model, train_sample_dl, 5, optimizer, loss_fn, device)"
   ]
  },
  {
   "cell_type": "markdown",
   "metadata": {},
   "source": [
    "In order to construct a PyTorch model using SageMaker we must provide SageMaker with a training script. We may optionally include a directory which will be copied to the container and from which our training code will be run. When the training container is executed it will check the uploaded directory (if there is one) for a `requirements.txt` file and install any required Python libraries, after which the training script will be run."
   ]
  },
  {
   "cell_type": "markdown",
   "metadata": {},
   "source": [
    "### (TODO) Training the model\n",
    "\n",
    "When a PyTorch model is constructed in SageMaker, an entry point must be specified. This is the Python file which will be executed when the model is trained. Inside of the `train` directory is a file called `train.py` which has been provided and which contains most of the necessary code to train our model. The only thing that is missing is the implementation of the `train()` method which you wrote earlier in this notebook.\n",
    "\n",
    "**TODO**: Copy the `train()` method written above and paste it into the `train/train.py` file where required.\n",
    "\n",
    "The way that SageMaker passes hyperparameters to the training script is by way of arguments. These arguments can then be parsed and used in the training script. To see how this is done take a look at the provided `train/train.py` file."
   ]
  },
  {
   "cell_type": "code",
   "execution_count": 41,
   "metadata": {},
   "outputs": [],
   "source": [
    "from sagemaker.pytorch import PyTorch\n",
    "\n",
    "estimator = PyTorch(entry_point=\"train.py\",\n",
    "                    source_dir=\"train\",\n",
    "                    role=role,\n",
    "                    framework_version='0.4.0',\n",
    "                    train_instance_count=1,\n",
    "                    train_instance_type='ml.p2.xlarge',\n",
    "                    hyperparameters={\n",
    "                        'epochs': 10,\n",
    "                        'hidden_dim': 200,\n",
    "                    })"
   ]
  },
  {
   "cell_type": "code",
   "execution_count": 42,
   "metadata": {},
   "outputs": [
    {
     "name": "stdout",
     "output_type": "stream",
     "text": [
      "2020-04-09 10:04:18 Starting - Starting the training job...\n",
      "2020-04-09 10:04:19 Starting - Launching requested ML instances......\n",
      "2020-04-09 10:05:21 Starting - Preparing the instances for training......\n",
      "2020-04-09 10:06:41 Downloading - Downloading input data......\n",
      "2020-04-09 10:07:48 Training - Training image download completed. Training in progress..\u001b[34mbash: cannot set terminal process group (-1): Inappropriate ioctl for device\u001b[0m\n",
      "\u001b[34mbash: no job control in this shell\u001b[0m\n",
      "\u001b[34m2020-04-09 10:07:49,118 sagemaker-containers INFO     Imported framework sagemaker_pytorch_container.training\u001b[0m\n",
      "\u001b[34m2020-04-09 10:07:49,143 sagemaker_pytorch_container.training INFO     Block until all host DNS lookups succeed.\u001b[0m\n",
      "\u001b[34m2020-04-09 10:07:52,167 sagemaker_pytorch_container.training INFO     Invoking user training script.\u001b[0m\n",
      "\u001b[34m2020-04-09 10:07:52,383 sagemaker-containers INFO     Module train does not provide a setup.py. \u001b[0m\n",
      "\u001b[34mGenerating setup.py\u001b[0m\n",
      "\u001b[34m2020-04-09 10:07:52,384 sagemaker-containers INFO     Generating setup.cfg\u001b[0m\n",
      "\u001b[34m2020-04-09 10:07:52,384 sagemaker-containers INFO     Generating MANIFEST.in\u001b[0m\n",
      "\u001b[34m2020-04-09 10:07:52,384 sagemaker-containers INFO     Installing module with the following command:\u001b[0m\n",
      "\u001b[34m/usr/bin/python -m pip install -U . -r requirements.txt\u001b[0m\n",
      "\u001b[34mProcessing /opt/ml/code\u001b[0m\n",
      "\u001b[34mCollecting pandas (from -r requirements.txt (line 1))\u001b[0m\n",
      "\u001b[34m  Downloading https://files.pythonhosted.org/packages/74/24/0cdbf8907e1e3bc5a8da03345c23cbed7044330bb8f73bb12e711a640a00/pandas-0.24.2-cp35-cp35m-manylinux1_x86_64.whl (10.0MB)\u001b[0m\n",
      "\u001b[34mCollecting numpy (from -r requirements.txt (line 2))\n",
      "  Downloading https://files.pythonhosted.org/packages/ff/18/c0b937e2f84095ae230196899e56d1d7d76c8e8424fb235ed7e5bb6d68af/numpy-1.18.2-cp35-cp35m-manylinux1_x86_64.whl (20.0MB)\u001b[0m\n",
      "\u001b[34mCollecting nltk (from -r requirements.txt (line 3))\n",
      "  Downloading https://files.pythonhosted.org/packages/f6/1d/d925cfb4f324ede997f6d47bea4d9babba51b49e87a767c170b77005889d/nltk-3.4.5.zip (1.5MB)\u001b[0m\n",
      "\u001b[34mCollecting beautifulsoup4 (from -r requirements.txt (line 4))\n",
      "  Downloading https://files.pythonhosted.org/packages/e8/b5/7bb03a696f2c9b7af792a8f51b82974e51c268f15e925fc834876a4efa0b/beautifulsoup4-4.9.0-py3-none-any.whl (109kB)\u001b[0m\n",
      "\u001b[34mCollecting html5lib (from -r requirements.txt (line 5))\n",
      "  Downloading https://files.pythonhosted.org/packages/a5/62/bbd2be0e7943ec8504b517e62bab011b4946e1258842bc159e5dfde15b96/html5lib-1.0.1-py2.py3-none-any.whl (117kB)\u001b[0m\n",
      "\u001b[34mRequirement already satisfied, skipping upgrade: python-dateutil>=2.5.0 in /usr/local/lib/python3.5/dist-packages (from pandas->-r requirements.txt (line 1)) (2.7.5)\u001b[0m\n",
      "\u001b[34mCollecting pytz>=2011k (from pandas->-r requirements.txt (line 1))\n",
      "  Downloading https://files.pythonhosted.org/packages/e7/f9/f0b53f88060247251bf481fa6ea62cd0d25bf1b11a87888e53ce5b7c8ad2/pytz-2019.3-py2.py3-none-any.whl (509kB)\u001b[0m\n",
      "\u001b[34mRequirement already satisfied, skipping upgrade: six in /usr/local/lib/python3.5/dist-packages (from nltk->-r requirements.txt (line 3)) (1.11.0)\u001b[0m\n",
      "\u001b[34mCollecting soupsieve>1.2 (from beautifulsoup4->-r requirements.txt (line 4))\n",
      "  Downloading https://files.pythonhosted.org/packages/05/cf/ea245e52f55823f19992447b008bcbb7f78efc5960d77f6c34b5b45b36dd/soupsieve-2.0-py2.py3-none-any.whl\u001b[0m\n",
      "\u001b[34mCollecting webencodings (from html5lib->-r requirements.txt (line 5))\n",
      "  Downloading https://files.pythonhosted.org/packages/f4/24/2a3e3df732393fed8b3ebf2ec078f05546de641fe1b667ee316ec1dcf3b7/webencodings-0.5.1-py2.py3-none-any.whl\u001b[0m\n",
      "\u001b[34mBuilding wheels for collected packages: nltk, train\n",
      "  Running setup.py bdist_wheel for nltk: started\u001b[0m\n",
      "\u001b[34m  Running setup.py bdist_wheel for nltk: finished with status 'done'\n",
      "  Stored in directory: /root/.cache/pip/wheels/96/86/f6/68ab24c23f207c0077381a5e3904b2815136b879538a24b483\n",
      "  Running setup.py bdist_wheel for train: started\u001b[0m\n",
      "\u001b[34m  Running setup.py bdist_wheel for train: finished with status 'done'\n",
      "  Stored in directory: /tmp/pip-ephem-wheel-cache-a1751dc_/wheels/35/24/16/37574d11bf9bde50616c67372a334f94fa8356bc7164af8ca3\u001b[0m\n",
      "\u001b[34mSuccessfully built nltk train\u001b[0m\n",
      "\u001b[34mInstalling collected packages: numpy, pytz, pandas, nltk, soupsieve, beautifulsoup4, webencodings, html5lib, train\n",
      "  Found existing installation: numpy 1.15.4\n",
      "    Uninstalling numpy-1.15.4:\n",
      "      Successfully uninstalled numpy-1.15.4\u001b[0m\n",
      "\u001b[34mSuccessfully installed beautifulsoup4-4.9.0 html5lib-1.0.1 nltk-3.4.5 numpy-1.18.2 pandas-0.24.2 pytz-2019.3 soupsieve-2.0 train-1.0.0 webencodings-0.5.1\u001b[0m\n",
      "\u001b[34mYou are using pip version 18.1, however version 20.0.2 is available.\u001b[0m\n",
      "\u001b[34mYou should consider upgrading via the 'pip install --upgrade pip' command.\u001b[0m\n",
      "\u001b[34m2020-04-09 10:08:04,568 sagemaker-containers INFO     Invoking user script\n",
      "\u001b[0m\n",
      "\u001b[34mTraining Env:\n",
      "\u001b[0m\n",
      "\u001b[34m{\n",
      "    \"output_data_dir\": \"/opt/ml/output/data\",\n",
      "    \"output_intermediate_dir\": \"/opt/ml/output/intermediate\",\n",
      "    \"framework_module\": \"sagemaker_pytorch_container.training:main\",\n",
      "    \"module_dir\": \"s3://sagemaker-ap-northeast-1-811142375701/sagemaker-pytorch-2020-04-09-10-04-17-041/source/sourcedir.tar.gz\",\n",
      "    \"network_interface_name\": \"eth0\",\n",
      "    \"additional_framework_parameters\": {},\n",
      "    \"input_dir\": \"/opt/ml/input\",\n",
      "    \"input_data_config\": {\n",
      "        \"training\": {\n",
      "            \"TrainingInputMode\": \"File\",\n",
      "            \"S3DistributionType\": \"FullyReplicated\",\n",
      "            \"RecordWrapperType\": \"None\"\n",
      "        }\n",
      "    },\n",
      "    \"num_gpus\": 1,\n",
      "    \"channel_input_dirs\": {\n",
      "        \"training\": \"/opt/ml/input/data/training\"\n",
      "    },\n",
      "    \"hosts\": [\n",
      "        \"algo-1\"\n",
      "    ],\n",
      "    \"current_host\": \"algo-1\",\n",
      "    \"user_entry_point\": \"train.py\",\n",
      "    \"hyperparameters\": {\n",
      "        \"hidden_dim\": 200,\n",
      "        \"epochs\": 10\n",
      "    },\n",
      "    \"input_config_dir\": \"/opt/ml/input/config\",\n",
      "    \"num_cpus\": 4,\n",
      "    \"log_level\": 20,\n",
      "    \"module_name\": \"train\",\n",
      "    \"job_name\": \"sagemaker-pytorch-2020-04-09-10-04-17-041\",\n",
      "    \"resource_config\": {\n",
      "        \"current_host\": \"algo-1\",\n",
      "        \"hosts\": [\n",
      "            \"algo-1\"\n",
      "        ],\n",
      "        \"network_interface_name\": \"eth0\"\n",
      "    },\n",
      "    \"output_dir\": \"/opt/ml/output\",\n",
      "    \"model_dir\": \"/opt/ml/model\"\u001b[0m\n",
      "\u001b[34m}\n",
      "\u001b[0m\n",
      "\u001b[34mEnvironment variables:\n",
      "\u001b[0m\n",
      "\u001b[34mSM_NETWORK_INTERFACE_NAME=eth0\u001b[0m\n",
      "\u001b[34mSM_LOG_LEVEL=20\u001b[0m\n",
      "\u001b[34mSM_TRAINING_ENV={\"additional_framework_parameters\":{},\"channel_input_dirs\":{\"training\":\"/opt/ml/input/data/training\"},\"current_host\":\"algo-1\",\"framework_module\":\"sagemaker_pytorch_container.training:main\",\"hosts\":[\"algo-1\"],\"hyperparameters\":{\"epochs\":10,\"hidden_dim\":200},\"input_config_dir\":\"/opt/ml/input/config\",\"input_data_config\":{\"training\":{\"RecordWrapperType\":\"None\",\"S3DistributionType\":\"FullyReplicated\",\"TrainingInputMode\":\"File\"}},\"input_dir\":\"/opt/ml/input\",\"job_name\":\"sagemaker-pytorch-2020-04-09-10-04-17-041\",\"log_level\":20,\"model_dir\":\"/opt/ml/model\",\"module_dir\":\"s3://sagemaker-ap-northeast-1-811142375701/sagemaker-pytorch-2020-04-09-10-04-17-041/source/sourcedir.tar.gz\",\"module_name\":\"train\",\"network_interface_name\":\"eth0\",\"num_cpus\":4,\"num_gpus\":1,\"output_data_dir\":\"/opt/ml/output/data\",\"output_dir\":\"/opt/ml/output\",\"output_intermediate_dir\":\"/opt/ml/output/intermediate\",\"resource_config\":{\"current_host\":\"algo-1\",\"hosts\":[\"algo-1\"],\"network_interface_name\":\"eth0\"},\"user_entry_point\":\"train.py\"}\u001b[0m\n",
      "\u001b[34mSM_HP_HIDDEN_DIM=200\u001b[0m\n",
      "\u001b[34mPYTHONPATH=/usr/local/bin:/usr/lib/python35.zip:/usr/lib/python3.5:/usr/lib/python3.5/plat-x86_64-linux-gnu:/usr/lib/python3.5/lib-dynload:/usr/local/lib/python3.5/dist-packages:/usr/lib/python3/dist-packages\u001b[0m\n",
      "\u001b[34mSM_CURRENT_HOST=algo-1\u001b[0m\n",
      "\u001b[34mSM_FRAMEWORK_MODULE=sagemaker_pytorch_container.training:main\u001b[0m\n",
      "\u001b[34mSM_NUM_GPUS=1\u001b[0m\n",
      "\u001b[34mSM_CHANNEL_TRAINING=/opt/ml/input/data/training\u001b[0m\n",
      "\u001b[34mSM_USER_ARGS=[\"--epochs\",\"10\",\"--hidden_dim\",\"200\"]\u001b[0m\n",
      "\u001b[34mSM_RESOURCE_CONFIG={\"current_host\":\"algo-1\",\"hosts\":[\"algo-1\"],\"network_interface_name\":\"eth0\"}\u001b[0m\n",
      "\u001b[34mSM_USER_ENTRY_POINT=train.py\u001b[0m\n",
      "\u001b[34mSM_OUTPUT_DATA_DIR=/opt/ml/output/data\u001b[0m\n",
      "\u001b[34mSM_HP_EPOCHS=10\u001b[0m\n",
      "\u001b[34mSM_CHANNELS=[\"training\"]\u001b[0m\n",
      "\u001b[34mSM_INPUT_DIR=/opt/ml/input\u001b[0m\n",
      "\u001b[34mSM_HOSTS=[\"algo-1\"]\u001b[0m\n",
      "\u001b[34mSM_FRAMEWORK_PARAMS={}\u001b[0m\n",
      "\u001b[34mSM_MODEL_DIR=/opt/ml/model\u001b[0m\n",
      "\u001b[34mSM_INPUT_DATA_CONFIG={\"training\":{\"RecordWrapperType\":\"None\",\"S3DistributionType\":\"FullyReplicated\",\"TrainingInputMode\":\"File\"}}\u001b[0m\n",
      "\u001b[34mSM_HPS={\"epochs\":10,\"hidden_dim\":200}\u001b[0m\n",
      "\u001b[34mSM_MODULE_DIR=s3://sagemaker-ap-northeast-1-811142375701/sagemaker-pytorch-2020-04-09-10-04-17-041/source/sourcedir.tar.gz\u001b[0m\n",
      "\u001b[34mSM_NUM_CPUS=4\u001b[0m\n",
      "\u001b[34mSM_MODULE_NAME=train\u001b[0m\n",
      "\u001b[34mSM_INPUT_CONFIG_DIR=/opt/ml/input/config\u001b[0m\n",
      "\u001b[34mSM_OUTPUT_DIR=/opt/ml/output\u001b[0m\n",
      "\u001b[34mSM_OUTPUT_INTERMEDIATE_DIR=/opt/ml/output/intermediate\n",
      "\u001b[0m\n",
      "\u001b[34mInvoking script with the following command:\n",
      "\u001b[0m\n",
      "\u001b[34m/usr/bin/python -m train --epochs 10 --hidden_dim 200\n",
      "\n",
      "\u001b[0m\n",
      "\u001b[34mUsing device cuda.\u001b[0m\n",
      "\u001b[34mGet train data loader.\u001b[0m\n",
      "\u001b[34mModel loaded with embedding_dim 32, hidden_dim 200, vocab_size 5000.\u001b[0m\n"
     ]
    },
    {
     "name": "stdout",
     "output_type": "stream",
     "text": [
      "\u001b[34mEpoch: 1, BCELoss: 0.6754768721911372\u001b[0m\n",
      "\u001b[34mEpoch: 2, BCELoss: 0.5968053267926586\u001b[0m\n",
      "\u001b[34mEpoch: 3, BCELoss: 0.506425423889744\u001b[0m\n",
      "\u001b[34mEpoch: 4, BCELoss: 0.4553656456421833\u001b[0m\n",
      "\u001b[34mEpoch: 5, BCELoss: 0.392016449753119\u001b[0m\n",
      "\u001b[34mEpoch: 6, BCELoss: 0.3541606147678531\u001b[0m\n",
      "\u001b[34mEpoch: 7, BCELoss: 0.3374400144937087\u001b[0m\n",
      "\u001b[34mEpoch: 8, BCELoss: 0.32156276277133394\u001b[0m\n",
      "\u001b[34mEpoch: 9, BCELoss: 0.30272790515909387\u001b[0m\n",
      "\u001b[34mEpoch: 10, BCELoss: 0.27734618314674925\u001b[0m\n",
      "\u001b[34m2020-04-09 10:11:01,638 sagemaker-containers INFO     Reporting training SUCCESS\u001b[0m\n",
      "\n",
      "2020-04-09 10:11:13 Uploading - Uploading generated training model\n",
      "2020-04-09 10:11:13 Completed - Training job completed\n",
      "Training seconds: 272\n",
      "Billable seconds: 272\n"
     ]
    }
   ],
   "source": [
    "estimator.fit({'training': input_data})"
   ]
  },
  {
   "cell_type": "markdown",
   "metadata": {},
   "source": [
    "## Step 5: Testing the model\n",
    "\n",
    "As mentioned at the top of this notebook, we will be testing this model by first deploying it and then sending the testing data to the deployed endpoint. We will do this so that we can make sure that the deployed model is working correctly.\n",
    "\n",
    "## Step 6: Deploy the model for testing\n",
    "\n",
    "Now that we have trained our model, we would like to test it to see how it performs. Currently our model takes input of the form `review_length, review[500]` where `review[500]` is a sequence of `500` integers which describe the words present in the review, encoded using `word_dict`. Fortunately for us, SageMaker provides built-in inference code for models with simple inputs such as this.\n",
    "\n",
    "There is one thing that we need to provide, however, and that is a function which loads the saved model. This function must be called `model_fn()` and takes as its only parameter a path to the directory where the model artifacts are stored. This function must also be present in the python file which we specified as the entry point. In our case the model loading function has been provided and so no changes need to be made.\n",
    "\n",
    "**NOTE**: When the built-in inference code is run it must import the `model_fn()` method from the `train.py` file. This is why the training code is wrapped in a main guard ( ie, `if __name__ == '__main__':` )\n",
    "\n",
    "Since we don't need to change anything in the code that was uploaded during training, we can simply deploy the current model as-is.\n",
    "\n",
    "**NOTE:** When deploying a model you are asking SageMaker to launch an compute instance that will wait for data to be sent to it. As a result, this compute instance will continue to run until *you* shut it down. This is important to know since the cost of a deployed endpoint depends on how long it has been running for.\n",
    "\n",
    "In other words **If you are no longer using a deployed endpoint, shut it down!**\n",
    "\n",
    "**TODO:** Deploy the trained model."
   ]
  },
  {
   "cell_type": "code",
   "execution_count": null,
   "metadata": {},
   "outputs": [
    {
     "name": "stdout",
     "output_type": "stream",
     "text": [
      "-------!"
     ]
    }
   ],
   "source": [
    "predictor = estimator.deploy(initial_instance_count = 1, instance_type = 'ml.m4.xlarge')"
   ]
  },
  {
   "cell_type": "markdown",
   "metadata": {},
   "source": [
    "## Step 7 - Use the model for testing\n",
    "\n",
    "Once deployed, we can read in the test data and send it off to our deployed model to get some results. Once we collect all of the results we can determine how accurate our model is."
   ]
  },
  {
   "cell_type": "code",
   "execution_count": 44,
   "metadata": {},
   "outputs": [],
   "source": [
    "test_X = pd.concat([pd.DataFrame(test_X_len), pd.DataFrame(test_X)], axis=1)"
   ]
  },
  {
   "cell_type": "code",
   "execution_count": 45,
   "metadata": {},
   "outputs": [],
   "source": [
    "# We split the data into chunks and send each chunk seperately, accumulating the results.\n",
    "\n",
    "def predict(data, rows=512):\n",
    "    split_array = np.array_split(data, int(data.shape[0] / float(rows) + 1))\n",
    "    predictions = np.array([])\n",
    "    for array in split_array:\n",
    "        predictions = np.append(predictions, predictor.predict(array))\n",
    "    \n",
    "    return predictions"
   ]
  },
  {
   "cell_type": "code",
   "execution_count": 46,
   "metadata": {},
   "outputs": [],
   "source": [
    "predictions = predict(test_X.values)\n",
    "predictions = [round(num) for num in predictions]"
   ]
  },
  {
   "cell_type": "code",
   "execution_count": 47,
   "metadata": {},
   "outputs": [
    {
     "data": {
      "text/plain": [
       "0.8482"
      ]
     },
     "execution_count": 47,
     "metadata": {},
     "output_type": "execute_result"
    }
   ],
   "source": [
    "from sklearn.metrics import accuracy_score\n",
    "accuracy_score(test_y, predictions)"
   ]
  },
  {
   "cell_type": "markdown",
   "metadata": {},
   "source": [
    "**Question:** How does this model compare to the XGBoost model you created earlier? Why might these two models perform differently on this dataset? Which do *you* think is better for sentiment analysis?"
   ]
  },
  {
   "cell_type": "markdown",
   "metadata": {},
   "source": [
    "**Answer:** The XGBoost Model which was created earlier have an accuracy of 0.85 and this model also gives accuracy of approxmiately 0.85. So both model provides same accuracy results."
   ]
  },
  {
   "cell_type": "markdown",
   "metadata": {},
   "source": [
    "### (TODO) More testing\n",
    "\n",
    "We now have a trained model which has been deployed and which we can send processed reviews to and which returns the predicted sentiment. However, ultimately we would like to be able to send our model an unprocessed review. That is, we would like to send the review itself as a string. For example, suppose we wish to send the following review to our model."
   ]
  },
  {
   "cell_type": "code",
   "execution_count": 48,
   "metadata": {},
   "outputs": [],
   "source": [
    "test_review = 'The simplest pleasures in life are the best, and this film is one of them. Combining a rather basic storyline of love and adventure this movie transcends the usual weekend fair with wit and unmitigated charm.'"
   ]
  },
  {
   "cell_type": "markdown",
   "metadata": {},
   "source": [
    "The question we now need to answer is, how do we send this review to our model?\n",
    "\n",
    "Recall in the first section of this notebook we did a bunch of data processing to the IMDb dataset. In particular, we did two specific things to the provided reviews.\n",
    " - Removed any html tags and stemmed the input\n",
    " - Encoded the review as a sequence of integers using `word_dict`\n",
    " \n",
    "In order process the review we will need to repeat these two steps.\n",
    "\n",
    "**TODO**: Using the `review_to_words` and `convert_and_pad` methods from section one, convert `test_review` into a numpy array `test_data` suitable to send to our model. Remember that our model expects input of the form `review_length, review[500]`."
   ]
  },
  {
   "cell_type": "code",
   "execution_count": 49,
   "metadata": {},
   "outputs": [],
   "source": [
    "# TODO: Convert test_review into a form usable by the model and save the results in test_data\n",
    "test_data = None\n",
    "test_data_review_to_words = review_to_words(test_review)\n",
    "test_data = [np.array(convert_and_pad(word_dict,test_data_review_to_words)[0])]"
   ]
  },
  {
   "cell_type": "markdown",
   "metadata": {},
   "source": [
    "Now that we have processed the review, we can send the resulting array to our model to predict the sentiment of the review."
   ]
  },
  {
   "cell_type": "code",
   "execution_count": 50,
   "metadata": {},
   "outputs": [
    {
     "data": {
      "text/plain": [
       "array(0.71248275, dtype=float32)"
      ]
     },
     "execution_count": 50,
     "metadata": {},
     "output_type": "execute_result"
    }
   ],
   "source": [
    "predictor.predict(test_data)"
   ]
  },
  {
   "cell_type": "markdown",
   "metadata": {},
   "source": [
    "Since the return value of our model is close to `1`, we can be certain that the review we submitted is positive."
   ]
  },
  {
   "cell_type": "markdown",
   "metadata": {},
   "source": [
    "### Delete the endpoint\n",
    "\n",
    "Of course, just like in the XGBoost notebook, once we've deployed an endpoint it continues to run until we tell it to shut down. Since we are done using our endpoint for now, we can delete it."
   ]
  },
  {
   "cell_type": "code",
   "execution_count": 51,
   "metadata": {},
   "outputs": [],
   "source": [
    "estimator.delete_endpoint()"
   ]
  },
  {
   "cell_type": "markdown",
   "metadata": {},
   "source": [
    "## Step 6 (again) - Deploy the model for the web app\n",
    "\n",
    "Now that we know that our model is working, it's time to create some custom inference code so that we can send the model a review which has not been processed and have it determine the sentiment of the review.\n",
    "\n",
    "As we saw above, by default the estimator which we created, when deployed, will use the entry script and directory which we provided when creating the model. However, since we now wish to accept a string as input and our model expects a processed review, we need to write some custom inference code.\n",
    "\n",
    "We will store the code that we write in the `serve` directory. Provided in this directory is the `model.py` file that we used to construct our model, a `utils.py` file which contains the `review_to_words` and `convert_and_pad` pre-processing functions which we used during the initial data processing, and `predict.py`, the file which will contain our custom inference code. Note also that `requirements.txt` is present which will tell SageMaker what Python libraries are required by our custom inference code.\n",
    "\n",
    "When deploying a PyTorch model in SageMaker, you are expected to provide four functions which the SageMaker inference container will use.\n",
    " - `model_fn`: This function is the same function that we used in the training script and it tells SageMaker how to load our model.\n",
    " - `input_fn`: This function receives the raw serialized input that has been sent to the model's endpoint and its job is to de-serialize and make the input available for the inference code.\n",
    " - `output_fn`: This function takes the output of the inference code and its job is to serialize this output and return it to the caller of the model's endpoint.\n",
    " - `predict_fn`: The heart of the inference script, this is where the actual prediction is done and is the function which you will need to complete.\n",
    "\n",
    "For the simple website that we are constructing during this project, the `input_fn` and `output_fn` methods are relatively straightforward. We only require being able to accept a string as input and we expect to return a single value as output. You might imagine though that in a more complex application the input or output may be image data or some other binary data which would require some effort to serialize.\n",
    "\n",
    "### (TODO) Writing inference code\n",
    "\n",
    "Before writing our custom inference code, we will begin by taking a look at the code which has been provided."
   ]
  },
  {
   "cell_type": "code",
   "execution_count": 52,
   "metadata": {},
   "outputs": [
    {
     "name": "stdout",
     "output_type": "stream",
     "text": [
      "\u001b[34mimport\u001b[39;49;00m \u001b[04m\u001b[36margparse\u001b[39;49;00m\r\n",
      "\u001b[34mimport\u001b[39;49;00m \u001b[04m\u001b[36mjson\u001b[39;49;00m\r\n",
      "\u001b[34mimport\u001b[39;49;00m \u001b[04m\u001b[36mos\u001b[39;49;00m\r\n",
      "\u001b[34mimport\u001b[39;49;00m \u001b[04m\u001b[36mpickle\u001b[39;49;00m\r\n",
      "\u001b[34mimport\u001b[39;49;00m \u001b[04m\u001b[36msys\u001b[39;49;00m\r\n",
      "\u001b[34mimport\u001b[39;49;00m \u001b[04m\u001b[36msagemaker_containers\u001b[39;49;00m\r\n",
      "\u001b[34mimport\u001b[39;49;00m \u001b[04m\u001b[36mpandas\u001b[39;49;00m \u001b[34mas\u001b[39;49;00m \u001b[04m\u001b[36mpd\u001b[39;49;00m\r\n",
      "\u001b[34mimport\u001b[39;49;00m \u001b[04m\u001b[36mnumpy\u001b[39;49;00m \u001b[34mas\u001b[39;49;00m \u001b[04m\u001b[36mnp\u001b[39;49;00m\r\n",
      "\u001b[34mimport\u001b[39;49;00m \u001b[04m\u001b[36mtorch\u001b[39;49;00m\r\n",
      "\u001b[34mimport\u001b[39;49;00m \u001b[04m\u001b[36mtorch.nn\u001b[39;49;00m \u001b[34mas\u001b[39;49;00m \u001b[04m\u001b[36mnn\u001b[39;49;00m\r\n",
      "\u001b[34mimport\u001b[39;49;00m \u001b[04m\u001b[36mtorch.optim\u001b[39;49;00m \u001b[34mas\u001b[39;49;00m \u001b[04m\u001b[36moptim\u001b[39;49;00m\r\n",
      "\u001b[34mimport\u001b[39;49;00m \u001b[04m\u001b[36mtorch.utils.data\u001b[39;49;00m\r\n",
      "\r\n",
      "\u001b[34mfrom\u001b[39;49;00m \u001b[04m\u001b[36mmodel\u001b[39;49;00m \u001b[34mimport\u001b[39;49;00m LSTMClassifier\r\n",
      "\r\n",
      "\u001b[34mfrom\u001b[39;49;00m \u001b[04m\u001b[36mutils\u001b[39;49;00m \u001b[34mimport\u001b[39;49;00m review_to_words, convert_and_pad\r\n",
      "\r\n",
      "\u001b[34mdef\u001b[39;49;00m \u001b[32mmodel_fn\u001b[39;49;00m(model_dir):\r\n",
      "    \u001b[33m\"\"\"Load the PyTorch model from the `model_dir` directory.\"\"\"\u001b[39;49;00m\r\n",
      "    \u001b[34mprint\u001b[39;49;00m(\u001b[33m\"\u001b[39;49;00m\u001b[33mLoading model.\u001b[39;49;00m\u001b[33m\"\u001b[39;49;00m)\r\n",
      "\r\n",
      "    \u001b[37m# First, load the parameters used to create the model.\u001b[39;49;00m\r\n",
      "    model_info = {}\r\n",
      "    model_info_path = os.path.join(model_dir, \u001b[33m'\u001b[39;49;00m\u001b[33mmodel_info.pth\u001b[39;49;00m\u001b[33m'\u001b[39;49;00m)\r\n",
      "    \u001b[34mwith\u001b[39;49;00m \u001b[36mopen\u001b[39;49;00m(model_info_path, \u001b[33m'\u001b[39;49;00m\u001b[33mrb\u001b[39;49;00m\u001b[33m'\u001b[39;49;00m) \u001b[34mas\u001b[39;49;00m f:\r\n",
      "        model_info = torch.load(f)\r\n",
      "\r\n",
      "    \u001b[34mprint\u001b[39;49;00m(\u001b[33m\"\u001b[39;49;00m\u001b[33mmodel_info: {}\u001b[39;49;00m\u001b[33m\"\u001b[39;49;00m.format(model_info))\r\n",
      "\r\n",
      "    \u001b[37m# Determine the device and construct the model.\u001b[39;49;00m\r\n",
      "    device = torch.device(\u001b[33m\"\u001b[39;49;00m\u001b[33mcuda\u001b[39;49;00m\u001b[33m\"\u001b[39;49;00m \u001b[34mif\u001b[39;49;00m torch.cuda.is_available() \u001b[34melse\u001b[39;49;00m \u001b[33m\"\u001b[39;49;00m\u001b[33mcpu\u001b[39;49;00m\u001b[33m\"\u001b[39;49;00m)\r\n",
      "    model = LSTMClassifier(model_info[\u001b[33m'\u001b[39;49;00m\u001b[33membedding_dim\u001b[39;49;00m\u001b[33m'\u001b[39;49;00m], model_info[\u001b[33m'\u001b[39;49;00m\u001b[33mhidden_dim\u001b[39;49;00m\u001b[33m'\u001b[39;49;00m], model_info[\u001b[33m'\u001b[39;49;00m\u001b[33mvocab_size\u001b[39;49;00m\u001b[33m'\u001b[39;49;00m])\r\n",
      "\r\n",
      "    \u001b[37m# Load the store model parameters.\u001b[39;49;00m\r\n",
      "    model_path = os.path.join(model_dir, \u001b[33m'\u001b[39;49;00m\u001b[33mmodel.pth\u001b[39;49;00m\u001b[33m'\u001b[39;49;00m)\r\n",
      "    \u001b[34mwith\u001b[39;49;00m \u001b[36mopen\u001b[39;49;00m(model_path, \u001b[33m'\u001b[39;49;00m\u001b[33mrb\u001b[39;49;00m\u001b[33m'\u001b[39;49;00m) \u001b[34mas\u001b[39;49;00m f:\r\n",
      "        model.load_state_dict(torch.load(f))\r\n",
      "\r\n",
      "    \u001b[37m# Load the saved word_dict.\u001b[39;49;00m\r\n",
      "    word_dict_path = os.path.join(model_dir, \u001b[33m'\u001b[39;49;00m\u001b[33mword_dict.pkl\u001b[39;49;00m\u001b[33m'\u001b[39;49;00m)\r\n",
      "    \u001b[34mwith\u001b[39;49;00m \u001b[36mopen\u001b[39;49;00m(word_dict_path, \u001b[33m'\u001b[39;49;00m\u001b[33mrb\u001b[39;49;00m\u001b[33m'\u001b[39;49;00m) \u001b[34mas\u001b[39;49;00m f:\r\n",
      "        model.word_dict = pickle.load(f)\r\n",
      "\r\n",
      "    model.to(device).eval()\r\n",
      "\r\n",
      "    \u001b[34mprint\u001b[39;49;00m(\u001b[33m\"\u001b[39;49;00m\u001b[33mDone loading model.\u001b[39;49;00m\u001b[33m\"\u001b[39;49;00m)\r\n",
      "    \u001b[34mreturn\u001b[39;49;00m model\r\n",
      "\r\n",
      "\u001b[34mdef\u001b[39;49;00m \u001b[32minput_fn\u001b[39;49;00m(serialized_input_data, content_type):\r\n",
      "    \u001b[34mprint\u001b[39;49;00m(\u001b[33m'\u001b[39;49;00m\u001b[33mDeserializing the input data.\u001b[39;49;00m\u001b[33m'\u001b[39;49;00m)\r\n",
      "    \u001b[34mif\u001b[39;49;00m content_type == \u001b[33m'\u001b[39;49;00m\u001b[33mtext/plain\u001b[39;49;00m\u001b[33m'\u001b[39;49;00m:\r\n",
      "        data = serialized_input_data.decode(\u001b[33m'\u001b[39;49;00m\u001b[33mutf-8\u001b[39;49;00m\u001b[33m'\u001b[39;49;00m)\r\n",
      "        \u001b[34mreturn\u001b[39;49;00m data\r\n",
      "    \u001b[34mraise\u001b[39;49;00m \u001b[36mException\u001b[39;49;00m(\u001b[33m'\u001b[39;49;00m\u001b[33mRequested unsupported ContentType in content_type: \u001b[39;49;00m\u001b[33m'\u001b[39;49;00m + content_type)\r\n",
      "\r\n",
      "\u001b[34mdef\u001b[39;49;00m \u001b[32moutput_fn\u001b[39;49;00m(prediction_output, accept):\r\n",
      "    \u001b[34mprint\u001b[39;49;00m(\u001b[33m'\u001b[39;49;00m\u001b[33mSerializing the generated output.\u001b[39;49;00m\u001b[33m'\u001b[39;49;00m)\r\n",
      "    \u001b[34mreturn\u001b[39;49;00m \u001b[36mstr\u001b[39;49;00m(prediction_output)\r\n",
      "\r\n",
      "\u001b[34mdef\u001b[39;49;00m \u001b[32mpredict_fn\u001b[39;49;00m(input_data, model):\r\n",
      "    \u001b[34mprint\u001b[39;49;00m(\u001b[33m'\u001b[39;49;00m\u001b[33mInferring sentiment of input data.\u001b[39;49;00m\u001b[33m'\u001b[39;49;00m)\r\n",
      "\r\n",
      "    device = torch.device(\u001b[33m\"\u001b[39;49;00m\u001b[33mcuda\u001b[39;49;00m\u001b[33m\"\u001b[39;49;00m \u001b[34mif\u001b[39;49;00m torch.cuda.is_available() \u001b[34melse\u001b[39;49;00m \u001b[33m\"\u001b[39;49;00m\u001b[33mcpu\u001b[39;49;00m\u001b[33m\"\u001b[39;49;00m)\r\n",
      "    \r\n",
      "    \u001b[34mif\u001b[39;49;00m model.word_dict \u001b[35mis\u001b[39;49;00m \u001b[36mNone\u001b[39;49;00m:\r\n",
      "        \u001b[34mraise\u001b[39;49;00m \u001b[36mException\u001b[39;49;00m(\u001b[33m'\u001b[39;49;00m\u001b[33mModel has not been loaded properly, no word_dict.\u001b[39;49;00m\u001b[33m'\u001b[39;49;00m)\r\n",
      "    \r\n",
      "    \u001b[37m# TODO: Process input_data so that it is ready to be sent to our model.\u001b[39;49;00m\r\n",
      "    \u001b[37m#       You should produce two variables:\u001b[39;49;00m\r\n",
      "    \u001b[37m#         data_X   - A sequence of length 500 which represents the converted review\u001b[39;49;00m\r\n",
      "    \u001b[37m#         data_len - The length of the review\u001b[39;49;00m\r\n",
      "\r\n",
      "    data_X = \u001b[36mNone\u001b[39;49;00m\r\n",
      "    data_len = \u001b[36mNone\u001b[39;49;00m\r\n",
      "\r\n",
      "    \u001b[37m# Using data_X and data_len we construct an appropriate input tensor. Remember\u001b[39;49;00m\r\n",
      "    \u001b[37m# that our model expects input data of the form 'len, review[500]'.\u001b[39;49;00m\r\n",
      "    data_pack = np.hstack((data_len, data_X))\r\n",
      "    data_pack = data_pack.reshape(\u001b[34m1\u001b[39;49;00m, -\u001b[34m1\u001b[39;49;00m)\r\n",
      "    \r\n",
      "    data = torch.from_numpy(data_pack)\r\n",
      "    data = data.to(device)\r\n",
      "\r\n",
      "    \u001b[37m# Make sure to put the model into evaluation mode\u001b[39;49;00m\r\n",
      "    model.eval()\r\n",
      "\r\n",
      "    \u001b[37m# TODO: Compute the result of applying the model to the input data. The variable `result` should\u001b[39;49;00m\r\n",
      "    \u001b[37m#       be a numpy array which contains a single integer which is either 1 or 0\u001b[39;49;00m\r\n",
      "\r\n",
      "    result = \u001b[36mNone\u001b[39;49;00m\r\n",
      "\r\n",
      "    \u001b[34mreturn\u001b[39;49;00m result\r\n"
     ]
    }
   ],
   "source": [
    "!pygmentize serve/predict.py"
   ]
  },
  {
   "cell_type": "markdown",
   "metadata": {},
   "source": [
    "As mentioned earlier, the `model_fn` method is the same as the one provided in the training code and the `input_fn` and `output_fn` methods are very simple and your task will be to complete the `predict_fn` method. Make sure that you save the completed file as `predict.py` in the `serve` directory.\n",
    "\n",
    "**TODO**: Complete the `predict_fn()` method in the `serve/predict.py` file."
   ]
  },
  {
   "cell_type": "markdown",
   "metadata": {},
   "source": [
    "### Deploying the model\n",
    "\n",
    "Now that the custom inference code has been written, we will create and deploy our model. To begin with, we need to construct a new PyTorchModel object which points to the model artifacts created during training and also points to the inference code that we wish to use. Then we can call the deploy method to launch the deployment container.\n",
    "\n",
    "**NOTE**: The default behaviour for a deployed PyTorch model is to assume that any input passed to the predictor is a `numpy` array. In our case we want to send a string so we need to construct a simple wrapper around the `RealTimePredictor` class to accomodate simple strings. In a more complicated situation you may want to provide a serialization object, for example if you wanted to sent image data."
   ]
  },
  {
   "cell_type": "code",
   "execution_count": 59,
   "metadata": {},
   "outputs": [
    {
     "name": "stdout",
     "output_type": "stream",
     "text": [
      "-------------!"
     ]
    }
   ],
   "source": [
    "from sagemaker.predictor import RealTimePredictor\n",
    "from sagemaker.pytorch import PyTorchModel\n",
    "\n",
    "class StringPredictor(RealTimePredictor):\n",
    "    def __init__(self, endpoint_name, sagemaker_session):\n",
    "        super(StringPredictor, self).__init__(endpoint_name, sagemaker_session, content_type='text/plain')\n",
    "\n",
    "model = PyTorchModel(model_data=estimator.model_data,\n",
    "                     role = role,\n",
    "                     framework_version='0.4.0',\n",
    "                     entry_point='predict.py',\n",
    "                     source_dir='serve',\n",
    "                     predictor_cls=StringPredictor)\n",
    "predictor = model.deploy(initial_instance_count=1, instance_type='ml.m4.xlarge')"
   ]
  },
  {
   "cell_type": "markdown",
   "metadata": {},
   "source": [
    "### Testing the model\n",
    "\n",
    "Now that we have deployed our model with the custom inference code, we should test to see if everything is working. Here we test our model by loading the first `250` positive and negative reviews and send them to the endpoint, then collect the results. The reason for only sending some of the data is that the amount of time it takes for our model to process the input and then perform inference is quite long and so testing the entire data set would be prohibitive."
   ]
  },
  {
   "cell_type": "code",
   "execution_count": 62,
   "metadata": {},
   "outputs": [],
   "source": [
    "import glob\n",
    "\n",
    "def test_reviews(data_dir='../data/aclImdb', stop=250):\n",
    "    \n",
    "    results = []\n",
    "    ground = []\n",
    "    \n",
    "    # We make sure to test both positive and negative reviews    \n",
    "    for sentiment in ['pos', 'neg']:\n",
    "        \n",
    "        path = os.path.join(data_dir, 'test', sentiment, '*.txt')\n",
    "        files = glob.glob(path)\n",
    "        \n",
    "        files_read = 0\n",
    "        \n",
    "        print('Starting ', sentiment, ' files')\n",
    "        \n",
    "        # Iterate through the files and send them to the predictor\n",
    "        for f in files:\n",
    "            with open(f) as review:\n",
    "                # First, we store the ground truth (was the review positive or negative)\n",
    "                if sentiment == 'pos':\n",
    "                    ground.append(1)\n",
    "                else:\n",
    "                    ground.append(0)\n",
    "                # Read in the review and convert to 'utf-8' for transmission via HTTP\n",
    "                review_input = review.read().encode('utf-8')\n",
    "                # Send the review to the predictor and store the results\n",
    "                results.append(float(predictor.predict(review_input)))\n",
    "                \n",
    "            # Sending reviews to our endpoint one at a time takes a while so we\n",
    "            # only send a small number of reviews\n",
    "            files_read += 1\n",
    "            if files_read == stop:\n",
    "                break\n",
    "            \n",
    "    return ground, results"
   ]
  },
  {
   "cell_type": "code",
   "execution_count": 63,
   "metadata": {},
   "outputs": [
    {
     "name": "stdout",
     "output_type": "stream",
     "text": [
      "Starting  pos  files\n",
      "Starting  neg  files\n"
     ]
    }
   ],
   "source": [
    "ground, results = test_reviews()"
   ]
  },
  {
   "cell_type": "code",
   "execution_count": 64,
   "metadata": {},
   "outputs": [
    {
     "data": {
      "text/plain": [
       "0.85"
      ]
     },
     "execution_count": 64,
     "metadata": {},
     "output_type": "execute_result"
    }
   ],
   "source": [
    "from sklearn.metrics import accuracy_score\n",
    "accuracy_score(ground, results)"
   ]
  },
  {
   "cell_type": "markdown",
   "metadata": {},
   "source": [
    "As an additional test, we can try sending the `test_review` that we looked at earlier."
   ]
  },
  {
   "cell_type": "code",
   "execution_count": 65,
   "metadata": {},
   "outputs": [
    {
     "data": {
      "text/plain": [
       "b'1.0'"
      ]
     },
     "execution_count": 65,
     "metadata": {},
     "output_type": "execute_result"
    }
   ],
   "source": [
    "predictor.predict(test_review)"
   ]
  },
  {
   "cell_type": "markdown",
   "metadata": {},
   "source": [
    "Now that we know our endpoint is working as expected, we can set up the web page that will interact with it. If you don't have time to finish the project now, make sure to skip down to the end of this notebook and shut down your endpoint. You can deploy it again when you come back."
   ]
  },
  {
   "cell_type": "markdown",
   "metadata": {},
   "source": [
    "## Step 7 (again): Use the model for the web app\n",
    "\n",
    "> **TODO:** This entire section and the next contain tasks for you to complete, mostly using the AWS console.\n",
    "\n",
    "So far we have been accessing our model endpoint by constructing a predictor object which uses the endpoint and then just using the predictor object to perform inference. What if we wanted to create a web app which accessed our model? The way things are set up currently makes that not possible since in order to access a SageMaker endpoint the app would first have to authenticate with AWS using an IAM role which included access to SageMaker endpoints. However, there is an easier way! We just need to use some additional AWS services.\n",
    "\n",
    "<img src=\"Web App Diagram.svg\">\n",
    "\n",
    "The diagram above gives an overview of how the various services will work together. On the far right is the model which we trained above and which is deployed using SageMaker. On the far left is our web app that collects a user's movie review, sends it off and expects a positive or negative sentiment in return.\n",
    "\n",
    "In the middle is where some of the magic happens. We will construct a Lambda function, which you can think of as a straightforward Python function that can be executed whenever a specified event occurs. We will give this function permission to send and recieve data from a SageMaker endpoint.\n",
    "\n",
    "Lastly, the method we will use to execute the Lambda function is a new endpoint that we will create using API Gateway. This endpoint will be a url that listens for data to be sent to it. Once it gets some data it will pass that data on to the Lambda function and then return whatever the Lambda function returns. Essentially it will act as an interface that lets our web app communicate with the Lambda function.\n",
    "\n",
    "### Setting up a Lambda function\n",
    "\n",
    "The first thing we are going to do is set up a Lambda function. This Lambda function will be executed whenever our public API has data sent to it. When it is executed it will receive the data, perform any sort of processing that is required, send the data (the review) to the SageMaker endpoint we've created and then return the result.\n",
    "\n",
    "#### Part A: Create an IAM Role for the Lambda function\n",
    "\n",
    "Since we want the Lambda function to call a SageMaker endpoint, we need to make sure that it has permission to do so. To do this, we will construct a role that we can later give the Lambda function.\n",
    "\n",
    "Using the AWS Console, navigate to the **IAM** page and click on **Roles**. Then, click on **Create role**. Make sure that the **AWS service** is the type of trusted entity selected and choose **Lambda** as the service that will use this role, then click **Next: Permissions**.\n",
    "\n",
    "In the search box type `sagemaker` and select the check box next to the **AmazonSageMakerFullAccess** policy. Then, click on **Next: Review**.\n",
    "\n",
    "Lastly, give this role a name. Make sure you use a name that you will remember later on, for example `LambdaSageMakerRole`. Then, click on **Create role**.\n",
    "\n",
    "#### Part B: Create a Lambda function\n",
    "\n",
    "Now it is time to actually create the Lambda function.\n",
    "\n",
    "Using the AWS Console, navigate to the AWS Lambda page and click on **Create a function**. When you get to the next page, make sure that **Author from scratch** is selected. Now, name your Lambda function, using a name that you will remember later on, for example `sentiment_analysis_func`. Make sure that the **Python 3.6** runtime is selected and then choose the role that you created in the previous part. Then, click on **Create Function**.\n",
    "\n",
    "On the next page you will see some information about the Lambda function you've just created. If you scroll down you should see an editor in which you can write the code that will be executed when your Lambda function is triggered. In our example, we will use the code below. \n",
    "\n",
    "```python\n",
    "# We need to use the low-level library to interact with SageMaker since the SageMaker API\n",
    "# is not available natively through Lambda.\n",
    "import boto3\n",
    "\n",
    "def lambda_handler(event, context):\n",
    "\n",
    "    # The SageMaker runtime is what allows us to invoke the endpoint that we've created.\n",
    "    runtime = boto3.Session().client('sagemaker-runtime')\n",
    "\n",
    "    # Now we use the SageMaker runtime to invoke our endpoint, sending the review we were given\n",
    "    response = runtime.invoke_endpoint(EndpointName = '**ENDPOINT NAME HERE**',    # The name of the endpoint we created\n",
    "                                       ContentType = 'text/plain',                 # The data format that is expected\n",
    "                                       Body = event['body'])                       # The actual review\n",
    "\n",
    "    # The response is an HTTP response whose body contains the result of our inference\n",
    "    result = response['Body'].read().decode('utf-8')\n",
    "\n",
    "    return {\n",
    "        'statusCode' : 200,\n",
    "        'headers' : { 'Content-Type' : 'text/plain', 'Access-Control-Allow-Origin' : '*' },\n",
    "        'body' : result\n",
    "    }\n",
    "```\n",
    "\n",
    "Once you have copy and pasted the code above into the Lambda code editor, replace the `**ENDPOINT NAME HERE**` portion with the name of the endpoint that we deployed earlier. You can determine the name of the endpoint using the code cell below."
   ]
  },
  {
   "cell_type": "code",
   "execution_count": 66,
   "metadata": {},
   "outputs": [
    {
     "data": {
      "text/plain": [
       "'sagemaker-pytorch-2020-04-09-11-56-02-764'"
      ]
     },
     "execution_count": 66,
     "metadata": {},
     "output_type": "execute_result"
    }
   ],
   "source": [
    "predictor.endpoint"
   ]
  },
  {
   "cell_type": "markdown",
   "metadata": {},
   "source": [
    "Once you have added the endpoint name to the Lambda function, click on **Save**. Your Lambda function is now up and running. Next we need to create a way for our web app to execute the Lambda function.\n",
    "\n",
    "### Setting up API Gateway\n",
    "\n",
    "Now that our Lambda function is set up, it is time to create a new API using API Gateway that will trigger the Lambda function we have just created.\n",
    "\n",
    "Using AWS Console, navigate to **Amazon API Gateway** and then click on **Get started**.\n",
    "\n",
    "On the next page, make sure that **New API** is selected and give the new api a name, for example, `sentiment_analysis_api`. Then, click on **Create API**.\n",
    "\n",
    "Now we have created an API, however it doesn't currently do anything. What we want it to do is to trigger the Lambda function that we created earlier.\n",
    "\n",
    "Select the **Actions** dropdown menu and click **Create Method**. A new blank method will be created, select its dropdown menu and select **POST**, then click on the check mark beside it.\n",
    "\n",
    "For the integration point, make sure that **Lambda Function** is selected and click on the **Use Lambda Proxy integration**. This option makes sure that the data that is sent to the API is then sent directly to the Lambda function with no processing. It also means that the return value must be a proper response object as it will also not be processed by API Gateway.\n",
    "\n",
    "Type the name of the Lambda function you created earlier into the **Lambda Function** text entry box and then click on **Save**. Click on **OK** in the pop-up box that then appears, giving permission to API Gateway to invoke the Lambda function you created.\n",
    "\n",
    "The last step in creating the API Gateway is to select the **Actions** dropdown and click on **Deploy API**. You will need to create a new Deployment stage and name it anything you like, for example `prod`.\n",
    "\n",
    "You have now successfully set up a public API to access your SageMaker model. Make sure to copy or write down the URL provided to invoke your newly created public API as this will be needed in the next step. This URL can be found at the top of the page, highlighted in blue next to the text **Invoke URL**."
   ]
  },
  {
   "cell_type": "markdown",
   "metadata": {},
   "source": [
    "## Step 4: Deploying our web app\n",
    "\n",
    "Now that we have a publicly available API, we can start using it in a web app. For our purposes, we have provided a simple static html file which can make use of the public api you created earlier.\n",
    "\n",
    "In the `website` folder there should be a file called `index.html`. Download the file to your computer and open that file up in a text editor of your choice. There should be a line which contains **\\*\\*REPLACE WITH PUBLIC API URL\\*\\***. Replace this string with the url that you wrote down in the last step and then save the file.\n",
    "\n",
    "Now, if you open `index.html` on your local computer, your browser will behave as a local web server and you can use the provided site to interact with your SageMaker model.\n",
    "\n",
    "If you'd like to go further, you can host this html file anywhere you'd like, for example using github or hosting a static site on Amazon's S3. Once you have done this you can share the link with anyone you'd like and have them play with it too!\n",
    "\n",
    "> **Important Note** In order for the web app to communicate with the SageMaker endpoint, the endpoint has to actually be deployed and running. This means that you are paying for it. Make sure that the endpoint is running when you want to use the web app but that you shut it down when you don't need it, otherwise you will end up with a surprisingly large AWS bill.\n",
    "\n",
    "**TODO:** Make sure that you include the edited `index.html` file in your project submission."
   ]
  },
  {
   "cell_type": "markdown",
   "metadata": {},
   "source": [
    "Now that your web app is working, trying playing around with it and see how well it works.\n",
    "\n",
    "**Question**: Give an example of a review that you entered into your web app. What was the predicted sentiment of your example review?"
   ]
  },
  {
   "cell_type": "markdown",
   "metadata": {},
   "source": [
    "**Answer:** Review is for Avengers Endgame movie  \"Avengers Endgame is an excellent movie. It is the sequel to the first 3 phases in the Marvel Cinematic Universe. I would personally reccomend to anyone wanting to see the film and get the full emotional experience to watch all of the 21 marvel movies before it. This will give you background on the characters, the long background plot leading up to endgame. And all of the story, foreshadowing, and references to endgames plot prier to the movie releasing. The movie itself has excellent acting, CGI and special effects, and a very well done (easy to understand plot) . It has great family friendly humor and no graphic scenes of any sexual content besides kissing. There is some graphic death depictions but they are very quick. But nothing a 13 year old cannot understand. Overall in my opinion, avengers endgame is a must watch!!\" The predicted sentiment was positive."
   ]
  },
  {
   "cell_type": "markdown",
   "metadata": {},
   "source": [
    "### Delete the endpoint\n",
    "\n",
    "Remember to always shut down your endpoint if you are no longer using it. You are charged for the length of time that the endpoint is running so if you forget and leave it on you could end up with an unexpectedly large bill."
   ]
  },
  {
   "cell_type": "code",
   "execution_count": 67,
   "metadata": {},
   "outputs": [],
   "source": [
    "predictor.delete_endpoint()"
   ]
  },
  {
   "cell_type": "code",
   "execution_count": null,
   "metadata": {},
   "outputs": [],
   "source": []
  }
 ],
 "metadata": {
  "kernelspec": {
   "display_name": "conda_pytorch_p36",
   "language": "python",
   "name": "conda_pytorch_p36"
  },
  "language_info": {
   "codemirror_mode": {
    "name": "ipython",
    "version": 3
   },
   "file_extension": ".py",
   "mimetype": "text/x-python",
   "name": "python",
   "nbconvert_exporter": "python",
   "pygments_lexer": "ipython3",
   "version": "3.6.5"
  }
 },
 "nbformat": 4,
 "nbformat_minor": 2
}
